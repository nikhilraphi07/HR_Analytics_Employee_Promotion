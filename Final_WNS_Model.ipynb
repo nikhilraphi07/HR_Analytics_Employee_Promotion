{
 "cells": [
  {
   "cell_type": "code",
   "execution_count": 2,
   "metadata": {},
   "outputs": [],
   "source": [
    "import numpy as np\n",
    "import pandas as pd\n",
    "import matplotlib.pyplot as plt\n",
    "import seaborn as sns\n",
    "\n",
    "from pylab import rcParams\n",
    "rcParams['figure.figsize'] = 8, 5"
   ]
  },
  {
   "cell_type": "code",
   "execution_count": 3,
   "metadata": {},
   "outputs": [
    {
     "name": "stderr",
     "output_type": "stream",
     "text": [
      "C:\\ProgramData\\Anaconda3\\lib\\site-packages\\sklearn\\utils\\deprecation.py:143: FutureWarning: The sklearn.metrics.scorer module is  deprecated in version 0.22 and will be removed in version 0.24. The corresponding classes / functions should instead be imported from sklearn.metrics. Anything that cannot be imported from sklearn.metrics is now part of the private API.\n",
      "  warnings.warn(message, FutureWarning)\n",
      "C:\\ProgramData\\Anaconda3\\lib\\site-packages\\sklearn\\utils\\deprecation.py:143: FutureWarning: The sklearn.feature_selection.base module is  deprecated in version 0.22 and will be removed in version 0.24. The corresponding classes / functions should instead be imported from sklearn.feature_selection. Anything that cannot be imported from sklearn.feature_selection is now part of the private API.\n",
      "  warnings.warn(message, FutureWarning)\n"
     ]
    }
   ],
   "source": [
    "from sklearn.metrics import f1_score, roc_auc_score, log_loss, precision_score, recall_score, confusion_matrix\n",
    "from sklearn.model_selection import KFold, cross_val_predict\n",
    "from sklearn.tree import DecisionTreeClassifier\n",
    "from eli5.permutation_importance import get_score_importances\n",
    "import shap\n",
    "import lightgbm as lgb"
   ]
  },
  {
   "cell_type": "code",
   "execution_count": 4,
   "metadata": {},
   "outputs": [],
   "source": [
    "class TrainTestHelper(object):\n",
    "    def __init__(self):\n",
    "        self.ntrain = None\n",
    "\n",
    "    def combine(self, train, test):\n",
    "        self.ntrain = train.shape[0]\n",
    "        if isinstance(train, np.ndarray):\n",
    "            return np.row_stack((train, test))\n",
    "        else:\n",
    "            return train.append(test).reset_index(drop=True)\n",
    "\n",
    "    def split(self, train_test):\n",
    "        if self.ntrain is None:\n",
    "            return None\n",
    "        if isinstance(train_test, np.ndarray):\n",
    "            train = train_test[:self.ntrain, :]\n",
    "            test = train_test[self.ntrain:, :]\n",
    "        else:\n",
    "            train = train_test.iloc[:self.ntrain, :].copy().reset_index(drop=True)\n",
    "            test = train_test.iloc[self.ntrain:, :].copy().reset_index(drop=True)\n",
    "        return train, test"
   ]
  },
  {
   "cell_type": "code",
   "execution_count": 5,
   "metadata": {},
   "outputs": [],
   "source": [
    "class MeanEncoder(object):\n",
    "    def __init__(self, alpha=1, loo=False, noisy=False, noise_std=0, seed=0):\n",
    "        self.alpha = alpha\n",
    "        self.loo = loo\n",
    "        self.noisy = noisy\n",
    "        self.noise_std = noise_std\n",
    "        self.seed = np.random.RandomState(seed)\n",
    "    \n",
    "    # fit\n",
    "    def fit_column(self, X, y, col):\n",
    "        self.target_sums[col] = y.groupby(X[col]).sum()\n",
    "        self.target_counts[col] = y.groupby(X[col]).count()        \n",
    "        \n",
    "    def fit(self, X, y, cats):\n",
    "        self.global_mean = np.mean(y)\n",
    "        self.global_std = np.std(y) if self.noise_std is None else self.noise_std\n",
    "        self.target_sums = {}\n",
    "        self.target_counts = {}\n",
    "        for col in cats:\n",
    "            self.fit_column(X, y, col)\n",
    "    \n",
    "    # fit_transform\n",
    "    def fit_transform_column(self, X, y, col):\n",
    "        self.target_sums[col] = y.groupby(X[col]).sum()\n",
    "        self.target_counts[col] = y.groupby(X[col]).count()\n",
    "        \n",
    "        if self.noisy:\n",
    "            reg = self.seed.normal(loc=self.global_mean * self.alpha,\n",
    "                                     scale=self.global_std * np.sqrt(self.alpha),\n",
    "                                     size=len(y))\n",
    "        else:\n",
    "            reg = self.global_mean * self.alpha\n",
    "        \n",
    "        X_res_num = X[col].map(self.target_sums[col]) + reg\n",
    "        X_res_den = X[col].map(self.target_counts[col]) + self.alpha\n",
    "        \n",
    "        if self.loo:\n",
    "            X_res_num -= y\n",
    "            X_res_den -= 1\n",
    "        \n",
    "        return (X_res_num / X_res_den).values\n",
    "            \n",
    "    def fit_transform(self, X, y, cats):\n",
    "        self.global_mean = np.mean(y)\n",
    "        self.global_std = np.std(y) if self.noise_std is None else self.noise_std\n",
    "        self.target_sums = {}\n",
    "        self.target_counts = {}\n",
    "        X_res = pd.DataFrame()\n",
    "        \n",
    "        for col in cats:\n",
    "            X_res[col + '_mean_y'] = self.fit_transform_column(X, y, col)\n",
    "        \n",
    "        return X_res\n",
    "    \n",
    "    # transform\n",
    "    def transform_column(self, Xt, col):\n",
    "        Xt_res_num = Xt[col].map(self.target_sums[col]).fillna(0) + self.global_mean * self.alpha\n",
    "        Xt_res_den = Xt[col].map(self.target_counts[col]).fillna(0) + self.alpha\n",
    "        return (Xt_res_num / Xt_res_den).values\n",
    "    \n",
    "    def transform(self, Xt, cats):\n",
    "        Xt_res = pd.DataFrame()\n",
    "        for col in cats:\n",
    "            Xt_res[col + '_mean_y'] = self.transform_column(Xt, col)\n",
    "        return Xt_res"
   ]
  },
  {
   "cell_type": "code",
   "execution_count": 6,
   "metadata": {},
   "outputs": [],
   "source": [
    "class LGBWizard(object):\n",
    "    def __init__(self, params, cvparams):\n",
    "        self.params = params\n",
    "        self.cvparams = cvparams\n",
    "        \n",
    "    def fit(self, X, y, test, permute=None, get_shap=False):\n",
    "        \n",
    "        def score(X, y):\n",
    "            pred = self.model.predict(X)\n",
    "            return self.cvparams['metric'](y, pred)\n",
    "        \n",
    "        k = 0\n",
    "        fold_scores = []\n",
    "        self.fold_preds = []\n",
    "        self.target = y\n",
    "        self.feature_names = X.columns\n",
    "        self.cvpred = np.zeros(X.shape[0])\n",
    "        self.pred = np.zeros(test.shape[0])\n",
    "        \n",
    "        self.split_imp = np.zeros(X.shape[1])\n",
    "        self.gain_imp = np.zeros(X.shape[1])\n",
    "        self.perm_imp = np.zeros(X.shape[1])\n",
    "        self.shap_imp = np.zeros(X.shape[1])\n",
    "        \n",
    "        for tr, te in self.cvparams['folds'].split(X, y):\n",
    "            xtr, xte = X.loc[tr], X.loc[te]\n",
    "            ytr, yte = y[tr], y[te]\n",
    "            \n",
    "            #train_mean_features = mean_enc.fit_transform(xtr, ytr, to_enc)\n",
    "            #xtr = np.concatenate((xtr, train_mean_features), axis=1)\n",
    "            \n",
    "            #test_mean_features = mean_enc.transform(xte, to_enc)\n",
    "            #xte = np.concatenate((xte, test_mean_features), axis=1)\n",
    "            \n",
    "            xtr = lgb.Dataset(xtr, label=ytr)\n",
    "            xval = lgb.Dataset(xte, label=yte, reference=xtr)\n",
    "            self.model = lgb.train(self.params, xtr,\n",
    "                              num_boost_round=self.cvparams['nround'], valid_sets=[xtr, xval],\n",
    "                              early_stopping_rounds=self.cvparams['stopping'], verbose_eval=self.cvparams['verbose'])\n",
    "            self.cvpred[te] = self.model.predict(xte)\n",
    "            self.fold_preds.append(self.model.predict(test))\n",
    "            fold_scores.append(self.cvparams['metric'](yte, self.cvpred[te]))\n",
    "            print('Fold {}: {:.5f}'.format(k, fold_scores[-1]))\n",
    "            \n",
    "            self.split_imp += self.model.feature_importance(importance_type='split')\n",
    "            self.gain_imp += self.model.feature_importance(importance_type='gain')\n",
    "            \n",
    "            if permute is not None:\n",
    "                _, local_imp = get_score_importances(score, xte.values, yte, n_iter=permute, random_state=0)\n",
    "                self.perm_imp += np.mean(local_imp, axis=0)\n",
    "                \n",
    "            if get_shap:\n",
    "                explainer = shap.TreeExplainer(self.model)\n",
    "                self.shap_imp += np.sum(np.abs(explainer.shap_values(X.loc[tr])), axis=0) #X.loc[tr]\n",
    "                \n",
    "            k += 1\n",
    "        \n",
    "        self.split_imp /= k\n",
    "        self.gain_imp /= k\n",
    "        self.perm_imp /= -1 * k\n",
    "        self.shap_imp /= k\n",
    "        self.pred = np.mean(self.fold_preds, axis=0)\n",
    "        \n",
    "        print()\n",
    "        print('Mean score: {:.5f}'.format(np.mean(fold_scores)))\n",
    "        print('OOF score: {:.5f}'.format(self.cvparams['metric'](y, self.cvpred)))\n",
    "        print('Std of score: {:.5f}'.format(np.std(fold_scores)))\n",
    "        print('Mean std of test objects: {:.5f}'.format(np.mean(np.std(self.fold_preds, axis=0))))\n",
    "    \n",
    "    def compute_error(self):\n",
    "        eps = 1e-5\n",
    "        self.error = pd.DataFrame()\n",
    "        self.error['MAE'] = np.abs(self.target - self.cvpred)\n",
    "        self.error['MSE'] = (self.target - self.cvpred) ** 2\n",
    "        self.error['MAPE'] = np.abs((self.target - self.cvpred) / (self.target + eps))\n",
    "        self.error['MSPE'] = ((self.target - self.cvpred) / (self.target + eps)) ** 2\n",
    "        return self.error\n",
    "    \n",
    "    def get_importances(self):\n",
    "        all_imp = pd.DataFrame(index=self.feature_names)\n",
    "        all_imp['permutation'] = self.perm_imp\n",
    "        all_imp['shap'] = self.shap_imp\n",
    "        all_imp['gain'] = self.gain_imp\n",
    "        all_imp['split'] = self.split_imp\n",
    "        return all_imp.sort_values(by='permutation', ascending=False)\n",
    "    \n",
    "    def plot_prediction(self, size=(12, 7)):\n",
    "        eps = 0.1\n",
    "        _, ax = plt.subplots(figsize=size)\n",
    "        ax.scatter(self.cvpred, self.target, c='#0047ab', alpha=0.3)\n",
    "        props = {'xlim': (np.min(self.target) - eps, np.max(self.target) + eps),\n",
    "                 'ylim': (np.min(self.target) - eps, np.max(self.target) + eps),\n",
    "                 'title': 'OOF Prediction vs Target',\n",
    "                 'xlabel': 'Prediction',\n",
    "                 'ylabel': 'Target'}\n",
    "        ax.set(**props)\n",
    "        diag, = ax.plot(props['xlim'], props['ylim'], ls='--', c='black')\n",
    "        plt.show()\n",
    "        \n",
    "    def plot_prediction_std(self, size=(15, 5)):\n",
    "        _, ax = plt.subplots(figsize=size)\n",
    "        ax.plot(np.std(self.fold_preds, axis=0), c='#0047ab')\n",
    "        props = {'xlabel': 'test_example',\n",
    "                 'ylabel': 'std_test_example',\n",
    "                 'title': 'Stds of test examples'}\n",
    "        ax.set(**props)\n",
    "        plt.show()\n",
    "    \n",
    "    def plot_importances(self, size=(5, 15)): ######\n",
    "        _, ax = plt.subplots(figsize=size)#########\n",
    "        ax.barh(width=self.perm_imp, c='#0047ab')########\n",
    "        plt.show()######\n",
    "\n",
    "    def plot_error(self, error_type='MSE', size=(15, 5)):\n",
    "        _, ax = plt.subplots(figsize=size)\n",
    "        ax.plot(self.error[error_type], c='#0047ab')\n",
    "        props = {'xlabel': 'train_example',\n",
    "                 'ylabel': error_type.lower() + '_train_example',\n",
    "                 'title': error_type + ' of examples'}\n",
    "        ax.set(**props)\n",
    "        plt.show()\n",
    "    \n",
    "    def get_error_histogram(self, error_type='MSE', size=(12, 7)):\n",
    "        _, ax = plt.subplots(figsize=size)\n",
    "        ax.hist(self.error[error_type], c='#0047ab')\n",
    "        props = {'xlabel': 'train_set_error',\n",
    "                 'ylabel': error_type.lower() + '_error_frequency',\n",
    "                 'title': 'Histogram ' + error_type + ' of examples'}\n",
    "        ax.set(**props)\n",
    "        plt.show()"
   ]
  },
  {
   "cell_type": "code",
   "execution_count": 7,
   "metadata": {},
   "outputs": [],
   "source": [
    "train = pd.read_csv('train_LZdllcl.csv')\n",
    "test = pd.read_csv('test_2umaH9m.csv')\n",
    "sub = pd.read_csv('sample_submission_M0L0uXE.csv')\n",
    "del train['employee_id'], test['employee_id']"
   ]
  },
  {
   "cell_type": "code",
   "execution_count": 8,
   "metadata": {},
   "outputs": [
    {
     "name": "stdout",
     "output_type": "stream",
     "text": [
      "Train shape: (54808, 13)\n",
      "Test shape: (23490, 12)\n"
     ]
    }
   ],
   "source": [
    "print('Train shape:', train.shape)\n",
    "print('Test shape:', test.shape)"
   ]
  },
  {
   "cell_type": "markdown",
   "metadata": {},
   "source": [
    "### Target"
   ]
  },
  {
   "cell_type": "code",
   "execution_count": 9,
   "metadata": {},
   "outputs": [
    {
     "name": "stdout",
     "output_type": "stream",
     "text": [
      "Non-zero target values %: 8.52\n"
     ]
    }
   ],
   "source": [
    "print('Non-zero target values %:', round(train['is_promoted'].mean() * 100, 2))"
   ]
  },
  {
   "cell_type": "markdown",
   "metadata": {},
   "source": [
    "### Department"
   ]
  },
  {
   "cell_type": "code",
   "execution_count": 10,
   "metadata": {},
   "outputs": [
    {
     "data": {
      "text/plain": [
       "<matplotlib.axes._subplots.AxesSubplot at 0x23931865b08>"
      ]
     },
     "execution_count": 10,
     "metadata": {},
     "output_type": "execute_result"
    },
    {
     "data": {
      "image/png": "[encoded data removed]",
      "text/plain": [
       "<Figure size 576x360 with 1 Axes>"
      ]
     },
     "metadata": {
      "needs_background": "light"
     },
     "output_type": "display_data"
    }
   ],
   "source": [
    "train['department'].value_counts(normalize=True).plot(kind='barh')"
   ]
  },
  {
   "cell_type": "code",
   "execution_count": 11,
   "metadata": {},
   "outputs": [
    {
     "data": {
      "text/plain": [
       "<matplotlib.axes._subplots.AxesSubplot at 0x23931e3e748>"
      ]
     },
     "execution_count": 11,
     "metadata": {},
     "output_type": "execute_result"
    },
    {
     "data": {
      "image/png": "[encoded data removed]",
      "text/plain": [
       "<Figure size 576x360 with 1 Axes>"
      ]
     },
     "metadata": {
      "needs_background": "light"
     },
     "output_type": "display_data"
    }
   ],
   "source": [
    "test['department'].value_counts(normalize=True).plot(kind='barh')"
   ]
  },
  {
   "cell_type": "code",
   "execution_count": 12,
   "metadata": {},
   "outputs": [
    {
     "data": {
      "text/plain": [
       "<matplotlib.axes._subplots.AxesSubplot at 0x23931ec2048>"
      ]
     },
     "execution_count": 12,
     "metadata": {},
     "output_type": "execute_result"
    },
    {
     "data": {
      "image/png": "[encoded data removed]",
      "text/plain": [
       "<Figure size 576x360 with 1 Axes>"
      ]
     },
     "metadata": {
      "needs_background": "light"
     },
     "output_type": "display_data"
    }
   ],
   "source": [
    "train.groupby('department')['is_promoted'].mean().plot(kind='barh')"
   ]
  },
  {
   "cell_type": "markdown",
   "metadata": {},
   "source": [
    "### Education"
   ]
  },
  {
   "cell_type": "code",
   "execution_count": 13,
   "metadata": {},
   "outputs": [
    {
     "data": {
      "text/plain": [
       "Bachelor's          0.699803\n",
       "Master's & above    0.284834\n",
       "Below Secondary     0.015363\n",
       "Name: education, dtype: float64"
      ]
     },
     "execution_count": 13,
     "metadata": {},
     "output_type": "execute_result"
    }
   ],
   "source": [
    "train['education'].value_counts(normalize=True)"
   ]
  },
  {
   "cell_type": "code",
   "execution_count": 14,
   "metadata": {},
   "outputs": [
    {
     "data": {
      "text/plain": [
       "Bachelor's          0.693712\n",
       "Master's & above    0.289633\n",
       "Below Secondary     0.016655\n",
       "Name: education, dtype: float64"
      ]
     },
     "execution_count": 14,
     "metadata": {},
     "output_type": "execute_result"
    }
   ],
   "source": [
    "test['education'].value_counts(normalize=True)"
   ]
  },
  {
   "cell_type": "code",
   "execution_count": 15,
   "metadata": {},
   "outputs": [
    {
     "data": {
      "text/plain": [
       "<matplotlib.axes._subplots.AxesSubplot at 0x23931f51d48>"
      ]
     },
     "execution_count": 15,
     "metadata": {},
     "output_type": "execute_result"
    },
    {
     "data": {
      "image/png": "[encoded data removed]",
      "text/plain": [
       "<Figure size 576x360 with 1 Axes>"
      ]
     },
     "metadata": {
      "needs_background": "light"
     },
     "output_type": "display_data"
    }
   ],
   "source": [
    "train.groupby('education')['is_promoted'].mean().plot(kind='barh')"
   ]
  },
  {
   "cell_type": "markdown",
   "metadata": {},
   "source": [
    "### Region"
   ]
  },
  {
   "cell_type": "code",
   "execution_count": 16,
   "metadata": {},
   "outputs": [
    {
     "data": {
      "text/plain": [
       "<matplotlib.axes._subplots.AxesSubplot at 0x23931faa808>"
      ]
     },
     "execution_count": 16,
     "metadata": {},
     "output_type": "execute_result"
    },
    {
     "data": {
      "image/png": "[encoded data removed]",
      "text/plain": [
       "<Figure size 576x360 with 1 Axes>"
      ]
     },
     "metadata": {
      "needs_background": "light"
     },
     "output_type": "display_data"
    }
   ],
   "source": [
    "train['region'].value_counts(normalize=True).plot(kind='bar')"
   ]
  },
  {
   "cell_type": "code",
   "execution_count": 17,
   "metadata": {},
   "outputs": [
    {
     "data": {
      "text/plain": [
       "<matplotlib.axes._subplots.AxesSubplot at 0x239320adf48>"
      ]
     },
     "execution_count": 17,
     "metadata": {},
     "output_type": "execute_result"
    },
    {
     "data": {
      "image/png": "[encoded data removed]",
      "text/plain": [
       "<Figure size 576x360 with 1 Axes>"
      ]
     },
     "metadata": {
      "needs_background": "light"
     },
     "output_type": "display_data"
    }
   ],
   "source": [
    "test['region'].value_counts(normalize=True).plot(kind='bar')"
   ]
  },
  {
   "cell_type": "code",
   "execution_count": 18,
   "metadata": {},
   "outputs": [
    {
     "data": {
      "text/plain": [
       "<matplotlib.axes._subplots.AxesSubplot at 0x239321b7948>"
      ]
     },
     "execution_count": 18,
     "metadata": {},
     "output_type": "execute_result"
    },
    {
     "data": {
      "image/png": "[encoded data removed]",
      "text/plain": [
       "<Figure size 576x360 with 1 Axes>"
      ]
     },
     "metadata": {
      "needs_background": "light"
     },
     "output_type": "display_data"
    }
   ],
   "source": [
    "train.groupby('region')['is_promoted'].mean().plot(kind='barh')"
   ]
  },
  {
   "cell_type": "markdown",
   "metadata": {},
   "source": [
    "### Gender"
   ]
  },
  {
   "cell_type": "code",
   "execution_count": 19,
   "metadata": {},
   "outputs": [
    {
     "data": {
      "text/plain": [
       "m    0.702379\n",
       "f    0.297621\n",
       "Name: gender, dtype: float64"
      ]
     },
     "execution_count": 19,
     "metadata": {},
     "output_type": "execute_result"
    }
   ],
   "source": [
    "train['gender'].value_counts(normalize=True)"
   ]
  },
  {
   "cell_type": "code",
   "execution_count": 20,
   "metadata": {},
   "outputs": [
    {
     "data": {
      "text/plain": [
       "m    0.706513\n",
       "f    0.293487\n",
       "Name: gender, dtype: float64"
      ]
     },
     "execution_count": 20,
     "metadata": {},
     "output_type": "execute_result"
    }
   ],
   "source": [
    "test['gender'].value_counts(normalize=True)"
   ]
  },
  {
   "cell_type": "code",
   "execution_count": 21,
   "metadata": {},
   "outputs": [
    {
     "data": {
      "text/plain": [
       "<matplotlib.axes._subplots.AxesSubplot at 0x239322d5088>"
      ]
     },
     "execution_count": 21,
     "metadata": {},
     "output_type": "execute_result"
    },
    {
     "data": {
      "image/png": "[encoded data removed]",
      "text/plain": [
       "<Figure size 576x360 with 1 Axes>"
      ]
     },
     "metadata": {
      "needs_background": "light"
     },
     "output_type": "display_data"
    }
   ],
   "source": [
    "train.groupby('gender')['is_promoted'].mean().plot(kind='barh')"
   ]
  },
  {
   "cell_type": "markdown",
   "metadata": {},
   "source": [
    "### Recruitment_channel"
   ]
  },
  {
   "cell_type": "code",
   "execution_count": 22,
   "metadata": {},
   "outputs": [
    {
     "data": {
      "text/plain": [
       "other       0.555503\n",
       "sourcing    0.423661\n",
       "referred    0.020836\n",
       "Name: recruitment_channel, dtype: float64"
      ]
     },
     "execution_count": 22,
     "metadata": {},
     "output_type": "execute_result"
    }
   ],
   "source": [
    "train['recruitment_channel'].value_counts(normalize=True)"
   ]
  },
  {
   "cell_type": "code",
   "execution_count": 23,
   "metadata": {},
   "outputs": [
    {
     "data": {
      "text/plain": [
       "other       0.556748\n",
       "sourcing    0.424053\n",
       "referred    0.019200\n",
       "Name: recruitment_channel, dtype: float64"
      ]
     },
     "execution_count": 23,
     "metadata": {},
     "output_type": "execute_result"
    }
   ],
   "source": [
    "test['recruitment_channel'].value_counts(normalize=True)"
   ]
  },
  {
   "cell_type": "code",
   "execution_count": 24,
   "metadata": {},
   "outputs": [
    {
     "data": {
      "text/plain": [
       "<matplotlib.axes._subplots.AxesSubplot at 0x23932335108>"
      ]
     },
     "execution_count": 24,
     "metadata": {},
     "output_type": "execute_result"
    },
    {
     "data": {
      "image/png": "[encoded data removed]",
      "text/plain": [
       "<Figure size 576x360 with 1 Axes>"
      ]
     },
     "metadata": {
      "needs_background": "light"
     },
     "output_type": "display_data"
    }
   ],
   "source": [
    "train.groupby('recruitment_channel')['is_promoted'].mean().plot(kind='barh')"
   ]
  },
  {
   "cell_type": "markdown",
   "metadata": {},
   "source": [
    "### No_of_trainings"
   ]
  },
  {
   "cell_type": "code",
   "execution_count": 25,
   "metadata": {},
   "outputs": [
    {
     "data": {
      "text/plain": [
       "<matplotlib.axes._subplots.AxesSubplot at 0x239323879c8>"
      ]
     },
     "execution_count": 25,
     "metadata": {},
     "output_type": "execute_result"
    },
    {
     "data": {
      "image/png": "[encoded data removed]",
      "text/plain": [
       "<Figure size 576x360 with 1 Axes>"
      ]
     },
     "metadata": {
      "needs_background": "light"
     },
     "output_type": "display_data"
    }
   ],
   "source": [
    "train['no_of_trainings'].value_counts(normalize=True).plot(kind='bar')"
   ]
  },
  {
   "cell_type": "code",
   "execution_count": 26,
   "metadata": {},
   "outputs": [
    {
     "data": {
      "text/plain": [
       "<matplotlib.axes._subplots.AxesSubplot at 0x239324168c8>"
      ]
     },
     "execution_count": 26,
     "metadata": {},
     "output_type": "execute_result"
    },
    {
     "data": {
      "image/png": "[encoded data removed]",
      "text/plain": [
       "<Figure size 576x360 with 1 Axes>"
      ]
     },
     "metadata": {
      "needs_background": "light"
     },
     "output_type": "display_data"
    }
   ],
   "source": [
    "test['no_of_trainings'].value_counts(normalize=True).plot(kind='bar')"
   ]
  },
  {
   "cell_type": "code",
   "execution_count": 27,
   "metadata": {},
   "outputs": [
    {
     "data": {
      "text/plain": [
       "<matplotlib.axes._subplots.AxesSubplot at 0x239324af308>"
      ]
     },
     "execution_count": 27,
     "metadata": {},
     "output_type": "execute_result"
    },
    {
     "data": {
      "image/png": "[encoded data removed]",
      "text/plain": [
       "<Figure size 576x360 with 1 Axes>"
      ]
     },
     "metadata": {
      "needs_background": "light"
     },
     "output_type": "display_data"
    }
   ],
   "source": [
    "train.groupby('no_of_trainings')['is_promoted'].mean().plot(kind='barh')"
   ]
  },
  {
   "cell_type": "markdown",
   "metadata": {},
   "source": [
    "### Age"
   ]
  },
  {
   "cell_type": "code",
   "execution_count": 28,
   "metadata": {},
   "outputs": [
    {
     "data": {
      "text/plain": [
       "<matplotlib.axes._subplots.AxesSubplot at 0x2393252aa08>"
      ]
     },
     "execution_count": 28,
     "metadata": {},
     "output_type": "execute_result"
    },
    {
     "data": {
      "image/png": "[encoded data removed]",
      "text/plain": [
       "<Figure size 576x360 with 1 Axes>"
      ]
     },
     "metadata": {
      "needs_background": "light"
     },
     "output_type": "display_data"
    }
   ],
   "source": [
    "sns.distplot(train['age'])"
   ]
  },
  {
   "cell_type": "code",
   "execution_count": 29,
   "metadata": {},
   "outputs": [
    {
     "data": {
      "text/plain": [
       "<matplotlib.axes._subplots.AxesSubplot at 0x2393263e3c8>"
      ]
     },
     "execution_count": 29,
     "metadata": {},
     "output_type": "execute_result"
    },
    {
     "data": {
      "image/png": "[encoded data removed]",
      "text/plain": [
       "<Figure size 576x360 with 1 Axes>"
      ]
     },
     "metadata": {
      "needs_background": "light"
     },
     "output_type": "display_data"
    }
   ],
   "source": [
    "sns.distplot(test['age'])"
   ]
  },
  {
   "cell_type": "code",
   "execution_count": 30,
   "metadata": {},
   "outputs": [
    {
     "data": {
      "text/plain": [
       "<matplotlib.axes._subplots.AxesSubplot at 0x23932704ec8>"
      ]
     },
     "execution_count": 30,
     "metadata": {},
     "output_type": "execute_result"
    },
    {
     "data": {
      "image/png": "[encoded data removed]",
      "text/plain": [
       "<Figure size 576x360 with 1 Axes>"
      ]
     },
     "metadata": {
      "needs_background": "light"
     },
     "output_type": "display_data"
    }
   ],
   "source": [
    "sns.boxplot(train['age'])"
   ]
  },
  {
   "cell_type": "code",
   "execution_count": 31,
   "metadata": {},
   "outputs": [
    {
     "data": {
      "text/plain": [
       "<matplotlib.axes._subplots.AxesSubplot at 0x23932797e88>"
      ]
     },
     "execution_count": 31,
     "metadata": {},
     "output_type": "execute_result"
    },
    {
     "data": {
      "image/png": "[encoded data removed]",
      "text/plain": [
       "<Figure size 576x360 with 1 Axes>"
      ]
     },
     "metadata": {
      "needs_background": "light"
     },
     "output_type": "display_data"
    }
   ],
   "source": [
    "sns.boxplot(test['age'])"
   ]
  },
  {
   "cell_type": "code",
   "execution_count": 32,
   "metadata": {},
   "outputs": [
    {
     "data": {
      "text/plain": [
       "is_promoted\n",
       "0    34.844037\n",
       "1    34.372965\n",
       "Name: age, dtype: float64"
      ]
     },
     "execution_count": 32,
     "metadata": {},
     "output_type": "execute_result"
    }
   ],
   "source": [
    "train.groupby('is_promoted')['age'].mean()"
   ]
  },
  {
   "cell_type": "markdown",
   "metadata": {},
   "source": [
    "### Previous_year_rating"
   ]
  },
  {
   "cell_type": "code",
   "execution_count": 33,
   "metadata": {},
   "outputs": [
    {
     "data": {
      "text/plain": [
       "<matplotlib.axes._subplots.AxesSubplot at 0x23932a64048>"
      ]
     },
     "execution_count": 33,
     "metadata": {},
     "output_type": "execute_result"
    },
    {
     "data": {
      "image/png": "[encoded data removed]",
      "text/plain": [
       "<Figure size 576x360 with 1 Axes>"
      ]
     },
     "metadata": {
      "needs_background": "light"
     },
     "output_type": "display_data"
    }
   ],
   "source": [
    "train['previous_year_rating'].value_counts(normalize=True).plot(kind='bar')"
   ]
  },
  {
   "cell_type": "code",
   "execution_count": 34,
   "metadata": {},
   "outputs": [
    {
     "data": {
      "text/plain": [
       "<matplotlib.axes._subplots.AxesSubplot at 0x23933a91348>"
      ]
     },
     "execution_count": 34,
     "metadata": {},
     "output_type": "execute_result"
    },
    {
     "data": {
      "image/png": "[encoded data removed]",
      "text/plain": [
       "<Figure size 576x360 with 1 Axes>"
      ]
     },
     "metadata": {
      "needs_background": "light"
     },
     "output_type": "display_data"
    }
   ],
   "source": [
    "test['previous_year_rating'].value_counts(normalize=True).plot(kind='bar')"
   ]
  },
  {
   "cell_type": "code",
   "execution_count": 35,
   "metadata": {},
   "outputs": [
    {
     "data": {
      "text/plain": [
       "<matplotlib.axes._subplots.AxesSubplot at 0x23933aeb708>"
      ]
     },
     "execution_count": 35,
     "metadata": {},
     "output_type": "execute_result"
    },
    {
     "data": {
      "image/png": "[encoded data removed]",
      "text/plain": [
       "<Figure size 576x360 with 1 Axes>"
      ]
     },
     "metadata": {
      "needs_background": "light"
     },
     "output_type": "display_data"
    }
   ],
   "source": [
    "train.groupby('previous_year_rating')['is_promoted'].mean().plot(kind='barh')"
   ]
  },
  {
   "cell_type": "code",
   "execution_count": 36,
   "metadata": {},
   "outputs": [
    {
     "data": {
      "text/plain": [
       "is_promoted\n",
       "0    3.267911\n",
       "1    3.986140\n",
       "Name: previous_year_rating, dtype: float64"
      ]
     },
     "execution_count": 36,
     "metadata": {},
     "output_type": "execute_result"
    }
   ],
   "source": [
    "train.groupby('is_promoted')['previous_year_rating'].mean()"
   ]
  },
  {
   "cell_type": "markdown",
   "metadata": {},
   "source": [
    "### Length_of_service"
   ]
  },
  {
   "cell_type": "code",
   "execution_count": 37,
   "metadata": {},
   "outputs": [
    {
     "data": {
      "text/plain": [
       "<matplotlib.axes._subplots.AxesSubplot at 0x23933b5cfc8>"
      ]
     },
     "execution_count": 37,
     "metadata": {},
     "output_type": "execute_result"
    },
    {
     "data": {
      "image/png": "[encoded data removed]",
      "text/plain": [
       "<Figure size 576x360 with 1 Axes>"
      ]
     },
     "metadata": {
      "needs_background": "light"
     },
     "output_type": "display_data"
    }
   ],
   "source": [
    "train['length_of_service'].value_counts(normalize=True).plot(kind='bar')"
   ]
  },
  {
   "cell_type": "code",
   "execution_count": 38,
   "metadata": {},
   "outputs": [
    {
     "data": {
      "text/plain": [
       "<matplotlib.axes._subplots.AxesSubplot at 0x23933c3bf48>"
      ]
     },
     "execution_count": 38,
     "metadata": {},
     "output_type": "execute_result"
    },
    {
     "data": {
      "image/png": "[encoded data removed]",
      "text/plain": [
       "<Figure size 576x360 with 1 Axes>"
      ]
     },
     "metadata": {
      "needs_background": "light"
     },
     "output_type": "display_data"
    }
   ],
   "source": [
    "test['length_of_service'].value_counts(normalize=True).plot(kind='bar')"
   ]
  },
  {
   "cell_type": "code",
   "execution_count": 39,
   "metadata": {},
   "outputs": [
    {
     "data": {
      "text/plain": [
       "is_promoted\n",
       "0    5.879398\n",
       "1    5.716367\n",
       "Name: length_of_service, dtype: float64"
      ]
     },
     "execution_count": 39,
     "metadata": {},
     "output_type": "execute_result"
    }
   ],
   "source": [
    "train.groupby('is_promoted')['length_of_service'].mean()"
   ]
  },
  {
   "cell_type": "markdown",
   "metadata": {},
   "source": [
    "### KPIs_met >80%"
   ]
  },
  {
   "cell_type": "code",
   "execution_count": 40,
   "metadata": {},
   "outputs": [
    {
     "data": {
      "text/plain": [
       "0.35197416435556855"
      ]
     },
     "execution_count": 40,
     "metadata": {},
     "output_type": "execute_result"
    }
   ],
   "source": [
    "train['KPIs_met >80%'].mean()"
   ]
  },
  {
   "cell_type": "code",
   "execution_count": 41,
   "metadata": {},
   "outputs": [
    {
     "data": {
      "text/plain": [
       "0.358833546189868"
      ]
     },
     "execution_count": 41,
     "metadata": {},
     "output_type": "execute_result"
    }
   ],
   "source": [
    "test['KPIs_met >80%'].mean()"
   ]
  },
  {
   "cell_type": "code",
   "execution_count": 42,
   "metadata": {},
   "outputs": [
    {
     "data": {
      "text/plain": [
       "KPIs_met >80%\n",
       "0    0.039587\n",
       "1    0.169094\n",
       "Name: is_promoted, dtype: float64"
      ]
     },
     "execution_count": 42,
     "metadata": {},
     "output_type": "execute_result"
    }
   ],
   "source": [
    "train.groupby('KPIs_met >80%')['is_promoted'].mean()"
   ]
  },
  {
   "cell_type": "markdown",
   "metadata": {},
   "source": [
    "### Awards_won?"
   ]
  },
  {
   "cell_type": "code",
   "execution_count": 43,
   "metadata": {},
   "outputs": [
    {
     "data": {
      "text/plain": [
       "0.023171799737264635"
      ]
     },
     "execution_count": 43,
     "metadata": {},
     "output_type": "execute_result"
    }
   ],
   "source": [
    "train['awards_won?'].mean()"
   ]
  },
  {
   "cell_type": "code",
   "execution_count": 44,
   "metadata": {},
   "outputs": [
    {
     "data": {
      "text/plain": [
       "0.02277564921243082"
      ]
     },
     "execution_count": 44,
     "metadata": {},
     "output_type": "execute_result"
    }
   ],
   "source": [
    "test['awards_won?'].mean()"
   ]
  },
  {
   "cell_type": "markdown",
   "metadata": {},
   "source": [
    "### Avg_training_score"
   ]
  },
  {
   "cell_type": "code",
   "execution_count": 45,
   "metadata": {},
   "outputs": [
    {
     "data": {
      "text/plain": [
       "<matplotlib.axes._subplots.AxesSubplot at 0x23933d98cc8>"
      ]
     },
     "execution_count": 45,
     "metadata": {},
     "output_type": "execute_result"
    },
    {
     "data": {
      "image/png": "[encoded data removed]",
      "text/plain": [
       "<Figure size 576x360 with 1 Axes>"
      ]
     },
     "metadata": {
      "needs_background": "light"
     },
     "output_type": "display_data"
    }
   ],
   "source": [
    "sns.distplot(train['avg_training_score'])"
   ]
  },
  {
   "cell_type": "code",
   "execution_count": 46,
   "metadata": {},
   "outputs": [
    {
     "data": {
      "text/plain": [
       "<matplotlib.axes._subplots.AxesSubplot at 0x23933e7b7c8>"
      ]
     },
     "execution_count": 46,
     "metadata": {},
     "output_type": "execute_result"
    },
    {
     "data": {
      "image/png": "[encoded data removed]",
      "text/plain": [
       "<Figure size 576x360 with 1 Axes>"
      ]
     },
     "metadata": {
      "needs_background": "light"
     },
     "output_type": "display_data"
    }
   ],
   "source": [
    "sns.distplot(test['avg_training_score'])"
   ]
  },
  {
   "cell_type": "code",
   "execution_count": 47,
   "metadata": {},
   "outputs": [
    {
     "data": {
      "text/plain": [
       "is_promoted\n",
       "0    62.647686\n",
       "1    71.325193\n",
       "Name: avg_training_score, dtype: float64"
      ]
     },
     "execution_count": 47,
     "metadata": {},
     "output_type": "execute_result"
    }
   ],
   "source": [
    "train.groupby('is_promoted')['avg_training_score'].mean()"
   ]
  },
  {
   "cell_type": "markdown",
   "metadata": {},
   "source": [
    "### Preprocessing & FE"
   ]
  },
  {
   "cell_type": "code",
   "execution_count": 48,
   "metadata": {},
   "outputs": [],
   "source": [
    "y = train['is_promoted']\n",
    "del train['is_promoted']\n",
    "helper = TrainTestHelper()\n",
    "data = helper.combine(train, test)"
   ]
  },
  {
   "cell_type": "code",
   "execution_count": 49,
   "metadata": {},
   "outputs": [],
   "source": [
    "data['department|training'] = data['department'] + np.digitize(data['avg_training_score'], [c * 10 for c in range(3, 11)]).astype(str)\n",
    "data['kpi|training'] = data['KPIs_met >80%'].astype(str) + np.digitize(data['avg_training_score'], [c * 10 for c in range(3, 11)]).astype(str)\n",
    "data['department|kpi'] = data['department'] + data['KPIs_met >80%'].astype(str)\n",
    "data['kpi*rating'] = data['KPIs_met >80%'] * data['previous_year_rating']\n",
    "\n",
    "data['mean_training_by_department'] = data['department'].map(data.groupby('department')['avg_training_score'].mean())\n",
    "data['department_training_mean_ratio'] = data['avg_training_score'] / data['mean_training_by_department']\n",
    "\n",
    "data['mean_rating_by_department'] = data['department'].map(data.groupby('department')['previous_year_rating'].mean())\n",
    "data['department_rating_mean_ratio'] = data['previous_year_rating'] / data['mean_rating_by_department']\n",
    "\n",
    "data['mean_kpi_by_department'] = data['department'].map(data.groupby('department')['KPIs_met >80%'].mean())"
   ]
  },
  {
   "cell_type": "code",
   "execution_count": 50,
   "metadata": {},
   "outputs": [],
   "source": [
    "to_cat = ['department',\n",
    "          'region',\n",
    "          'gender',\n",
    "          'recruitment_channel',\n",
    "          'department|training',\n",
    "          'department|kpi',\n",
    "          'kpi|training']\n",
    "for c in to_cat:\n",
    "    data[c] = pd.factorize(data[c])[0]"
   ]
  },
  {
   "cell_type": "code",
   "execution_count": 51,
   "metadata": {},
   "outputs": [],
   "source": [
    "ed_dict = {'Below Secondary': 0, 'Bachelor\\'s': 1, 'Master\\'s & above': 2}\n",
    "data['education'] = data['education'].map(ed_dict)\n",
    "#data = data.fillna(-1)"
   ]
  },
  {
   "cell_type": "code",
   "execution_count": 52,
   "metadata": {},
   "outputs": [],
   "source": [
    "train, test = helper.split(data)"
   ]
  },
  {
   "cell_type": "code",
   "execution_count": 53,
   "metadata": {},
   "outputs": [],
   "source": [
    "###"
   ]
  },
  {
   "cell_type": "code",
   "execution_count": 54,
   "metadata": {},
   "outputs": [],
   "source": [
    "params = {'app': 'binary',\n",
    "          'learning_rate': 0.01,\n",
    "          'num_leaves': 10,\n",
    "          'feature_fraction': 0.5,\n",
    "          'lamda_l1': 3,\n",
    "          'metric': 'binary_logloss'}\n",
    "cvparams = {'nround': 5000,\n",
    "            'stopping': 20,\n",
    "            'verbose': 200,\n",
    "            'metric': log_loss,\n",
    "            'folds': KFold(n_splits=5, shuffle=True, random_state=0)}\n",
    "wiz = LGBWizard(params, cvparams)"
   ]
  },
  {
   "cell_type": "code",
   "execution_count": 58,
   "metadata": {
    "scrolled": false
   },
   "outputs": [
    {
     "name": "stdout",
     "output_type": "stream",
     "text": [
      "Training until validation scores don't improve for 20 rounds\n",
      "[200]\ttraining's binary_logloss: 0.177852\tvalid_1's binary_logloss: 0.17423\n",
      "[400]\ttraining's binary_logloss: 0.164333\tvalid_1's binary_logloss: 0.161456\n",
      "[600]\ttraining's binary_logloss: 0.160175\tvalid_1's binary_logloss: 0.158802\n",
      "[800]\ttraining's binary_logloss: 0.157644\tvalid_1's binary_logloss: 0.158\n",
      "[1000]\ttraining's binary_logloss: 0.155757\tvalid_1's binary_logloss: 0.157582\n",
      "Early stopping, best iteration is:\n",
      "[1024]\ttraining's binary_logloss: 0.155548\tvalid_1's binary_logloss: 0.15755\n",
      "Fold 0: 0.15755\n",
      "Training until validation scores don't improve for 20 rounds\n",
      "[200]\ttraining's binary_logloss: 0.17738\tvalid_1's binary_logloss: 0.175561\n",
      "[400]\ttraining's binary_logloss: 0.163912\tvalid_1's binary_logloss: 0.163484\n",
      "[600]\ttraining's binary_logloss: 0.159891\tvalid_1's binary_logloss: 0.160501\n",
      "[800]\ttraining's binary_logloss: 0.157477\tvalid_1's binary_logloss: 0.159412\n",
      "[1000]\ttraining's binary_logloss: 0.155614\tvalid_1's binary_logloss: 0.158751\n",
      "[1200]\ttraining's binary_logloss: 0.153932\tvalid_1's binary_logloss: 0.158369\n",
      "[1400]\ttraining's binary_logloss: 0.152404\tvalid_1's binary_logloss: 0.158058\n",
      "[1600]\ttraining's binary_logloss: 0.150991\tvalid_1's binary_logloss: 0.15781\n",
      "[1800]\ttraining's binary_logloss: 0.149719\tvalid_1's binary_logloss: 0.157639\n",
      "[2000]\ttraining's binary_logloss: 0.148473\tvalid_1's binary_logloss: 0.157522\n",
      "Early stopping, best iteration is:\n",
      "[1981]\ttraining's binary_logloss: 0.148587\tvalid_1's binary_logloss: 0.157496\n",
      "Fold 1: 0.15750\n",
      "Training until validation scores don't improve for 20 rounds\n",
      "[200]\ttraining's binary_logloss: 0.177396\tvalid_1's binary_logloss: 0.176101\n",
      "[400]\ttraining's binary_logloss: 0.164079\tvalid_1's binary_logloss: 0.162649\n",
      "[600]\ttraining's binary_logloss: 0.160102\tvalid_1's binary_logloss: 0.159554\n",
      "[800]\ttraining's binary_logloss: 0.157731\tvalid_1's binary_logloss: 0.15844\n",
      "[1000]\ttraining's binary_logloss: 0.155902\tvalid_1's binary_logloss: 0.157867\n",
      "[1200]\ttraining's binary_logloss: 0.154319\tvalid_1's binary_logloss: 0.157486\n",
      "[1400]\ttraining's binary_logloss: 0.15287\tvalid_1's binary_logloss: 0.157086\n",
      "Early stopping, best iteration is:\n",
      "[1456]\ttraining's binary_logloss: 0.152484\tvalid_1's binary_logloss: 0.157056\n",
      "Fold 2: 0.15706\n",
      "Training until validation scores don't improve for 20 rounds\n",
      "[200]\ttraining's binary_logloss: 0.175046\tvalid_1's binary_logloss: 0.184703\n",
      "[400]\ttraining's binary_logloss: 0.1617\tvalid_1's binary_logloss: 0.172076\n",
      "[600]\ttraining's binary_logloss: 0.157679\tvalid_1's binary_logloss: 0.169043\n",
      "[800]\ttraining's binary_logloss: 0.155403\tvalid_1's binary_logloss: 0.16793\n",
      "[1000]\ttraining's binary_logloss: 0.153596\tvalid_1's binary_logloss: 0.167291\n",
      "[1200]\ttraining's binary_logloss: 0.151919\tvalid_1's binary_logloss: 0.166905\n",
      "[1400]\ttraining's binary_logloss: 0.150355\tvalid_1's binary_logloss: 0.166595\n",
      "[1600]\ttraining's binary_logloss: 0.148945\tvalid_1's binary_logloss: 0.166347\n",
      "Early stopping, best iteration is:\n",
      "[1721]\ttraining's binary_logloss: 0.148173\tvalid_1's binary_logloss: 0.166215\n",
      "Fold 3: 0.16621\n",
      "Training until validation scores don't improve for 20 rounds\n",
      "[200]\ttraining's binary_logloss: 0.176748\tvalid_1's binary_logloss: 0.17808\n",
      "[400]\ttraining's binary_logloss: 0.163269\tvalid_1's binary_logloss: 0.165615\n",
      "[600]\ttraining's binary_logloss: 0.159161\tvalid_1's binary_logloss: 0.162751\n",
      "[800]\ttraining's binary_logloss: 0.156741\tvalid_1's binary_logloss: 0.161693\n",
      "[1000]\ttraining's binary_logloss: 0.1548\tvalid_1's binary_logloss: 0.161159\n",
      "[1200]\ttraining's binary_logloss: 0.153106\tvalid_1's binary_logloss: 0.16085\n",
      "Early stopping, best iteration is:\n",
      "[1227]\ttraining's binary_logloss: 0.152893\tvalid_1's binary_logloss: 0.160826\n",
      "Fold 4: 0.16083\n",
      "\n",
      "Mean score: 0.15983\n",
      "OOF score: 0.15983\n",
      "Std of score: 0.00347\n",
      "Mean std of test objects: 0.00521\n"
     ]
    }
   ],
   "source": [
    "wiz.fit(train, y, test, permute=3)\n",
    "\n",
    "# wiz.params[\"objective\"] = \"binary\"\n",
    "# explainer = shap.TreeExplainer(wiz)"
   ]
  },
  {
   "cell_type": "code",
   "execution_count": 65,
   "metadata": {},
   "outputs": [
    {
     "ename": "SyntaxError",
     "evalue": "invalid syntax (<ipython-input-65-6052e33b4d92>, line 1)",
     "output_type": "error",
     "traceback": [
      "\u001b[1;36m  File \u001b[1;32m\"<ipython-input-65-6052e33b4d92>\"\u001b[1;36m, line \u001b[1;32m1\u001b[0m\n\u001b[1;33m    Mean score: 0.15992\u001b[0m\n\u001b[1;37m             ^\u001b[0m\n\u001b[1;31mSyntaxError\u001b[0m\u001b[1;31m:\u001b[0m invalid syntax\n"
     ]
    }
   ],
   "source": [
    "Mean score: 0.15992\n",
    "OOF score: 0.15992\n",
    "Std of score: 0.00328\n",
    "Mean std of test objects: 0.00579"
   ]
  },
  {
   "cell_type": "code",
   "execution_count": 59,
   "metadata": {},
   "outputs": [
    {
     "data": {
      "text/html": [
       "<div>\n",
       "<style scoped>\n",
       "    .dataframe tbody tr th:only-of-type {\n",
       "        vertical-align: middle;\n",
       "    }\n",
       "\n",
       "    .dataframe tbody tr th {\n",
       "        vertical-align: top;\n",
       "    }\n",
       "\n",
       "    .dataframe thead th {\n",
       "        text-align: right;\n",
       "    }\n",
       "</style>\n",
       "<table border=\"1\" class=\"dataframe\">\n",
       "  <thead>\n",
       "    <tr style=\"text-align: right;\">\n",
       "      <th></th>\n",
       "      <th>permutation</th>\n",
       "      <th>shap</th>\n",
       "      <th>gain</th>\n",
       "      <th>split</th>\n",
       "    </tr>\n",
       "  </thead>\n",
       "  <tbody>\n",
       "    <tr>\n",
       "      <th>department_training_mean_ratio</th>\n",
       "      <td>0.107929</td>\n",
       "      <td>0.0</td>\n",
       "      <td>206583.551605</td>\n",
       "      <td>1759.2</td>\n",
       "    </tr>\n",
       "    <tr>\n",
       "      <th>KPIs_met &gt;80%</th>\n",
       "      <td>0.046580</td>\n",
       "      <td>0.0</td>\n",
       "      <td>82544.214013</td>\n",
       "      <td>423.6</td>\n",
       "    </tr>\n",
       "    <tr>\n",
       "      <th>avg_training_score</th>\n",
       "      <td>0.013351</td>\n",
       "      <td>0.0</td>\n",
       "      <td>62294.559774</td>\n",
       "      <td>1483.8</td>\n",
       "    </tr>\n",
       "    <tr>\n",
       "      <th>kpi*rating</th>\n",
       "      <td>0.009228</td>\n",
       "      <td>0.0</td>\n",
       "      <td>43944.166182</td>\n",
       "      <td>473.8</td>\n",
       "    </tr>\n",
       "    <tr>\n",
       "      <th>awards_won?</th>\n",
       "      <td>0.004413</td>\n",
       "      <td>0.0</td>\n",
       "      <td>17526.299924</td>\n",
       "      <td>440.6</td>\n",
       "    </tr>\n",
       "    <tr>\n",
       "      <th>kpi|training</th>\n",
       "      <td>0.003672</td>\n",
       "      <td>0.0</td>\n",
       "      <td>19843.790062</td>\n",
       "      <td>494.4</td>\n",
       "    </tr>\n",
       "    <tr>\n",
       "      <th>department_rating_mean_ratio</th>\n",
       "      <td>0.002949</td>\n",
       "      <td>0.0</td>\n",
       "      <td>15010.347594</td>\n",
       "      <td>1032.8</td>\n",
       "    </tr>\n",
       "    <tr>\n",
       "      <th>region</th>\n",
       "      <td>0.002394</td>\n",
       "      <td>0.0</td>\n",
       "      <td>8872.591027</td>\n",
       "      <td>1304.0</td>\n",
       "    </tr>\n",
       "    <tr>\n",
       "      <th>age</th>\n",
       "      <td>0.002190</td>\n",
       "      <td>0.0</td>\n",
       "      <td>6924.444135</td>\n",
       "      <td>1243.0</td>\n",
       "    </tr>\n",
       "    <tr>\n",
       "      <th>department|training</th>\n",
       "      <td>0.002066</td>\n",
       "      <td>0.0</td>\n",
       "      <td>71402.208919</td>\n",
       "      <td>631.8</td>\n",
       "    </tr>\n",
       "    <tr>\n",
       "      <th>length_of_service</th>\n",
       "      <td>0.002015</td>\n",
       "      <td>0.0</td>\n",
       "      <td>5446.882563</td>\n",
       "      <td>865.4</td>\n",
       "    </tr>\n",
       "    <tr>\n",
       "      <th>previous_year_rating</th>\n",
       "      <td>0.001884</td>\n",
       "      <td>0.0</td>\n",
       "      <td>13859.777530</td>\n",
       "      <td>573.4</td>\n",
       "    </tr>\n",
       "    <tr>\n",
       "      <th>department|kpi</th>\n",
       "      <td>0.000898</td>\n",
       "      <td>0.0</td>\n",
       "      <td>15339.110456</td>\n",
       "      <td>463.0</td>\n",
       "    </tr>\n",
       "    <tr>\n",
       "      <th>mean_training_by_department</th>\n",
       "      <td>0.000723</td>\n",
       "      <td>0.0</td>\n",
       "      <td>15972.259710</td>\n",
       "      <td>406.2</td>\n",
       "    </tr>\n",
       "    <tr>\n",
       "      <th>mean_rating_by_department</th>\n",
       "      <td>0.000472</td>\n",
       "      <td>0.0</td>\n",
       "      <td>10342.843636</td>\n",
       "      <td>291.4</td>\n",
       "    </tr>\n",
       "    <tr>\n",
       "      <th>education</th>\n",
       "      <td>0.000365</td>\n",
       "      <td>0.0</td>\n",
       "      <td>1697.847644</td>\n",
       "      <td>354.4</td>\n",
       "    </tr>\n",
       "    <tr>\n",
       "      <th>department</th>\n",
       "      <td>0.000297</td>\n",
       "      <td>0.0</td>\n",
       "      <td>11630.442572</td>\n",
       "      <td>291.6</td>\n",
       "    </tr>\n",
       "    <tr>\n",
       "      <th>recruitment_channel</th>\n",
       "      <td>0.000278</td>\n",
       "      <td>0.0</td>\n",
       "      <td>1015.908428</td>\n",
       "      <td>236.6</td>\n",
       "    </tr>\n",
       "    <tr>\n",
       "      <th>no_of_trainings</th>\n",
       "      <td>0.000263</td>\n",
       "      <td>0.0</td>\n",
       "      <td>1127.319353</td>\n",
       "      <td>262.4</td>\n",
       "    </tr>\n",
       "    <tr>\n",
       "      <th>gender</th>\n",
       "      <td>0.000084</td>\n",
       "      <td>0.0</td>\n",
       "      <td>777.949501</td>\n",
       "      <td>144.2</td>\n",
       "    </tr>\n",
       "    <tr>\n",
       "      <th>mean_kpi_by_department</th>\n",
       "      <td>0.000051</td>\n",
       "      <td>0.0</td>\n",
       "      <td>3377.415215</td>\n",
       "      <td>160.6</td>\n",
       "    </tr>\n",
       "  </tbody>\n",
       "</table>\n",
       "</div>"
      ],
      "text/plain": [
       "                                permutation  shap           gain   split\n",
       "department_training_mean_ratio     0.107929   0.0  206583.551605  1759.2\n",
       "KPIs_met >80%                      0.046580   0.0   82544.214013   423.6\n",
       "avg_training_score                 0.013351   0.0   62294.559774  1483.8\n",
       "kpi*rating                         0.009228   0.0   43944.166182   473.8\n",
       "awards_won?                        0.004413   0.0   17526.299924   440.6\n",
       "kpi|training                       0.003672   0.0   19843.790062   494.4\n",
       "department_rating_mean_ratio       0.002949   0.0   15010.347594  1032.8\n",
       "region                             0.002394   0.0    8872.591027  1304.0\n",
       "age                                0.002190   0.0    6924.444135  1243.0\n",
       "department|training                0.002066   0.0   71402.208919   631.8\n",
       "length_of_service                  0.002015   0.0    5446.882563   865.4\n",
       "previous_year_rating               0.001884   0.0   13859.777530   573.4\n",
       "department|kpi                     0.000898   0.0   15339.110456   463.0\n",
       "mean_training_by_department        0.000723   0.0   15972.259710   406.2\n",
       "mean_rating_by_department          0.000472   0.0   10342.843636   291.4\n",
       "education                          0.000365   0.0    1697.847644   354.4\n",
       "department                         0.000297   0.0   11630.442572   291.6\n",
       "recruitment_channel                0.000278   0.0    1015.908428   236.6\n",
       "no_of_trainings                    0.000263   0.0    1127.319353   262.4\n",
       "gender                             0.000084   0.0     777.949501   144.2\n",
       "mean_kpi_by_department             0.000051   0.0    3377.415215   160.6"
      ]
     },
     "execution_count": 59,
     "metadata": {},
     "output_type": "execute_result"
    }
   ],
   "source": [
    "wiz.get_importances()"
   ]
  },
  {
   "cell_type": "code",
   "execution_count": 60,
   "metadata": {},
   "outputs": [
    {
     "data": {
      "image/png": "[encoded data removed]",
      "text/plain": [
       "<Figure size 1080x360 with 1 Axes>"
      ]
     },
     "metadata": {
      "needs_background": "light"
     },
     "output_type": "display_data"
    }
   ],
   "source": [
    "wiz.plot_prediction_std()"
   ]
  },
  {
   "cell_type": "code",
   "execution_count": null,
   "metadata": {},
   "outputs": [],
   "source": []
  },
  {
   "cell_type": "code",
   "execution_count": 81,
   "metadata": {},
   "outputs": [
    {
     "data": {
      "text/plain": [
       "0.532926519196542"
      ]
     },
     "execution_count": 81,
     "metadata": {},
     "output_type": "execute_result"
    }
   ],
   "source": [
    "f1_score(y, 1 * (wiz.cvpred > 0.24))"
   ]
  },
  {
   "cell_type": "code",
   "execution_count": 75,
   "metadata": {},
   "outputs": [],
   "source": [
    "sub['is_promoted'] = wiz.pred\n",
    "sub.to_csv('lgb_starter_0.533CV_mean_enc.csv', index=False)"
   ]
  },
  {
   "cell_type": "code",
   "execution_count": 62,
   "metadata": {},
   "outputs": [],
   "source": [
    "oof = pd.DataFrame()\n",
    "oof['is_promoted'] = wiz.cvpred"
   ]
  },
  {
   "cell_type": "code",
   "execution_count": 63,
   "metadata": {},
   "outputs": [],
   "source": [
    "# 4 Dima to ensemble\n",
    "oof.to_csv('oof.csv', index=False)\n",
    "sub.to_csv('sub.csv', index=False)"
   ]
  },
  {
   "cell_type": "code",
   "execution_count": null,
   "metadata": {},
   "outputs": [],
   "source": []
  }
 ],
 "metadata": {
  "kernelspec": {
   "display_name": "Python 3",
   "language": "python",
   "name": "python3"
  },
  "language_info": {
   "codemirror_mode": {
    "name": "ipython",
    "version": 3
   },
   "file_extension": ".py",
   "mimetype": "text/x-python",
   "name": "python",
   "nbconvert_exporter": "python",
   "pygments_lexer": "ipython3",
   "version": "3.7.6"
  }
 },
 "nbformat": 4,
 "nbformat_minor": 2
}
