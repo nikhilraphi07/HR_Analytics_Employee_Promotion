{
 "cells": [
  {
   "cell_type": "markdown",
   "metadata": {},
   "source": [
    "# Import packages"
   ]
  },
  {
   "cell_type": "code",
   "execution_count": 1,
   "metadata": {},
   "outputs": [],
   "source": [
    "import numpy as np\n",
    "import pandas as pd\n",
    "import matplotlib.pyplot as plt\n",
    "import seaborn as sns\n",
    "import pickle\n",
    "from tqdm import tqdm, tqdm_notebook, trange\n",
    "from scipy.optimize import fmin\n",
    "from pylab import rcParams\n",
    "from IPython.display import clear_output\n",
    "import copy\n",
    "rcParams['figure.figsize'] = 8, 5"
   ]
  },
  {
   "cell_type": "code",
   "execution_count": 2,
   "metadata": {},
   "outputs": [
    {
     "name": "stderr",
     "output_type": "stream",
     "text": [
      "C:\\ProgramData\\Anaconda3\\lib\\site-packages\\sklearn\\utils\\deprecation.py:143: FutureWarning: The sklearn.metrics.scorer module is  deprecated in version 0.22 and will be removed in version 0.24. The corresponding classes / functions should instead be imported from sklearn.metrics. Anything that cannot be imported from sklearn.metrics is now part of the private API.\n",
      "  warnings.warn(message, FutureWarning)\n",
      "C:\\ProgramData\\Anaconda3\\lib\\site-packages\\sklearn\\utils\\deprecation.py:143: FutureWarning: The sklearn.feature_selection.base module is  deprecated in version 0.22 and will be removed in version 0.24. The corresponding classes / functions should instead be imported from sklearn.feature_selection. Anything that cannot be imported from sklearn.feature_selection is now part of the private API.\n",
      "  warnings.warn(message, FutureWarning)\n",
      "C:\\ProgramData\\Anaconda3\\lib\\site-packages\\tensorboard\\compat\\tensorflow_stub\\dtypes.py:541: FutureWarning: Passing (type, 1) or '1type' as a synonym of type is deprecated; in a future version of numpy, it will be understood as (type, (1,)) / '(1,)type'.\n",
      "  _np_qint8 = np.dtype([(\"qint8\", np.int8, 1)])\n",
      "C:\\ProgramData\\Anaconda3\\lib\\site-packages\\tensorboard\\compat\\tensorflow_stub\\dtypes.py:542: FutureWarning: Passing (type, 1) or '1type' as a synonym of type is deprecated; in a future version of numpy, it will be understood as (type, (1,)) / '(1,)type'.\n",
      "  _np_quint8 = np.dtype([(\"quint8\", np.uint8, 1)])\n",
      "C:\\ProgramData\\Anaconda3\\lib\\site-packages\\tensorboard\\compat\\tensorflow_stub\\dtypes.py:543: FutureWarning: Passing (type, 1) or '1type' as a synonym of type is deprecated; in a future version of numpy, it will be understood as (type, (1,)) / '(1,)type'.\n",
      "  _np_qint16 = np.dtype([(\"qint16\", np.int16, 1)])\n",
      "C:\\ProgramData\\Anaconda3\\lib\\site-packages\\tensorboard\\compat\\tensorflow_stub\\dtypes.py:544: FutureWarning: Passing (type, 1) or '1type' as a synonym of type is deprecated; in a future version of numpy, it will be understood as (type, (1,)) / '(1,)type'.\n",
      "  _np_quint16 = np.dtype([(\"quint16\", np.uint16, 1)])\n",
      "C:\\ProgramData\\Anaconda3\\lib\\site-packages\\tensorboard\\compat\\tensorflow_stub\\dtypes.py:545: FutureWarning: Passing (type, 1) or '1type' as a synonym of type is deprecated; in a future version of numpy, it will be understood as (type, (1,)) / '(1,)type'.\n",
      "  _np_qint32 = np.dtype([(\"qint32\", np.int32, 1)])\n",
      "C:\\ProgramData\\Anaconda3\\lib\\site-packages\\tensorboard\\compat\\tensorflow_stub\\dtypes.py:550: FutureWarning: Passing (type, 1) or '1type' as a synonym of type is deprecated; in a future version of numpy, it will be understood as (type, (1,)) / '(1,)type'.\n",
      "  np_resource = np.dtype([(\"resource\", np.ubyte, 1)])\n"
     ]
    }
   ],
   "source": [
    "from sklearn.metrics import f1_score, roc_auc_score, log_loss, precision_score, recall_score, confusion_matrix\n",
    "from sklearn.model_selection import KFold, cross_val_predict\n",
    "from sklearn.preprocessing import MinMaxScaler\n",
    "from sklearn.neighbors import KNeighborsRegressor, KNeighborsClassifier\n",
    "\n",
    "from eli5.permutation_importance import get_score_importances as importances\n",
    "import lightgbm as lgb"
   ]
  },
  {
   "cell_type": "code",
   "execution_count": 3,
   "metadata": {},
   "outputs": [],
   "source": [
    "import torch\n",
    "import torch.nn as nn\n",
    "import torch.nn.functional as F\n",
    "from tqdm import trange\n",
    "from torch.autograd import Variable"
   ]
  },
  {
   "cell_type": "markdown",
   "metadata": {},
   "source": [
    "# Additional functions"
   ]
  },
  {
   "cell_type": "code",
   "execution_count": 4,
   "metadata": {},
   "outputs": [],
   "source": [
    "class TrainTestHelper(object):\n",
    "    def __init__(self):\n",
    "        self.ntrain = None\n",
    "\n",
    "    def combine(self, train, test):\n",
    "        self.ntrain = train.shape[0]\n",
    "        if isinstance(train, np.ndarray):\n",
    "            return np.row_stack((train, test))\n",
    "        else:\n",
    "            return train.append(test).reset_index(drop=True)\n",
    "\n",
    "    def split(self, train_test):\n",
    "        if self.ntrain is None:\n",
    "            return None\n",
    "        if isinstance(train_test, np.ndarray):\n",
    "            train = train_test[:self.ntrain, :]\n",
    "            test = train_test[self.ntrain:, :]\n",
    "        else:\n",
    "            train = train_test.iloc[:self.ntrain, :].copy().reset_index(drop=True)\n",
    "            test = train_test.iloc[self.ntrain:, :].copy().reset_index(drop=True)\n",
    "        return train, test"
   ]
  },
  {
   "cell_type": "code",
   "execution_count": 5,
   "metadata": {},
   "outputs": [],
   "source": [
    "class LGBWrapper(object):\n",
    "    def __init__(self, params=None):\n",
    "        self.params = params\n",
    "\n",
    "    def fit(self, X, y):\n",
    "        _X = lgb.Dataset(X, label=y)\n",
    "        self.model = lgb.train(self.params, _X)\n",
    "\n",
    "    def predict(self, X):\n",
    "        return self.model.predict(X)"
   ]
  },
  {
   "cell_type": "code",
   "execution_count": 6,
   "metadata": {},
   "outputs": [],
   "source": [
    "def get_oof_pred(model, X, y, folds):   \n",
    "    cvpred = np.zeros(X.shape[0])\n",
    "    for tr, te in tqdm_notebook(folds.split(X, y)):\n",
    "        X_tr, X_te = X.loc[tr], X.loc[te]\n",
    "        y_tr, y_te = y[tr], y[te]\n",
    "        model.fit(X_tr, y_tr)\n",
    "        cvpred[te] = model.predict(X_te)\n",
    "    return cvpred"
   ]
  },
  {
   "cell_type": "code",
   "execution_count": 7,
   "metadata": {},
   "outputs": [],
   "source": [
    "# just without tqdm\n",
    "def get_oof_pred2(model, X, y, folds):   \n",
    "    cvpred = np.zeros(X.shape[0])\n",
    "    for tr, te in folds.split(X, y):\n",
    "        X_tr, X_te = X.loc[tr], X.loc[te]\n",
    "        y_tr, y_te = y[tr], y[te]\n",
    "        model.fit(X_tr, y_tr)\n",
    "        cvpred[te] = model.predict(X_te)\n",
    "    return cvpred"
   ]
  },
  {
   "cell_type": "code",
   "execution_count": 8,
   "metadata": {},
   "outputs": [],
   "source": [
    "def get_oof(model, X, y, test, folds, metric, permute=False):\n",
    "    \n",
    "    def score(X, y):\n",
    "        y_pred = model.predict(X)\n",
    "        return metric(y, y_pred)\n",
    "    \n",
    "    cvpred = np.zeros(X.shape[0])\n",
    "    pred = np.zeros(test.shape[0])\n",
    "    global_imp = np.zeros(X.shape[1])\n",
    "    for tr, te in tqdm_notebook(folds.split(X, y)):\n",
    "        X_tr, X_te = X.loc[tr], X.loc[te]\n",
    "        y_tr, y_te = y[tr], y[te]\n",
    "        model.fit(X_tr, y_tr)\n",
    "        cvpred[te] = model.predict(X_te)\n",
    "        pred += model.predict(test)\n",
    "        if permute is True:\n",
    "            base_score, local_imp = importances(score, X_te.values, y_te, n_iter=5, random_state=0)\n",
    "            global_imp += np.mean(local_imp, axis=0)\n",
    "    global_imp /= folds.get_n_splits() * (-1)\n",
    "    pred /= folds.get_n_splits()\n",
    "    return cvpred, pred, global_imp\n",
    "\n",
    "#compute permutation importance and run 'BACKWARD'\n",
    "class FeatureSelector(object):\n",
    "    def __init__(self, model, folds, metric):\n",
    "        self.model = model\n",
    "        self.folds = folds\n",
    "        self.metric = metric\n",
    "    \n",
    "    def fit(self, X, y, test):\n",
    "        cvpred, pred, importance = get_oof(self.model, X, y, test, self.folds, self.metric, permute=True)\n",
    "        base_score = self.metric(y, cvpred)\n",
    "        best_score = base_score\n",
    "        self.initial_importance = sorted(list(zip(importance, X.columns)), key=lambda x: x[0])\n",
    "        with open('WNS_selector_importance_raw', 'wb') as fp:\n",
    "            pickle.dump(dict(self.initial_importance), fp)\n",
    "        to_drop = []\n",
    "        print('Base score is:', base_score, '\\n')\n",
    "        for f in tqdm_notebook(self.initial_importance):\n",
    "            to_drop.append(f[1])\n",
    "            _X = X.drop(to_drop, axis=1)\n",
    "            _test = test.drop(to_drop, axis=1)\n",
    "            cvpred, pred, imp = get_oof(self.model, _X, y, _test, self.folds, self.metric)\n",
    "            if self.metric(y, cvpred) > best_score:\n",
    "                to_drop.pop()\n",
    "            else:\n",
    "                print('Feature ' + str(f[1]) + ' has been dropped >>')\n",
    "                print('Score: ' + str(best_score) + ' -> ' + str(self.metric(y, cvpred)))\n",
    "                best_score = self.metric(y, cvpred)\n",
    "                print()        \n",
    "        print('Final score: ', best_score)\n",
    "        self.weak_features = to_drop\n",
    "        self.strong_features = list(set(X.columns) - set(to_drop))\n",
    "        self.oof_train = cvpred\n",
    "        self.oof_test = pred\n",
    "        self.final_importance = imp\n",
    "        return self"
   ]
  },
  {
   "cell_type": "code",
   "execution_count": 9,
   "metadata": {},
   "outputs": [],
   "source": [
    "def get_oof2(model, X, y, test, folds, metric, permute=False):\n",
    "    \n",
    "    def score(X, y):\n",
    "        y_pred = model.predict(X)\n",
    "        \n",
    "        def minus_f_score(cutoff):\n",
    "            if (cutoff < 0) or (cutoff > 1):\n",
    "                return np.inf\n",
    "            else:\n",
    "                return - 1* f1_score(y, 1 * (y_pred > cutoff))\n",
    "            \n",
    "        cutoff_null = [0]\n",
    "        cut_f_min = fmin(minus_f_score, cutoff_null, disp=False)\n",
    "        cut = cut_f_min[0]\n",
    "            \n",
    "        return f1_score(y, 1 * (y_pred > cut))\n",
    "    \n",
    "    cvpred = np.zeros(X.shape[0])\n",
    "    pred = np.zeros(test.shape[0])\n",
    "    global_imp = np.zeros(X.shape[1])\n",
    "    for tr, te in folds.split(X, y):\n",
    "        X_tr, X_te = X.loc[tr], X.loc[te]\n",
    "        y_tr, y_te = y[tr], y[te]\n",
    "        model.fit(X_tr, y_tr)\n",
    "        cvpred[te] = model.predict(X_te)\n",
    "        pred += model.predict(test)\n",
    "        if permute is True:\n",
    "            base_score, local_imp = importances(score, X_te.values, y_te, n_iter=5, random_state=0)\n",
    "            global_imp += np.mean(local_imp, axis=0)\n",
    "    global_imp /= folds.get_n_splits()\n",
    "    pred /= folds.get_n_splits()\n",
    "    return cvpred, pred, global_imp\n",
    "# Same, but score is optimal f1-score for each prediction\n",
    "class FeatureSelector2(object):\n",
    "    def __init__(self, model, folds, metric):\n",
    "        self.model = model\n",
    "        self.folds = folds\n",
    "        self.metric = metric\n",
    "        \n",
    "    \n",
    "    def fit(self, X, y, test):\n",
    "        def score2(y, y_pred):\n",
    "        \n",
    "            def minus_f_score(cutoff):\n",
    "                if (cutoff < 0) or (cutoff > 1):\n",
    "                    return np.inf\n",
    "                else:\n",
    "                    return - 1* f1_score(y, 1 * (y_pred > cutoff))\n",
    "\n",
    "            cutoff_null = [0]\n",
    "            cut_f_min = fmin(minus_f_score, cutoff_null, disp=False)\n",
    "            cut = cut_f_min[0]\n",
    "\n",
    "            return f1_score(y, 1 * (y_pred > cut))\n",
    "            \n",
    "        cvpred, pred, importance = get_oof2(self.model, X, y, test, self.folds, self.metric, permute=True)\n",
    "        base_score = score2(y, cvpred)\n",
    "        best_score = base_score\n",
    "        self.initial_importance = sorted(list(zip(importance, X.columns)), key=lambda x: x[0])\n",
    "        to_drop = []\n",
    "        print('Base score is:', base_score, '\\n')\n",
    "        for f in tqdm_notebook(self.initial_importance):\n",
    "            to_drop.append(f[1])\n",
    "            _X = X.drop(to_drop, axis=1)\n",
    "            _test = test.drop(to_drop, axis=1)\n",
    "            cvpred, pred, imp = get_oof2(self.model, _X, y, _test, self.folds, self.metric)\n",
    "            if score2(y, cvpred) <= best_score:\n",
    "                to_drop.pop()\n",
    "            else:\n",
    "                print('Feature ' + str(f[1]) + ' has been dropped >>')\n",
    "                print('Score: ' + str(best_score) + ' -> ' + str(score2(y, cvpred)))\n",
    "                best_score = score2(y, cvpred)\n",
    "                print()        \n",
    "        print('Final score: ', best_score)\n",
    "        self.weak_features = to_drop\n",
    "        self.strong_features = list(set(X.columns) - set(to_drop))\n",
    "        self.oof_train = cvpred\n",
    "        self.oof_test = pred\n",
    "        self.final_importance = imp\n",
    "        return self"
   ]
  },
  {
   "cell_type": "code",
   "execution_count": 10,
   "metadata": {},
   "outputs": [],
   "source": [
    "def plot_history_a( M_train_history):\n",
    "    plt.style.use('ggplot')\n",
    "    plt.figure(figsize=[6,6])\n",
    "    \n",
    "    plt.title('MSE Loss')\n",
    "    plt.plot(M_train_history, label='MSE', zorder=1, c='lightseagreen')\n",
    "    plt.xlabel('Iteration')\n",
    "    \n",
    "    plt.legend   \n",
    "    plt.show()"
   ]
  },
  {
   "cell_type": "code",
   "execution_count": 11,
   "metadata": {},
   "outputs": [],
   "source": [
    "def iterate_minibatches_a(inputs,  batchsize, shuffle=False):             \n",
    "    if shuffle:\n",
    "        indices = np.random.permutation(len(inputs))\n",
    "    for start_idx in trange(0, len(inputs) - batchsize + 1, batchsize):\n",
    "        if shuffle:\n",
    "            excerpt = indices[start_idx:start_idx + batchsize]\n",
    "        else:\n",
    "            excerpt = slice(start_idx, start_idx + batchsize)\n",
    "        yield inputs[excerpt]"
   ]
  },
  {
   "cell_type": "markdown",
   "metadata": {},
   "source": [
    "# Data downloading"
   ]
  },
  {
   "cell_type": "code",
   "execution_count": 12,
   "metadata": {},
   "outputs": [],
   "source": [
    "train = pd.read_csv('train_LZdllcl.csv')\n",
    "test = pd.read_csv('test_2umaH9m.csv')\n",
    "sub = pd.read_csv('sample_submission_M0L0uXE.csv')\n",
    "del train['employee_id'], test['employee_id']"
   ]
  },
  {
   "cell_type": "code",
   "execution_count": 13,
   "metadata": {},
   "outputs": [
    {
     "name": "stdout",
     "output_type": "stream",
     "text": [
      "Train shape: (54808, 13)\n",
      "Test shape: (23490, 12)\n"
     ]
    }
   ],
   "source": [
    "print('Train shape:', train.shape)\n",
    "print('Test shape:', test.shape)"
   ]
  },
  {
   "cell_type": "code",
   "execution_count": 14,
   "metadata": {},
   "outputs": [],
   "source": [
    "y = train['is_promoted']\n",
    "del train['is_promoted']"
   ]
  },
  {
   "cell_type": "code",
   "execution_count": 15,
   "metadata": {},
   "outputs": [],
   "source": [
    "train_no_feat = pd.read_csv('train_LZdllcl.csv')\n",
    "test_no_feat = pd.read_csv('test_2umaH9m.csv')\n",
    "del train_no_feat['is_promoted']\n",
    "del train_no_feat['employee_id']\n",
    "del test_no_feat['employee_id']\n",
    "\n",
    "helper = TrainTestHelper()\n",
    "data_no_feat = helper.combine(train_no_feat, test_no_feat)\n",
    "\n",
    "to_cat = ['department',\n",
    "          'region',\n",
    "          'gender',\n",
    "          'recruitment_channel']\n",
    "for c in to_cat:\n",
    "    data_no_feat[c] = pd.factorize(data_no_feat[c])[0]\n",
    "    \n",
    "ed_dict = {'Below Secondary': 0, 'Bachelor\\'s': 1, 'Master\\'s & above': 2}\n",
    "data_no_feat['education'] = data_no_feat['education'].map(ed_dict)\n",
    "train_no_feat, test_no_feat = helper.split(data_no_feat)"
   ]
  },
  {
   "cell_type": "markdown",
   "metadata": {},
   "source": [
    "# Feature Generation"
   ]
  },
  {
   "cell_type": "code",
   "execution_count": 16,
   "metadata": {},
   "outputs": [],
   "source": [
    "helper = TrainTestHelper()\n",
    "data = helper.combine(train, test)\n",
    "\n",
    "to_cat = ['department',\n",
    "          'region',\n",
    "          'gender',\n",
    "          'recruitment_channel']\n",
    "for c in to_cat:\n",
    "    data[c] = pd.factorize(data[c])[0]\n",
    "    \n",
    "ed_dict = {'Below Secondary': 0, 'Bachelor\\'s': 1, 'Master\\'s & above': 2}\n",
    "data['education'] = data['education'].map(ed_dict)\n",
    "data = data.fillna(-1)"
   ]
  },
  {
   "cell_type": "code",
   "execution_count": 17,
   "metadata": {},
   "outputs": [],
   "source": [
    "cont = ['avg_training_score', 'age' , 'education', 'length_of_service', 'previous_year_rating', 'no_of_trainings']\n",
    "cat = ['department', 'region', 'education', 'gender', 'recruitment_channel', 'no_of_trainings',\n",
    "       'KPIs_met >80%', 'awards_won?']\n",
    "binary = ['gender', 'KPIs_met >80%', 'awards_won?']"
   ]
  },
  {
   "cell_type": "markdown",
   "metadata": {},
   "source": [
    "## KNN features"
   ]
  },
  {
   "cell_type": "markdown",
   "metadata": {},
   "source": [
    "### KNN for continuous features:"
   ]
  },
  {
   "cell_type": "code",
   "execution_count": 18,
   "metadata": {},
   "outputs": [
    {
     "name": "stderr",
     "output_type": "stream",
     "text": [
      "C:\\ProgramData\\Anaconda3\\lib\\site-packages\\ipykernel_launcher.py:2: TqdmDeprecationWarning: This function will be removed in tqdm==5.0.0\n",
      "Please use `tqdm.notebook.tqdm` instead of `tqdm.tqdm_notebook`\n",
      "  \n"
     ]
    },
    {
     "data": {
      "application/vnd.jupyter.widget-view+json": {
       "model_id": "788f193ac8df4856a378f9276b8b7b39",
       "version_major": 2,
       "version_minor": 0
      },
      "text/plain": [
       "HBox(children=(FloatProgress(value=0.0, max=6.0), HTML(value='')))"
      ]
     },
     "metadata": {},
     "output_type": "display_data"
    },
    {
     "name": "stderr",
     "output_type": "stream",
     "text": [
      "C:\\ProgramData\\Anaconda3\\lib\\site-packages\\ipykernel_launcher.py:5: TqdmDeprecationWarning: This function will be removed in tqdm==5.0.0\n",
      "Please use `tqdm.notebook.tqdm` instead of `tqdm.tqdm_notebook`\n",
      "  \"\"\"\n"
     ]
    },
    {
     "data": {
      "application/vnd.jupyter.widget-view+json": {
       "model_id": "078dc0b10c0140be8a5e955a9753bdec",
       "version_major": 2,
       "version_minor": 0
      },
      "text/plain": [
       "HBox(children=(FloatProgress(value=0.0, max=5.0), HTML(value='')))"
      ]
     },
     "metadata": {},
     "output_type": "display_data"
    },
    {
     "name": "stdout",
     "output_type": "stream",
     "text": [
      "\n"
     ]
    },
    {
     "name": "stderr",
     "output_type": "stream",
     "text": [
      "C:\\ProgramData\\Anaconda3\\lib\\site-packages\\ipykernel_launcher.py:5: TqdmDeprecationWarning: This function will be removed in tqdm==5.0.0\n",
      "Please use `tqdm.notebook.tqdm` instead of `tqdm.tqdm_notebook`\n",
      "  \"\"\"\n"
     ]
    },
    {
     "data": {
      "application/vnd.jupyter.widget-view+json": {
       "model_id": "cf71b7d6eab14630aa982d19f5f01d73",
       "version_major": 2,
       "version_minor": 0
      },
      "text/plain": [
       "HBox(children=(FloatProgress(value=0.0, max=5.0), HTML(value='')))"
      ]
     },
     "metadata": {},
     "output_type": "display_data"
    },
    {
     "name": "stdout",
     "output_type": "stream",
     "text": [
      "\n"
     ]
    },
    {
     "name": "stderr",
     "output_type": "stream",
     "text": [
      "C:\\ProgramData\\Anaconda3\\lib\\site-packages\\ipykernel_launcher.py:5: TqdmDeprecationWarning: This function will be removed in tqdm==5.0.0\n",
      "Please use `tqdm.notebook.tqdm` instead of `tqdm.tqdm_notebook`\n",
      "  \"\"\"\n"
     ]
    },
    {
     "data": {
      "application/vnd.jupyter.widget-view+json": {
       "model_id": "b2a6fdcf15124660915439cd803e6d2f",
       "version_major": 2,
       "version_minor": 0
      },
      "text/plain": [
       "HBox(children=(FloatProgress(value=0.0, max=5.0), HTML(value='')))"
      ]
     },
     "metadata": {},
     "output_type": "display_data"
    },
    {
     "name": "stdout",
     "output_type": "stream",
     "text": [
      "\n"
     ]
    },
    {
     "name": "stderr",
     "output_type": "stream",
     "text": [
      "C:\\ProgramData\\Anaconda3\\lib\\site-packages\\ipykernel_launcher.py:5: TqdmDeprecationWarning: This function will be removed in tqdm==5.0.0\n",
      "Please use `tqdm.notebook.tqdm` instead of `tqdm.tqdm_notebook`\n",
      "  \"\"\"\n"
     ]
    },
    {
     "data": {
      "application/vnd.jupyter.widget-view+json": {
       "model_id": "d7e0fac912084110834b00fd5d9260eb",
       "version_major": 2,
       "version_minor": 0
      },
      "text/plain": [
       "HBox(children=(FloatProgress(value=0.0, max=5.0), HTML(value='')))"
      ]
     },
     "metadata": {},
     "output_type": "display_data"
    },
    {
     "name": "stdout",
     "output_type": "stream",
     "text": [
      "\n"
     ]
    },
    {
     "name": "stderr",
     "output_type": "stream",
     "text": [
      "C:\\ProgramData\\Anaconda3\\lib\\site-packages\\ipykernel_launcher.py:5: TqdmDeprecationWarning: This function will be removed in tqdm==5.0.0\n",
      "Please use `tqdm.notebook.tqdm` instead of `tqdm.tqdm_notebook`\n",
      "  \"\"\"\n"
     ]
    },
    {
     "data": {
      "application/vnd.jupyter.widget-view+json": {
       "model_id": "a208f95414824f6584a07dae741037a2",
       "version_major": 2,
       "version_minor": 0
      },
      "text/plain": [
       "HBox(children=(FloatProgress(value=0.0, max=5.0), HTML(value='')))"
      ]
     },
     "metadata": {},
     "output_type": "display_data"
    },
    {
     "name": "stdout",
     "output_type": "stream",
     "text": [
      "\n"
     ]
    },
    {
     "name": "stderr",
     "output_type": "stream",
     "text": [
      "C:\\ProgramData\\Anaconda3\\lib\\site-packages\\ipykernel_launcher.py:5: TqdmDeprecationWarning: This function will be removed in tqdm==5.0.0\n",
      "Please use `tqdm.notebook.tqdm` instead of `tqdm.tqdm_notebook`\n",
      "  \"\"\"\n"
     ]
    },
    {
     "data": {
      "application/vnd.jupyter.widget-view+json": {
       "model_id": "2117dc2cd6e54122b79768de0e0da527",
       "version_major": 2,
       "version_minor": 0
      },
      "text/plain": [
       "HBox(children=(FloatProgress(value=0.0, max=5.0), HTML(value='')))"
      ]
     },
     "metadata": {},
     "output_type": "display_data"
    },
    {
     "name": "stdout",
     "output_type": "stream",
     "text": [
      "\n",
      "\n"
     ]
    }
   ],
   "source": [
    "data_knn = copy.deepcopy(data)\n",
    "for feat in tqdm_notebook(cont):\n",
    "    X_knn = data_knn.drop(feat, axis=1)\n",
    "    y_knn = data_knn[feat]\n",
    "    for k in tqdm_notebook([5, 10, 50, 200, 1000]):\n",
    "        knn = KNeighborsRegressor(n_neighbors=k, n_jobs=-1)\n",
    "        knn.fit(X_knn, y_knn)\n",
    "        pred_knn = knn.predict(X_knn)\n",
    "        data['dist_'+feat+'_from_'+str(k)+'_nearest_neighbors'] = y_knn-pred_knn\n",
    "        data[feat+'_divided_by_'+str(k)+'_nearest_neighbors'] = y_knn/pred_knn\n",
    "        data[feat+'_'+str(k)+'_nearest_neighbors'] = pred_knn\n",
    "    "
   ]
  },
  {
   "cell_type": "markdown",
   "metadata": {},
   "source": [
    "### KNN for categorical features:"
   ]
  },
  {
   "cell_type": "code",
   "execution_count": 19,
   "metadata": {},
   "outputs": [
    {
     "name": "stderr",
     "output_type": "stream",
     "text": [
      "C:\\ProgramData\\Anaconda3\\lib\\site-packages\\ipykernel_launcher.py:1: TqdmDeprecationWarning: This function will be removed in tqdm==5.0.0\n",
      "Please use `tqdm.notebook.tqdm` instead of `tqdm.tqdm_notebook`\n",
      "  \"\"\"Entry point for launching an IPython kernel.\n"
     ]
    },
    {
     "data": {
      "application/vnd.jupyter.widget-view+json": {
       "model_id": "d3e4589b66af4f5e89f5dd66d1f5e040",
       "version_major": 2,
       "version_minor": 0
      },
      "text/plain": [
       "HBox(children=(FloatProgress(value=0.0, max=8.0), HTML(value='')))"
      ]
     },
     "metadata": {},
     "output_type": "display_data"
    },
    {
     "name": "stderr",
     "output_type": "stream",
     "text": [
      "C:\\ProgramData\\Anaconda3\\lib\\site-packages\\ipykernel_launcher.py:4: TqdmDeprecationWarning: This function will be removed in tqdm==5.0.0\n",
      "Please use `tqdm.notebook.tqdm` instead of `tqdm.tqdm_notebook`\n",
      "  after removing the cwd from sys.path.\n"
     ]
    },
    {
     "data": {
      "application/vnd.jupyter.widget-view+json": {
       "model_id": "df40686a3c7143618abf53819a7bc4db",
       "version_major": 2,
       "version_minor": 0
      },
      "text/plain": [
       "HBox(children=(FloatProgress(value=0.0, max=5.0), HTML(value='')))"
      ]
     },
     "metadata": {},
     "output_type": "display_data"
    },
    {
     "name": "stdout",
     "output_type": "stream",
     "text": [
      "\n"
     ]
    },
    {
     "name": "stderr",
     "output_type": "stream",
     "text": [
      "C:\\ProgramData\\Anaconda3\\lib\\site-packages\\ipykernel_launcher.py:4: TqdmDeprecationWarning: This function will be removed in tqdm==5.0.0\n",
      "Please use `tqdm.notebook.tqdm` instead of `tqdm.tqdm_notebook`\n",
      "  after removing the cwd from sys.path.\n"
     ]
    },
    {
     "data": {
      "application/vnd.jupyter.widget-view+json": {
       "model_id": "47e1a7acf7ee44ec95fe8a07b13c1725",
       "version_major": 2,
       "version_minor": 0
      },
      "text/plain": [
       "HBox(children=(FloatProgress(value=0.0, max=5.0), HTML(value='')))"
      ]
     },
     "metadata": {},
     "output_type": "display_data"
    },
    {
     "name": "stdout",
     "output_type": "stream",
     "text": [
      "\n"
     ]
    },
    {
     "name": "stderr",
     "output_type": "stream",
     "text": [
      "C:\\ProgramData\\Anaconda3\\lib\\site-packages\\ipykernel_launcher.py:4: TqdmDeprecationWarning: This function will be removed in tqdm==5.0.0\n",
      "Please use `tqdm.notebook.tqdm` instead of `tqdm.tqdm_notebook`\n",
      "  after removing the cwd from sys.path.\n"
     ]
    },
    {
     "data": {
      "application/vnd.jupyter.widget-view+json": {
       "model_id": "6695f254bd0b40d8ad069bfb2db7b10a",
       "version_major": 2,
       "version_minor": 0
      },
      "text/plain": [
       "HBox(children=(FloatProgress(value=0.0, max=5.0), HTML(value='')))"
      ]
     },
     "metadata": {},
     "output_type": "display_data"
    },
    {
     "name": "stdout",
     "output_type": "stream",
     "text": [
      "\n"
     ]
    },
    {
     "name": "stderr",
     "output_type": "stream",
     "text": [
      "C:\\ProgramData\\Anaconda3\\lib\\site-packages\\ipykernel_launcher.py:4: TqdmDeprecationWarning: This function will be removed in tqdm==5.0.0\n",
      "Please use `tqdm.notebook.tqdm` instead of `tqdm.tqdm_notebook`\n",
      "  after removing the cwd from sys.path.\n"
     ]
    },
    {
     "data": {
      "application/vnd.jupyter.widget-view+json": {
       "model_id": "393011049a9b4a8cbb9d2cc952d561fd",
       "version_major": 2,
       "version_minor": 0
      },
      "text/plain": [
       "HBox(children=(FloatProgress(value=0.0, max=5.0), HTML(value='')))"
      ]
     },
     "metadata": {},
     "output_type": "display_data"
    },
    {
     "name": "stdout",
     "output_type": "stream",
     "text": [
      "\n"
     ]
    },
    {
     "name": "stderr",
     "output_type": "stream",
     "text": [
      "C:\\ProgramData\\Anaconda3\\lib\\site-packages\\ipykernel_launcher.py:4: TqdmDeprecationWarning: This function will be removed in tqdm==5.0.0\n",
      "Please use `tqdm.notebook.tqdm` instead of `tqdm.tqdm_notebook`\n",
      "  after removing the cwd from sys.path.\n"
     ]
    },
    {
     "data": {
      "application/vnd.jupyter.widget-view+json": {
       "model_id": "71234560ccd34ab8bc039e5edae78131",
       "version_major": 2,
       "version_minor": 0
      },
      "text/plain": [
       "HBox(children=(FloatProgress(value=0.0, max=5.0), HTML(value='')))"
      ]
     },
     "metadata": {},
     "output_type": "display_data"
    },
    {
     "name": "stdout",
     "output_type": "stream",
     "text": [
      "\n"
     ]
    },
    {
     "name": "stderr",
     "output_type": "stream",
     "text": [
      "C:\\ProgramData\\Anaconda3\\lib\\site-packages\\ipykernel_launcher.py:4: TqdmDeprecationWarning: This function will be removed in tqdm==5.0.0\n",
      "Please use `tqdm.notebook.tqdm` instead of `tqdm.tqdm_notebook`\n",
      "  after removing the cwd from sys.path.\n"
     ]
    },
    {
     "data": {
      "application/vnd.jupyter.widget-view+json": {
       "model_id": "3d588d6599ed4c53a3539f4ebf3b343b",
       "version_major": 2,
       "version_minor": 0
      },
      "text/plain": [
       "HBox(children=(FloatProgress(value=0.0, max=5.0), HTML(value='')))"
      ]
     },
     "metadata": {},
     "output_type": "display_data"
    },
    {
     "name": "stdout",
     "output_type": "stream",
     "text": [
      "\n"
     ]
    },
    {
     "name": "stderr",
     "output_type": "stream",
     "text": [
      "C:\\ProgramData\\Anaconda3\\lib\\site-packages\\ipykernel_launcher.py:4: TqdmDeprecationWarning: This function will be removed in tqdm==5.0.0\n",
      "Please use `tqdm.notebook.tqdm` instead of `tqdm.tqdm_notebook`\n",
      "  after removing the cwd from sys.path.\n"
     ]
    },
    {
     "data": {
      "application/vnd.jupyter.widget-view+json": {
       "model_id": "c391cc22a3bc483aaddbcc7fc948532c",
       "version_major": 2,
       "version_minor": 0
      },
      "text/plain": [
       "HBox(children=(FloatProgress(value=0.0, max=5.0), HTML(value='')))"
      ]
     },
     "metadata": {},
     "output_type": "display_data"
    },
    {
     "name": "stdout",
     "output_type": "stream",
     "text": [
      "\n"
     ]
    },
    {
     "name": "stderr",
     "output_type": "stream",
     "text": [
      "C:\\ProgramData\\Anaconda3\\lib\\site-packages\\ipykernel_launcher.py:4: TqdmDeprecationWarning: This function will be removed in tqdm==5.0.0\n",
      "Please use `tqdm.notebook.tqdm` instead of `tqdm.tqdm_notebook`\n",
      "  after removing the cwd from sys.path.\n"
     ]
    },
    {
     "data": {
      "application/vnd.jupyter.widget-view+json": {
       "model_id": "330b713f642948e4a24738154031cb8f",
       "version_major": 2,
       "version_minor": 0
      },
      "text/plain": [
       "HBox(children=(FloatProgress(value=0.0, max=5.0), HTML(value='')))"
      ]
     },
     "metadata": {},
     "output_type": "display_data"
    },
    {
     "name": "stdout",
     "output_type": "stream",
     "text": [
      "\n",
      "\n"
     ]
    }
   ],
   "source": [
    "for feat in tqdm_notebook(cat):\n",
    "    X_knn = data_knn.drop(feat, axis=1)\n",
    "    y_knn = data_knn[feat].factorize()[0]\n",
    "    for k in tqdm_notebook([5, 10, 50, 200, 1000]):\n",
    "        knn = KNeighborsClassifier(n_neighbors=k, n_jobs=-1)\n",
    "        knn.fit(X_knn, y_knn)\n",
    "        pred_knn = knn.predict(X_knn)\n",
    "        pr = knn.predict_proba(X_knn)\n",
    "        prob_of_curr_class = np.array([pr[n, j] for n , j in enumerate(y_knn)])\n",
    "        data['Is_same_'+feat+'_from_'+str(k)+'_nearest_neighbors'] = (y_knn == pred_knn)\n",
    "        data['most_likelihood_class_'+feat+'_from_'+str(k)+'_nearest_neighbors'] = pred_knn\n",
    "        data['prob_of_most_likelihood_class_'+feat+'_from_'+str(k)+'_nearest_neighbors'] = pr.max(axis=1)\n",
    "        data['prob_of_'+feat+'_'+str(k)+'_nearest_neighbors'] = prob_of_curr_class\n",
    "        data['dist_to_most_likelihood_class_'+feat+'_'+str(k)+'_nearest_neighbors'] = pr.max(axis=1) -\\\n",
    "        prob_of_curr_class\n",
    "        try:\n",
    "            data['dist_from_least_likelihood_nonzero_class_'+feat+'_'+str(k)+'_nearest_neighbors'] = prob_of_curr_class -\\\n",
    "            np.array([i[i>0].min() for i in pr])\n",
    "        except:\n",
    "            pass"
   ]
  },
  {
   "cell_type": "code",
   "execution_count": 20,
   "metadata": {},
   "outputs": [],
   "source": [
    "data_knn_feat = data[data.columns[12:]]"
   ]
  },
  {
   "cell_type": "code",
   "execution_count": 21,
   "metadata": {},
   "outputs": [],
   "source": [
    "data_knn_feat.to_csv('data_knn_feat.csv', index=False)"
   ]
  },
  {
   "cell_type": "code",
   "execution_count": 22,
   "metadata": {},
   "outputs": [],
   "source": [
    "helper = TrainTestHelper()\n",
    "data = helper.combine(train, test)\n",
    "\n",
    "to_cat = ['department',\n",
    "          'region',\n",
    "          'gender',\n",
    "          'recruitment_channel']\n",
    "for c in to_cat:\n",
    "    data[c] = pd.factorize(data[c])[0]\n",
    "    \n",
    "ed_dict = {'Below Secondary': 0, 'Bachelor\\'s': 1, 'Master\\'s & above': 2}\n",
    "data['education'] = data['education'].map(ed_dict)"
   ]
  },
  {
   "cell_type": "code",
   "execution_count": 23,
   "metadata": {},
   "outputs": [],
   "source": [
    "data = pd.concat([data, data_knn_feat], axis=1)"
   ]
  },
  {
   "cell_type": "markdown",
   "metadata": {},
   "source": [
    "## Intersect (1st and 2nd order) between binary and categorical features:"
   ]
  },
  {
   "cell_type": "code",
   "execution_count": 24,
   "metadata": {},
   "outputs": [
    {
     "name": "stderr",
     "output_type": "stream",
     "text": [
      "C:\\ProgramData\\Anaconda3\\lib\\site-packages\\ipykernel_launcher.py:1: TqdmDeprecationWarning: This function will be removed in tqdm==5.0.0\n",
      "Please use `tqdm.notebook.tqdm` instead of `tqdm.tqdm_notebook`\n",
      "  \"\"\"Entry point for launching an IPython kernel.\n"
     ]
    },
    {
     "data": {
      "application/vnd.jupyter.widget-view+json": {
       "model_id": "cba40ee5041c41008c84ccbb27430a74",
       "version_major": 2,
       "version_minor": 0
      },
      "text/plain": [
       "HBox(children=(FloatProgress(value=0.0, max=3.0), HTML(value='')))"
      ]
     },
     "metadata": {},
     "output_type": "display_data"
    },
    {
     "name": "stdout",
     "output_type": "stream",
     "text": [
      "\n"
     ]
    },
    {
     "name": "stderr",
     "output_type": "stream",
     "text": [
      "C:\\ProgramData\\Anaconda3\\lib\\site-packages\\ipykernel_launcher.py:6: TqdmDeprecationWarning: This function will be removed in tqdm==5.0.0\n",
      "Please use `tqdm.notebook.tqdm` instead of `tqdm.tqdm_notebook`\n",
      "  \n"
     ]
    },
    {
     "data": {
      "application/vnd.jupyter.widget-view+json": {
       "model_id": "17862b2ef9934447a2784de53138a561",
       "version_major": 2,
       "version_minor": 0
      },
      "text/plain": [
       "HBox(children=(FloatProgress(value=0.0, max=3.0), HTML(value='')))"
      ]
     },
     "metadata": {},
     "output_type": "display_data"
    },
    {
     "name": "stdout",
     "output_type": "stream",
     "text": [
      "\n"
     ]
    },
    {
     "name": "stderr",
     "output_type": "stream",
     "text": [
      "C:\\ProgramData\\Anaconda3\\lib\\site-packages\\ipykernel_launcher.py:14: TqdmDeprecationWarning: This function will be removed in tqdm==5.0.0\n",
      "Please use `tqdm.notebook.tqdm` instead of `tqdm.tqdm_notebook`\n",
      "  \n"
     ]
    },
    {
     "data": {
      "application/vnd.jupyter.widget-view+json": {
       "model_id": "6089fe800d384e5b85a075bea49b1a6f",
       "version_major": 2,
       "version_minor": 0
      },
      "text/plain": [
       "HBox(children=(FloatProgress(value=0.0, max=8.0), HTML(value='')))"
      ]
     },
     "metadata": {},
     "output_type": "display_data"
    },
    {
     "name": "stdout",
     "output_type": "stream",
     "text": [
      "\n"
     ]
    }
   ],
   "source": [
    "for bin_i in tqdm_notebook(binary):\n",
    "    for cat_name in cat:\n",
    "        if cat_name != bin_i:\n",
    "            data[cat_name+'_intersect_'+bin_i] = data[cat_name]*data[bin_i]\n",
    "for_dr = []            \n",
    "for bin_i in tqdm_notebook(binary):\n",
    "    for_dr.append(bin_i)\n",
    "    for bin_j in list(set(binary) - set(for_dr)):\n",
    "        for cat_name in cat:\n",
    "            if bin_i != bin_j:\n",
    "                if cat_name != bin_i:\n",
    "                    data[cat_name+'_intersect_'+bin_i+'_'+bin_j] = data[cat_name]*data[bin_i]*data[bin_j]\n",
    "                    \n",
    "for cat_name in tqdm_notebook(cat):\n",
    "        if cat_name not in binary:\n",
    "            data[cat_name+'_intersect_all_binary'] = data[cat_name]*data['gender']*data['KPIs_met >80%']*data['awards_won?']"
   ]
  },
  {
   "cell_type": "code",
   "execution_count": 25,
   "metadata": {},
   "outputs": [],
   "source": [
    "cat2 = cat + list(data.columns[342:])"
   ]
  },
  {
   "cell_type": "markdown",
   "metadata": {},
   "source": [
    "## Simple interaction among continuous features:"
   ]
  },
  {
   "cell_type": "code",
   "execution_count": 26,
   "metadata": {},
   "outputs": [],
   "source": [
    "for i in cont:\n",
    "    for j in cont:\n",
    "        if i != j:\n",
    "            data[i+'_multiplied_by_'+j] = data[i]*data[j]\n",
    "            try:\n",
    "                data[i+'_divided_by_'+j] = data[i]/data[j]\n",
    "            except:\n",
    "                pass"
   ]
  },
  {
   "cell_type": "markdown",
   "metadata": {},
   "source": [
    "## Some monotonical transformations of continuous features:"
   ]
  },
  {
   "cell_type": "code",
   "execution_count": 27,
   "metadata": {},
   "outputs": [],
   "source": [
    "for columns in cont:\n",
    "    data['log_'+columns] = np.log1p(data[columns])\n",
    "    data['exp_'+columns] = np.expm1(data[columns])\n",
    "    data['power_2_'+columns] = data[columns] ** 2\n",
    "    data['power_075_'+columns] = data[columns] ** 0.75\n",
    "    data['power_05_'+columns] = data[columns] ** 0.5\n",
    "    data['power_025_'+columns] = data[columns] ** 0.25\n",
    "    data['power_01_'+columns] = data[columns] ** 0.1    "
   ]
  },
  {
   "cell_type": "markdown",
   "metadata": {},
   "source": [
    "## Aggregates and statistics of continuous features for given level of categorical feature:"
   ]
  },
  {
   "cell_type": "code",
   "execution_count": null,
   "metadata": {},
   "outputs": [
    {
     "name": "stderr",
     "output_type": "stream",
     "text": [
      "C:\\ProgramData\\Anaconda3\\lib\\site-packages\\ipykernel_launcher.py:1: TqdmDeprecationWarning: This function will be removed in tqdm==5.0.0\n",
      "Please use `tqdm.notebook.tqdm` instead of `tqdm.tqdm_notebook`\n",
      "  \"\"\"Entry point for launching an IPython kernel.\n"
     ]
    },
    {
     "data": {
      "application/vnd.jupyter.widget-view+json": {
       "model_id": "4d21206caf914074be87bafcea80d6e7",
       "version_major": 2,
       "version_minor": 0
      },
      "text/plain": [
       "HBox(children=(FloatProgress(value=0.0, max=6.0), HTML(value='')))"
      ]
     },
     "metadata": {},
     "output_type": "display_data"
    },
    {
     "name": "stderr",
     "output_type": "stream",
     "text": [
      "C:\\ProgramData\\Anaconda3\\lib\\site-packages\\ipykernel_launcher.py:2: TqdmDeprecationWarning: This function will be removed in tqdm==5.0.0\n",
      "Please use `tqdm.notebook.tqdm` instead of `tqdm.tqdm_notebook`\n",
      "  \n"
     ]
    },
    {
     "data": {
      "application/vnd.jupyter.widget-view+json": {
       "model_id": "fa687dab22d74b5e85fe158a097ef977",
       "version_major": 2,
       "version_minor": 0
      },
      "text/plain": [
       "HBox(children=(FloatProgress(value=0.0, max=55.0), HTML(value='')))"
      ]
     },
     "metadata": {},
     "output_type": "display_data"
    },
    {
     "name": "stdout",
     "output_type": "stream",
     "text": [
      "\n"
     ]
    },
    {
     "data": {
      "application/vnd.jupyter.widget-view+json": {
       "model_id": "a7cf3ad9b34f452689fc9519f9ddcc17",
       "version_major": 2,
       "version_minor": 0
      },
      "text/plain": [
       "HBox(children=(FloatProgress(value=0.0, max=55.0), HTML(value='')))"
      ]
     },
     "metadata": {},
     "output_type": "display_data"
    },
    {
     "name": "stdout",
     "output_type": "stream",
     "text": [
      "\n"
     ]
    },
    {
     "data": {
      "application/vnd.jupyter.widget-view+json": {
       "model_id": "0e935b4c377a4844b5a8dd916a3631e7",
       "version_major": 2,
       "version_minor": 0
      },
      "text/plain": [
       "HBox(children=(FloatProgress(value=0.0, max=55.0), HTML(value='')))"
      ]
     },
     "metadata": {},
     "output_type": "display_data"
    },
    {
     "name": "stdout",
     "output_type": "stream",
     "text": [
      "\n"
     ]
    },
    {
     "data": {
      "application/vnd.jupyter.widget-view+json": {
       "model_id": "4cfe586448654e8d8e0783337fef945f",
       "version_major": 2,
       "version_minor": 0
      },
      "text/plain": [
       "HBox(children=(FloatProgress(value=0.0, max=55.0), HTML(value='')))"
      ]
     },
     "metadata": {},
     "output_type": "display_data"
    },
    {
     "name": "stdout",
     "output_type": "stream",
     "text": [
      "\n"
     ]
    },
    {
     "data": {
      "application/vnd.jupyter.widget-view+json": {
       "model_id": "555f02b1bc134709ac7016274966ce20",
       "version_major": 2,
       "version_minor": 0
      },
      "text/plain": [
       "HBox(children=(FloatProgress(value=0.0, max=55.0), HTML(value='')))"
      ]
     },
     "metadata": {},
     "output_type": "display_data"
    }
   ],
   "source": [
    "for cont_name in tqdm_notebook(cont):\n",
    "    for cat_name in tqdm_notebook(cat2):\n",
    "        try:\n",
    "            data[cat_name+'_mean_'+cont_name] = data[cat_name].map(dict(data.groupby(cat_name).mean()[cont_name]))\n",
    "            data[cat_name+'_max_'+cont_name] = data[cat_name].map(dict(data.groupby(cat_name).max()[cont_name]))\n",
    "            data[cat_name+'_min_'+cont_name] = data[cat_name].map(dict(data.groupby(cat_name).min()[cont_name]))\n",
    "            data[cat_name+'_sum_'+cont_name] = data[cat_name].map(dict(data.groupby(cat_name).sum()[cont_name]))\n",
    "            data[cat_name+'_count_'+cont_name] = data[cat_name].map(dict(data.groupby(cat_name).count()[cont_name]))\n",
    "\n",
    "            data[cat_name+'_divided_by_max_'+cont_name] = data[cont_name]/data[cat_name+'_max_'+cont_name]\n",
    "            data[cat_name+'_divided_by_mean_'+cont_name] = data[cont_name]/data[cat_name+'_mean_'+cont_name]\n",
    "            data[cat_name+'_divided_by_sum_'+cont_name] = data[cont_name]/data[cat_name+'_sum_'+cont_name]\n",
    "            data[cat_name+'_divided_by_count_'+cont_name] = data[cont_name]/data[cat_name+'_count_'+cont_name]\n",
    "\n",
    "            data[cat_name+'_normed_by_min_max_'+cont_name] = (data[cont_name] - data[cat_name+'_min_'+cont_name])/ \\\n",
    "            (data[cat_name+'_max_'+cont_name] - data[cat_name+'_min_'+cont_name])\n",
    "\n",
    "            data[cat_name+'_dist_from_min_'+cont_name] = (data[cont_name] - data[cat_name+'_min_'+cont_name])\n",
    "            data[cat_name+'_dist_to_max_'+cont_name] = (data[cat_name+'_max_'+cont_name] - data[cont_name])\n",
    "            data[cat_name+'_dist_from_mean_'+cont_name] = (data[cont_name] - data[cat_name+'_mean_'+cont_name])\n",
    "        except:\n",
    "            pass\n",
    "        "
   ]
  },
  {
   "cell_type": "code",
   "execution_count": 42,
   "metadata": {
    "collapsed": true
   },
   "outputs": [],
   "source": [
    "data.to_csv('data_feat.csv', index=False)"
   ]
  },
  {
   "cell_type": "markdown",
   "metadata": {},
   "source": [
    "## Simple reconstruction error:"
   ]
  },
  {
   "cell_type": "code",
   "execution_count": 53,
   "metadata": {
    "collapsed": true
   },
   "outputs": [],
   "source": [
    "scaler = MinMaxScaler()\n",
    "scaler.fit(data_knn)\n",
    "X_train = scaler.transform(data_knn)"
   ]
  },
  {
   "cell_type": "code",
   "execution_count": 80,
   "metadata": {
    "collapsed": true
   },
   "outputs": [],
   "source": [
    "class Autoencoder(nn.Module):\n",
    "    def __init__(self):\n",
    "        \n",
    "        super(Autoencoder, self).__init__()    \n",
    "        self.fc1 = nn.Linear(int(X_train.shape[1]), int(X_train.shape[1]/2))\n",
    "        self.fc2 = nn.Linear(int(X_train.shape[1]/2), int(X_train.shape[1]/2))\n",
    "        self.fc3 = nn.Linear(int(X_train.shape[1]/2), int(X_train.shape[1]))       \n",
    "        \n",
    "    def forward(self, x1):\n",
    "        inputs = x1 \n",
    "        x = F.leaky_relu(self.fc1(inputs))\n",
    "        x = F.leaky_relu(self.fc2(x))\n",
    "        output = F.sigmoid(self.fc3(x))\n",
    "        return output\n",
    "        \n",
    "    def get_error_mse(self, x):\n",
    "    \n",
    "        X_mb = Variable(torch.from_numpy(x)).type(torch.FloatTensor).cuda()        \n",
    "        auto = self.forward(X_mb)\n",
    "        output = torch.mean((X_mb - auto)**2, dim=1)\n",
    "        \n",
    "        return output.data.cpu().numpy()\n",
    "    \n",
    "    def get_error_mae(self, x):\n",
    "    \n",
    "        X_mb = Variable(torch.from_numpy(x)).type(torch.FloatTensor).cuda()        \n",
    "        auto = self.forward(X_mb)\n",
    "        output = torch.mean(torch.abs(X_mb - auto), dim=1)\n",
    "        \n",
    "        return output.data.cpu().numpy()"
   ]
  },
  {
   "cell_type": "code",
   "execution_count": 81,
   "metadata": {
    "collapsed": true
   },
   "outputs": [],
   "source": [
    "def train_a(model, opt, batchsize=200):\n",
    "    MSE_log =  []\n",
    "    for x_batch in iterate_minibatches_a(X_train, batchsize=batchsize, shuffle=True):\n",
    "        X_mb = Variable(torch.from_numpy(x_batch)).type(torch.FloatTensor).cuda()\n",
    "        A_solver = opt            \n",
    "        A_solver.zero_grad()\n",
    "        output = model(X_mb)\n",
    "        MSE_train_loss = torch.mean(( X_mb - output)**2)\n",
    "        MSE_train_loss.backward()\n",
    "        \n",
    "        A_solver.step()\n",
    "        MSE_loss = MSE_train_loss.cpu().data.numpy()\n",
    "        MSE_log.append(MSE_loss)\n",
    "        \n",
    "    return MSE_log"
   ]
  },
  {
   "cell_type": "code",
   "execution_count": 87,
   "metadata": {},
   "outputs": [
    {
     "name": "stdout",
     "output_type": "stream",
     "text": [
      "Epoch: 1, MSE loss: 0.018566854298114777\n"
     ]
    },
    {
     "data": {
      "image/png": "[encoded data removed]",
      "text/plain": [
       "<matplotlib.figure.Figure at 0x14ba4ca1160>"
      ]
     },
     "metadata": {},
     "output_type": "display_data"
    }
   ],
   "source": [
    "torch.cuda.manual_seed(60)\n",
    "torch.manual_seed(60)\n",
    "\n",
    "MSE_loss_log = []\n",
    "\n",
    "batchsize = 200\n",
    "lr = 0.02\n",
    "\n",
    "\n",
    "Autoencoder_model = Autoencoder().cuda()\n",
    "\n",
    "opt = torch.optim.Adam(Autoencoder_model.parameters(), lr=lr)\n",
    "\n",
    "for epoch in range(2):\n",
    "    steps = X_train.shape[0]/batchsize\n",
    "\n",
    "    MSE_loss = train_a(Autoencoder_model, opt, batchsize=batchsize)\n",
    "\n",
    "    MSE_loss_log.extend(MSE_loss) \n",
    "    clear_output()\n",
    "    print('Epoch: {e}, MSE loss: {M1}'.format(e=epoch, M1=np.mean(MSE_loss)))\n",
    "    \n",
    "    plot_history_a( MSE_loss_log)"
   ]
  },
  {
   "cell_type": "code",
   "execution_count": 84,
   "metadata": {
    "collapsed": true
   },
   "outputs": [],
   "source": [
    "data['reconstruction_error_mse'] = Autoencoder_model.eval().get_error_mse(X_train)\n",
    "data['reconstruction_error_mae'] = Autoencoder_model.eval().get_error_mae(X_train)"
   ]
  },
  {
   "cell_type": "code",
   "execution_count": 85,
   "metadata": {
    "collapsed": true
   },
   "outputs": [],
   "source": [
    "data.to_csv('data_feat_with_re.csv', index=False)"
   ]
  },
  {
   "cell_type": "code",
   "execution_count": 11,
   "metadata": {
    "collapsed": true
   },
   "outputs": [],
   "source": [
    "data = pd.read_csv('data_feat_with_re.csv')"
   ]
  },
  {
   "cell_type": "code",
   "execution_count": 17,
   "metadata": {
    "collapsed": true
   },
   "outputs": [],
   "source": [
    "train, test = helper.split(data)"
   ]
  },
  {
   "cell_type": "code",
   "execution_count": 90,
   "metadata": {
    "collapsed": true
   },
   "outputs": [],
   "source": [
    "del X_train\n",
    "del data_knn\n",
    "del data_knn_feat\n",
    "del X_knn\n",
    "del y_knn\n",
    "del data"
   ]
  },
  {
   "cell_type": "code",
   "execution_count": 13,
   "metadata": {},
   "outputs": [
    {
     "data": {
      "text/plain": [
       "(54808, 4757)"
      ]
     },
     "execution_count": 13,
     "metadata": {},
     "output_type": "execute_result"
    }
   ],
   "source": [
    "train.shape"
   ]
  },
  {
   "cell_type": "markdown",
   "metadata": {},
   "source": [
    "# Feature selection"
   ]
  },
  {
   "cell_type": "code",
   "execution_count": 141,
   "metadata": {
    "collapsed": true
   },
   "outputs": [],
   "source": [
    "folds = KFold(n_splits=3, shuffle=True, random_state=0)"
   ]
  },
  {
   "cell_type": "markdown",
   "metadata": {},
   "source": [
    "## Raw feature importances:"
   ]
  },
  {
   "cell_type": "code",
   "execution_count": 23,
   "metadata": {},
   "outputs": [
    {
     "data": {
      "application/vnd.jupyter.widget-view+json": {
       "model_id": "167005e163d24091b3c3aa0b121c9cce",
       "version_major": 2,
       "version_minor": 0
      },
      "text/plain": [
       "A Jupyter Widget"
      ]
     },
     "metadata": {},
     "output_type": "display_data"
    },
    {
     "name": "stdout",
     "output_type": "stream",
     "text": [
      "\n"
     ]
    }
   ],
   "source": [
    "imp_auc = []\n",
    "for col in tqdm_notebook(train.columns):\n",
    "    imp_auc.append([col , 2*np.abs(roc_auc_score(y, train[col].replace([np.inf, -np.inf], [np.NaN, np.NaN]).fillna(-1)))-1])"
   ]
  },
  {
   "cell_type": "code",
   "execution_count": 28,
   "metadata": {
    "collapsed": true
   },
   "outputs": [],
   "source": [
    "df = pd.DataFrame(imp_auc, columns=['Feature', 'Gini'])"
   ]
  },
  {
   "cell_type": "code",
   "execution_count": 119,
   "metadata": {},
   "outputs": [
    {
     "data": {
      "text/html": [
       "<div>\n",
       "<style scoped>\n",
       "    .dataframe tbody tr th:only-of-type {\n",
       "        vertical-align: middle;\n",
       "    }\n",
       "\n",
       "    .dataframe tbody tr th {\n",
       "        vertical-align: top;\n",
       "    }\n",
       "\n",
       "    .dataframe thead th {\n",
       "        text-align: right;\n",
       "    }\n",
       "</style>\n",
       "<table border=\"1\" class=\"dataframe\">\n",
       "  <thead>\n",
       "    <tr style=\"text-align: right;\">\n",
       "      <th></th>\n",
       "      <th>Feature</th>\n",
       "      <th>Gini</th>\n",
       "    </tr>\n",
       "  </thead>\n",
       "  <tbody>\n",
       "    <tr>\n",
       "      <th>733</th>\n",
       "      <td>gender_intersect_KPIs_met &gt;80%_divided_by_coun...</td>\n",
       "      <td>0.468511</td>\n",
       "    </tr>\n",
       "    <tr>\n",
       "      <th>940</th>\n",
       "      <td>KPIs_met &gt;80%_intersect_gender_KPIs_met &gt;80%_d...</td>\n",
       "      <td>0.468511</td>\n",
       "    </tr>\n",
       "    <tr>\n",
       "      <th>707</th>\n",
       "      <td>region_intersect_KPIs_met &gt;80%_divided_by_coun...</td>\n",
       "      <td>0.474005</td>\n",
       "    </tr>\n",
       "    <tr>\n",
       "      <th>706</th>\n",
       "      <td>region_intersect_KPIs_met &gt;80%_divided_by_sum_...</td>\n",
       "      <td>0.474302</td>\n",
       "    </tr>\n",
       "    <tr>\n",
       "      <th>720</th>\n",
       "      <td>education_intersect_KPIs_met &gt;80%_divided_by_c...</td>\n",
       "      <td>0.507860</td>\n",
       "    </tr>\n",
       "    <tr>\n",
       "      <th>719</th>\n",
       "      <td>education_intersect_KPIs_met &gt;80%_divided_by_s...</td>\n",
       "      <td>0.507860</td>\n",
       "    </tr>\n",
       "    <tr>\n",
       "      <th>759</th>\n",
       "      <td>no_of_trainings_intersect_KPIs_met &gt;80%_divide...</td>\n",
       "      <td>0.528221</td>\n",
       "    </tr>\n",
       "    <tr>\n",
       "      <th>758</th>\n",
       "      <td>no_of_trainings_intersect_KPIs_met &gt;80%_divide...</td>\n",
       "      <td>0.528329</td>\n",
       "    </tr>\n",
       "    <tr>\n",
       "      <th>576</th>\n",
       "      <td>KPIs_met &gt;80%_divided_by_sum_avg_training_score</td>\n",
       "      <td>0.544554</td>\n",
       "    </tr>\n",
       "    <tr>\n",
       "      <th>577</th>\n",
       "      <td>KPIs_met &gt;80%_divided_by_count_avg_training_score</td>\n",
       "      <td>0.545403</td>\n",
       "    </tr>\n",
       "  </tbody>\n",
       "</table>\n",
       "</div>"
      ],
      "text/plain": [
       "                                               Feature      Gini\n",
       "733  gender_intersect_KPIs_met >80%_divided_by_coun...  0.468511\n",
       "940  KPIs_met >80%_intersect_gender_KPIs_met >80%_d...  0.468511\n",
       "707  region_intersect_KPIs_met >80%_divided_by_coun...  0.474005\n",
       "706  region_intersect_KPIs_met >80%_divided_by_sum_...  0.474302\n",
       "720  education_intersect_KPIs_met >80%_divided_by_c...  0.507860\n",
       "719  education_intersect_KPIs_met >80%_divided_by_s...  0.507860\n",
       "759  no_of_trainings_intersect_KPIs_met >80%_divide...  0.528221\n",
       "758  no_of_trainings_intersect_KPIs_met >80%_divide...  0.528329\n",
       "576    KPIs_met >80%_divided_by_sum_avg_training_score  0.544554\n",
       "577  KPIs_met >80%_divided_by_count_avg_training_score  0.545403"
      ]
     },
     "execution_count": 119,
     "metadata": {},
     "output_type": "execute_result"
    }
   ],
   "source": [
    "df[df.Gini > 0.35 ].sort_values('Gini').iloc[-10:]"
   ]
  },
  {
   "cell_type": "code",
   "execution_count": 153,
   "metadata": {
    "collapsed": true
   },
   "outputs": [],
   "source": [
    "feat_gini = df[df.Gini > 0.4 ].sort_values('Gini').Feature"
   ]
  },
  {
   "cell_type": "code",
   "execution_count": 55,
   "metadata": {
    "collapsed": true
   },
   "outputs": [],
   "source": [
    "from lightgbm.sklearn import LGBMClassifier"
   ]
  },
  {
   "cell_type": "code",
   "execution_count": 59,
   "metadata": {
    "collapsed": true
   },
   "outputs": [],
   "source": [
    "cv_lbg = lgb.cv(nfold=2, shuffle=True,\n",
    "                metrics='log_loss', params=params2, seed=0, train_set=lgb.Dataset(train, label=y))"
   ]
  },
  {
   "cell_type": "code",
   "execution_count": 64,
   "metadata": {
    "collapsed": true
   },
   "outputs": [],
   "source": [
    "m = lgb.LGBMClassifier()"
   ]
  },
  {
   "cell_type": "code",
   "execution_count": 65,
   "metadata": {},
   "outputs": [
    {
     "data": {
      "text/plain": [
       "LGBMClassifier(boosting_type='gbdt', class_weight=None, colsample_bytree=1.0,\n",
       "        learning_rate=0.1, max_depth=-1, min_child_samples=20,\n",
       "        min_child_weight=0.001, min_split_gain=0.0, n_estimators=100,\n",
       "        n_jobs=-1, num_leaves=31, objective=None, random_state=None,\n",
       "        reg_alpha=0.0, reg_lambda=0.0, silent=True, subsample=1.0,\n",
       "        subsample_for_bin=200000, subsample_freq=0)"
      ]
     },
     "execution_count": 65,
     "metadata": {},
     "output_type": "execute_result"
    }
   ],
   "source": [
    "m.fit(train, y)"
   ]
  },
  {
   "cell_type": "code",
   "execution_count": 67,
   "metadata": {
    "collapsed": true
   },
   "outputs": [],
   "source": [
    "imp_lgb = m.feature_importances_"
   ]
  },
  {
   "cell_type": "code",
   "execution_count": 93,
   "metadata": {
    "collapsed": true
   },
   "outputs": [],
   "source": [
    "df2 = pd.DataFrame(np.array([train.columns, imp_lgb]).T, columns=['Feature', 'imp']).sort_values('imp')"
   ]
  },
  {
   "cell_type": "markdown",
   "metadata": {},
   "source": [
    "## Selectors:"
   ]
  },
  {
   "cell_type": "code",
   "execution_count": 143,
   "metadata": {
    "collapsed": true
   },
   "outputs": [],
   "source": [
    "imp_dict = dict(np.array([imp_lgb + np.random.uniform(0,0.1, imp_lgb.shape), train.columns]).T)\n",
    "ar_imp = np.array(list(imp_dict.keys()))"
   ]
  },
  {
   "cell_type": "code",
   "execution_count": 147,
   "metadata": {
    "scrolled": true
   },
   "outputs": [
    {
     "name": "stderr",
     "output_type": "stream",
     "text": [
      "\n",
      "  0%|          | 0/4757 [00:00<?, ?it/s]"
     ]
    },
    {
     "name": "stdout",
     "output_type": "stream",
     "text": [
      "Base score: 0.17147941675925427\n"
     ]
    },
    {
     "name": "stderr",
     "output_type": "stream",
     "text": [
      "\n",
      "  0%|          | 5/4757 [00:02<32:41,  2.42it/s]"
     ]
    },
    {
     "name": "stdout",
     "output_type": "stream",
     "text": [
      "feat reconstruction_error_mse was added. Base score: 0.16983953986001696\n"
     ]
    },
    {
     "name": "stderr",
     "output_type": "stream",
     "text": [
      "\n",
      "  0%|          | 6/4757 [00:04<55:22,  1.43it/s]\n",
      "Exception in thread Thread-54:\n",
      "Traceback (most recent call last):\n",
      "  File \"C:\\Users\\Simakov\\Anaconda3\\lib\\threading.py\", line 916, in _bootstrap_inner\n",
      "    self.run()\n",
      "  File \"C:\\Users\\Simakov\\Anaconda3\\lib\\site-packages\\tqdm\\_tqdm.py\", line 144, in run\n",
      "    for instance in self.tqdm_cls._instances:\n",
      "  File \"C:\\Users\\Simakov\\Anaconda3\\lib\\_weakrefset.py\", line 60, in __iter__\n",
      "    for itemref in self.data:\n",
      "RuntimeError: Set changed size during iteration\n",
      "\n"
     ]
    },
    {
     "name": "stdout",
     "output_type": "stream",
     "text": [
      "feat region_mean_previous_year_rating was added. Base score: 0.16777816629767137\n"
     ]
    },
    {
     "name": "stderr",
     "output_type": "stream",
     "text": [
      "  0%|          | 9/4757 [00:11<1:39:03,  1.25s/it]"
     ]
    },
    {
     "name": "stdout",
     "output_type": "stream",
     "text": [
      "feat avg_training_score_multiplied_by_previous_year_rating was added. Base score: 0.16394556153417378\n"
     ]
    },
    {
     "name": "stderr",
     "output_type": "stream",
     "text": [
      "  0%|          | 12/4757 [00:19<2:05:55,  1.59s/it]"
     ]
    },
    {
     "name": "stdout",
     "output_type": "stream",
     "text": [
      "feat avg_training_score_50_nearest_neighbors was added. Base score: 0.16372975261980957\n"
     ]
    },
    {
     "name": "stderr",
     "output_type": "stream",
     "text": [
      "  0%|          | 14/4757 [00:24<2:17:59,  1.75s/it]"
     ]
    },
    {
     "name": "stdout",
     "output_type": "stream",
     "text": [
      "feat previous_year_rating_1000_nearest_neighbors was added. Base score: 0.16337398884069185\n"
     ]
    },
    {
     "name": "stderr",
     "output_type": "stream",
     "text": [
      "  0%|          | 22/4757 [00:48<2:53:22,  2.20s/it]"
     ]
    },
    {
     "name": "stdout",
     "output_type": "stream",
     "text": [
      "feat dist_from_least_likelihood_nonzero_class_education_50_nearest_neighbors was added. Base score: 0.16331212043430388\n"
     ]
    },
    {
     "name": "stderr",
     "output_type": "stream",
     "text": [
      "  1%|          | 25/4757 [00:57<3:00:56,  2.29s/it]"
     ]
    },
    {
     "name": "stdout",
     "output_type": "stream",
     "text": [
      "feat no_of_trainings_intersect_KPIs_met >80%_divided_by_count_previous_year_rating was added. Base score: 0.16324983606508922\n"
     ]
    },
    {
     "name": "stderr",
     "output_type": "stream",
     "text": [
      "\r",
      "  1%|          | 26/4757 [01:00<3:03:13,  2.32s/it]"
     ]
    },
    {
     "name": "stdout",
     "output_type": "stream",
     "text": [
      "feat prob_of_KPIs_met >80%_1000_nearest_neighbors was added. Base score: 0.16300410168492674\n"
     ]
    },
    {
     "name": "stderr",
     "output_type": "stream",
     "text": [
      "  1%|          | 34/4757 [01:27<3:23:13,  2.58s/it]"
     ]
    },
    {
     "name": "stdout",
     "output_type": "stream",
     "text": [
      "feat length_of_service_divided_by_10_nearest_neighbors was added. Base score: 0.16299938645307938\n"
     ]
    },
    {
     "name": "stderr",
     "output_type": "stream",
     "text": [
      "  1%|          | 48/4757 [02:18<3:46:57,  2.89s/it]"
     ]
    },
    {
     "name": "stdout",
     "output_type": "stream",
     "text": [
      "feat region_mean_age was added. Base score: 0.16290384822618736\n"
     ]
    },
    {
     "name": "stderr",
     "output_type": "stream",
     "text": [
      "  1%|          | 51/4757 [02:30<3:50:51,  2.94s/it]"
     ]
    },
    {
     "name": "stdout",
     "output_type": "stream",
     "text": [
      "feat department_intersect_KPIs_met >80%_divided_by_sum_previous_year_rating was added. Base score: 0.16272639210852405\n"
     ]
    },
    {
     "name": "stderr",
     "output_type": "stream",
     "text": [
      "  1%|          | 53/4757 [02:37<3:53:30,  2.98s/it]"
     ]
    },
    {
     "name": "stdout",
     "output_type": "stream",
     "text": [
      "feat age_divided_by_5_nearest_neighbors was added. Base score: 0.16267482634147915\n"
     ]
    },
    {
     "name": "stderr",
     "output_type": "stream",
     "text": [
      "\r",
      "  1%|          | 54/4757 [02:41<3:54:48,  3.00s/it]"
     ]
    },
    {
     "name": "stdout",
     "output_type": "stream",
     "text": [
      "feat prob_of_most_likelihood_class_recruitment_channel_from_50_nearest_neighbors was added. Base score: 0.16232515498231465\n"
     ]
    },
    {
     "name": "stderr",
     "output_type": "stream",
     "text": [
      "  2%|▏         | 114/4757 [06:53<4:40:54,  3.63s/it]"
     ]
    },
    {
     "name": "stdout",
     "output_type": "stream",
     "text": [
      "feat prob_of_awards_won?_200_nearest_neighbors was added. Base score: 0.16205090249129173\n"
     ]
    },
    {
     "name": "stderr",
     "output_type": "stream",
     "text": [
      "\r",
      "  2%|▏         | 115/4757 [06:57<4:41:08,  3.63s/it]"
     ]
    },
    {
     "name": "stdout",
     "output_type": "stream",
     "text": [
      "feat department_divided_by_max_no_of_trainings was added. Base score: 0.162019554791642\n"
     ]
    },
    {
     "name": "stderr",
     "output_type": "stream",
     "text": [
      "  3%|▎         | 119/4757 [07:15<4:42:49,  3.66s/it]"
     ]
    },
    {
     "name": "stdout",
     "output_type": "stream",
     "text": [
      "feat dist_from_least_likelihood_nonzero_class_awards_won?_50_nearest_neighbors was added. Base score: 0.16187452772640312\n"
     ]
    },
    {
     "name": "stderr",
     "output_type": "stream",
     "text": [
      "  3%|▎         | 121/4757 [07:24<4:43:38,  3.67s/it]"
     ]
    },
    {
     "name": "stdout",
     "output_type": "stream",
     "text": [
      "feat prob_of_most_likelihood_class_gender_from_10_nearest_neighbors was added. Base score: 0.16186105655919839\n"
     ]
    },
    {
     "name": "stderr",
     "output_type": "stream",
     "text": [
      "  3%|▎         | 124/4757 [07:37<4:45:00,  3.69s/it]"
     ]
    },
    {
     "name": "stdout",
     "output_type": "stream",
     "text": [
      "feat education_divided_by_5_nearest_neighbors was added. Base score: 0.1616007244095151\n"
     ]
    },
    {
     "name": "stderr",
     "output_type": "stream",
     "text": [
      "  3%|▎         | 128/4757 [07:56<4:47:07,  3.72s/it]"
     ]
    },
    {
     "name": "stdout",
     "output_type": "stream",
     "text": [
      "feat recruitment_channel_intersect_gender_KPIs_met >80%_divided_by_mean_previous_year_rating was added. Base score: 0.16145093533609864\n"
     ]
    },
    {
     "name": "stderr",
     "output_type": "stream",
     "text": [
      "\r",
      "  3%|▎         | 129/4757 [08:01<4:47:36,  3.73s/it]"
     ]
    },
    {
     "name": "stdout",
     "output_type": "stream",
     "text": [
      "feat no_of_trainings_intersect_gender_divided_by_sum_age was added. Base score: 0.16129783409065765\n"
     ]
    },
    {
     "name": "stderr",
     "output_type": "stream",
     "text": [
      "  3%|▎         | 138/4757 [08:45<4:53:13,  3.81s/it]"
     ]
    },
    {
     "name": "stdout",
     "output_type": "stream",
     "text": [
      "feat dist_from_least_likelihood_nonzero_class_awards_won?_200_nearest_neighbors was added. Base score: 0.16121040165459838\n"
     ]
    },
    {
     "name": "stderr",
     "output_type": "stream",
     "text": [
      "  3%|▎         | 150/4757 [09:48<5:01:01,  3.92s/it]"
     ]
    },
    {
     "name": "stdout",
     "output_type": "stream",
     "text": [
      "feat previous_year_rating_divided_by_no_of_trainings was added. Base score: 0.16118146587996257\n"
     ]
    },
    {
     "name": "stderr",
     "output_type": "stream",
     "text": [
      "  8%|▊         | 390/4757 [30:55<5:46:22,  4.76s/it]"
     ]
    },
    {
     "name": "stdout",
     "output_type": "stream",
     "text": [
      "feat most_likelihood_class_no_of_trainings_from_5_nearest_neighbors was added. Base score: 0.16111096951505416\n"
     ]
    },
    {
     "name": "stderr",
     "output_type": "stream",
     "text": [
      " 17%|█▋        | 790/4757 [1:06:12<5:32:27,  5.03s/it]"
     ]
    },
    {
     "name": "stdout",
     "output_type": "stream",
     "text": [
      "feat awards_won?_intersect_KPIs_met >80%_dist_to_max_previous_year_rating was added. Base score: 0.16110925307823945\n"
     ]
    },
    {
     "name": "stderr",
     "output_type": "stream",
     "text": [
      " 17%|█▋        | 811/4757 [1:08:04<5:31:15,  5.04s/it]"
     ]
    },
    {
     "name": "stdout",
     "output_type": "stream",
     "text": [
      "feat no_of_trainings_sum_length_of_service was added. Base score: 0.16110739052253567\n"
     ]
    },
    {
     "name": "stderr",
     "output_type": "stream",
     "text": [
      " 20%|█▉        | 931/4757 [1:19:00<5:24:43,  5.09s/it]"
     ]
    },
    {
     "name": "stdout",
     "output_type": "stream",
     "text": [
      "feat no_of_trainings_intersect_awards_won? was added. Base score: 0.16110738700659838\n"
     ]
    },
    {
     "name": "stderr",
     "output_type": "stream",
     "text": [
      " 23%|██▎       | 1076/4757 [1:32:16<5:15:41,  5.15s/it]"
     ]
    },
    {
     "name": "stdout",
     "output_type": "stream",
     "text": [
      "feat department_intersect_KPIs_met >80%_min_age was added. Base score: 0.16110728255413545\n"
     ]
    },
    {
     "name": "stderr",
     "output_type": "stream",
     "text": [
      " 34%|███▍      | 1622/4757 [2:23:18<4:36:58,  5.30s/it]"
     ]
    },
    {
     "name": "stdout",
     "output_type": "stream",
     "text": [
      "feat region_intersect_all_binary_min_length_of_service was added. Base score: 0.16109529542439033\n"
     ]
    },
    {
     "name": "stderr",
     "output_type": "stream",
     "text": [
      " 39%|███▊      | 1838/4757 [2:43:52<4:20:15,  5.35s/it]"
     ]
    },
    {
     "name": "stdout",
     "output_type": "stream",
     "text": [
      "feat dist_to_most_likelihood_class_awards_won?_200_nearest_neighbors was added. Base score: 0.16109356950999537\n"
     ]
    },
    {
     "name": "stderr",
     "output_type": "stream",
     "text": [
      " 48%|████▊     | 2267/4757 [3:25:03<3:45:14,  5.43s/it]"
     ]
    },
    {
     "name": "stdout",
     "output_type": "stream",
     "text": [
      "feat no_of_trainings_intersect_gender_min_no_of_trainings was added. Base score: 0.16107215687197324\n"
     ]
    },
    {
     "name": "stderr",
     "output_type": "stream",
     "text": [
      " 52%|█████▏    | 2465/4757 [3:44:20<3:28:35,  5.46s/it]"
     ]
    },
    {
     "name": "stdout",
     "output_type": "stream",
     "text": [
      "feat recruitment_channel_intersect_awards_won?_max_avg_training_score was added. Base score: 0.16104430259607022\n"
     ]
    },
    {
     "name": "stderr",
     "output_type": "stream",
     "text": [
      " 74%|███████▍  | 3532/4757 [5:30:03<1:54:28,  5.61s/it]"
     ]
    },
    {
     "name": "stdout",
     "output_type": "stream",
     "text": [
      "feat no_of_trainings_intersect_gender_KPIs_met >80%_min_no_of_trainings was added. Base score: 0.16095980600371632\n"
     ]
    },
    {
     "name": "stderr",
     "output_type": "stream",
     "text": [
      " 99%|█████████▉| 4706/4757 [7:29:42<04:52,  5.73s/it]  "
     ]
    },
    {
     "name": "stdout",
     "output_type": "stream",
     "text": [
      "feat region_intersect_awards_won?_min_previous_year_rating was added. Base score: 0.16093125608978612\n"
     ]
    },
    {
     "name": "stderr",
     "output_type": "stream",
     "text": [
      "100%|██████████| 4757/4757 [7:34:59<00:00,  5.74s/it]\n"
     ]
    }
   ],
   "source": [
    "# 'FORWARD'\n",
    "feat = []\n",
    "for i in tqdm(list(reversed([imp_dict.get(g) for g in np.sort(ar_imp)]))):\n",
    "    feat.append(i)\n",
    "    if len(feat)==5:\n",
    "        model = LGBWrapper(params2)\n",
    "        oof_pred = get_oof_pred2(model, train[feat], y, folds)\n",
    "        base_score = log_loss(y, oof_pred)\n",
    "        print('Base score: {bs}'.format(bs = base_score))\n",
    "    if len(feat)>5:\n",
    "        model = LGBWrapper(params2)\n",
    "        oof_pred = get_oof_pred2(model, train[feat], y, folds)\n",
    "        if log_loss(y, oof_pred) >= base_score:\n",
    "            feat.pop()\n",
    "        else:\n",
    "            base_score = log_loss(y, oof_pred)\n",
    "            print('feat {i} was added. Base score: {bs}'.format(i=i, bs = base_score))"
   ]
  },
  {
   "cell_type": "code",
   "execution_count": 148,
   "metadata": {
    "collapsed": true
   },
   "outputs": [],
   "source": [
    "with open('WNS_selector2_strong_feat', 'wb') as fp:\n",
    "    pickle.dump(feat, fp)"
   ]
  },
  {
   "cell_type": "code",
   "execution_count": 149,
   "metadata": {
    "collapsed": true
   },
   "outputs": [],
   "source": [
    "with open('WNS_selector2_strong_feat', 'rb') as fp:\n",
    "    selector2_strong_feat = pickle.load(fp)"
   ]
  },
  {
   "cell_type": "code",
   "execution_count": 157,
   "metadata": {},
   "outputs": [
    {
     "data": {
      "text/plain": [
       "(78298, 66)"
      ]
     },
     "execution_count": 157,
     "metadata": {},
     "output_type": "execute_result"
    }
   ],
   "source": [
    "data[selector2_strong_feat+['reconstruction_error_mse', 'reconstruction_error_mae']+list(feat_gini)] "
   ]
  },
  {
   "cell_type": "markdown",
   "metadata": {},
   "source": [
    "### add features"
   ]
  },
  {
   "cell_type": "code",
   "execution_count": 162,
   "metadata": {
    "collapsed": true
   },
   "outputs": [],
   "source": [
    "train_no_feat = pd.read_csv('train_LZdllcl.xls')\n",
    "test_no_feat = pd.read_csv('test_2umaH9m.xls')\n",
    "del train_no_feat['is_promoted']\n",
    "del train_no_feat['employee_id']\n",
    "del test_no_feat['employee_id']\n",
    "\n",
    "helper = TrainTestHelper()\n",
    "data_no_feat = helper.combine(train_no_feat, test_no_feat)"
   ]
  },
  {
   "cell_type": "code",
   "execution_count": 163,
   "metadata": {
    "collapsed": true
   },
   "outputs": [],
   "source": [
    "data_no_feat['department|training'] = data_no_feat['department'] + \\\n",
    "np.digitize(data_no_feat['avg_training_score'], [c * 10 for c in range(3, 11)]).astype(str)\n",
    "data_no_feat['kpi|training'] = data_no_feat['KPIs_met >80%'].astype(str) + \\\n",
    "np.digitize(data_no_feat['avg_training_score'], [c * 10 for c in range(3, 11)]).astype(str)\n",
    "data_no_feat['department|kpi'] = data_no_feat['department'] + data_no_feat['KPIs_met >80%'].astype(str)\n",
    "data_no_feat['kpi*rating'] = data_no_feat['KPIs_met >80%'] * data_no_feat['previous_year_rating']\n",
    "\n",
    "data_no_feat['mean_training_by_department'] = \\\n",
    "data_no_feat['department'].map(data_no_feat.groupby('department')['avg_training_score'].mean())\n",
    "data_no_feat['department_training_mean_ratio'] = data_no_feat['avg_training_score'] /\\\n",
    "data_no_feat['mean_training_by_department']\n",
    "\n",
    "data_no_feat['mean_rating_by_department'] =\\\n",
    "data_no_feat['department'].map(data_no_feat.groupby('department')['previous_year_rating'].mean())\n",
    "data_no_feat['department_rating_mean_ratio'] = data_no_feat['previous_year_rating'] / \\\n",
    "data_no_feat['mean_rating_by_department']\n",
    "\n",
    "data_no_feat['mean_kpi_by_department'] = \\\n",
    "data_no_feat['department'].map(data_no_feat.groupby('department')['KPIs_met >80%'].mean())"
   ]
  },
  {
   "cell_type": "code",
   "execution_count": 164,
   "metadata": {
    "collapsed": true
   },
   "outputs": [],
   "source": [
    "to_cat = ['department',\n",
    "          'region',\n",
    "          'gender',\n",
    "          'recruitment_channel',\n",
    "          'department|training',\n",
    "          'department|kpi',\n",
    "          'kpi|training']\n",
    "for c in to_cat:\n",
    "    data_no_feat[c] = pd.factorize(data_no_feat[c])[0]"
   ]
  },
  {
   "cell_type": "code",
   "execution_count": 165,
   "metadata": {
    "collapsed": true
   },
   "outputs": [],
   "source": [
    "ed_dict = {'Below Secondary': 0, 'Bachelor\\'s': 1, 'Master\\'s & above': 2}\n",
    "data_no_feat['education'] = data_no_feat['education'].map(ed_dict)"
   ]
  },
  {
   "cell_type": "code",
   "execution_count": 168,
   "metadata": {
    "collapsed": true
   },
   "outputs": [],
   "source": [
    "data_feat = pd.concat([data_no_feat,\n",
    "                       data[selector2_strong_feat+['reconstruction_error_mse',\n",
    "                                                   'reconstruction_error_mae']+list(feat_gini)]],\n",
    "                      axis=1)"
   ]
  },
  {
   "cell_type": "code",
   "execution_count": 171,
   "metadata": {
    "collapsed": true
   },
   "outputs": [],
   "source": [
    "train, test = helper.split(data_feat)"
   ]
  },
  {
   "cell_type": "markdown",
   "metadata": {},
   "source": [
    "## Second selector:"
   ]
  },
  {
   "cell_type": "code",
   "execution_count": 245,
   "metadata": {},
   "outputs": [
    {
     "name": "stdout",
     "output_type": "stream",
     "text": [
      "Base score is: 0.522699717095514 \n",
      "\n"
     ]
    },
    {
     "data": {
      "application/vnd.jupyter.widget-view+json": {
       "model_id": "35f61d538726492db935eaa50332de30",
       "version_major": 2,
       "version_minor": 0
      },
      "text/plain": [
       "A Jupyter Widget"
      ]
     },
     "metadata": {},
     "output_type": "display_data"
    },
    {
     "name": "stdout",
     "output_type": "stream",
     "text": [
      "\n"
     ]
    },
    {
     "name": "stderr",
     "output_type": "stream",
     "text": [
      "Exception in thread Thread-93:\n",
      "Traceback (most recent call last):\n",
      "  File \"C:\\Users\\Simakov\\Anaconda3\\lib\\threading.py\", line 916, in _bootstrap_inner\n",
      "    self.run()\n",
      "  File \"C:\\Users\\Simakov\\Anaconda3\\lib\\site-packages\\tqdm\\_tqdm.py\", line 144, in run\n",
      "    for instance in self.tqdm_cls._instances:\n",
      "  File \"C:\\Users\\Simakov\\Anaconda3\\lib\\_weakrefset.py\", line 60, in __iter__\n",
      "    for itemref in self.data:\n",
      "RuntimeError: Set changed size during iteration\n",
      "\n"
     ]
    },
    {
     "name": "stdout",
     "output_type": "stream",
     "text": [
      "Feature age_divided_by_5_nearest_neighbors has been dropped >>\n",
      "Score: 0.522699717095514 -> 0.5278491859468724\n",
      "\n",
      "Feature avg_training_score_50_nearest_neighbors has been dropped >>\n",
      "Score: 0.5278491859468724 -> 0.5288630525888873\n",
      "\n",
      "Feature KPIs_met >80%_divided_by_count_avg_training_score has been dropped >>\n",
      "Score: 0.5288630525888873 -> 0.53054705177692\n",
      "\n",
      "Feature most_likelihood_class_no_of_trainings_from_5_nearest_neighbors has been dropped >>\n",
      "Score: 0.53054705177692 -> 0.5306345733041576\n",
      "\n",
      "Feature region_intersect_all_binary_min_length_of_service has been dropped >>\n",
      "Score: 0.5306345733041576 -> 0.5324354040681694\n",
      "\n",
      "\n",
      "Final score:  0.5324354040681694\n"
     ]
    },
    {
     "data": {
      "text/plain": [
       "<__main__.FeatureSelector2 at 0x18e072041d0>"
      ]
     },
     "execution_count": 245,
     "metadata": {},
     "output_type": "execute_result"
    }
   ],
   "source": [
    "params = {'app': 'binary',\n",
    "          'metric': 'binary_logloss',\n",
    "          'n_jobs': -1}\n",
    "model = LGBWrapper(params)\n",
    "\n",
    "selector2 = FeatureSelector2(model=model, folds=folds, metric=f1_score)\n",
    "selector2.fit(train, y, train)"
   ]
  },
  {
   "cell_type": "code",
   "execution_count": 246,
   "metadata": {
    "collapsed": true
   },
   "outputs": [],
   "source": [
    "strong2 = selector2.strong_features"
   ]
  },
  {
   "cell_type": "code",
   "execution_count": null,
   "metadata": {
    "collapsed": true
   },
   "outputs": [],
   "source": [
    "train[strong2].to_csv('train_strong2.csv', index=False)\n",
    "test[strong2].to_csv('test_strong2.csv', index=False)"
   ]
  },
  {
   "cell_type": "markdown",
   "metadata": {},
   "source": [
    "# Tuning"
   ]
  },
  {
   "cell_type": "code",
   "execution_count": 208,
   "metadata": {
    "collapsed": true
   },
   "outputs": [],
   "source": [
    "from bayes_opt import BayesianOptimization"
   ]
  },
  {
   "cell_type": "code",
   "execution_count": 211,
   "metadata": {},
   "outputs": [
    {
     "name": "stdout",
     "output_type": "stream",
     "text": [
      "Initialization\n",
      "-------------------------------------------------------------------------------------------------------------------------\n",
      " Step |   Time |      Value |   bagging_fraction |   feature_fraction |   lambda_l2 |   min_data_in_leaf |   num_leaves | \n"
     ]
    },
    {
     "name": "stderr",
     "output_type": "stream",
     "text": [
      "C:\\Users\\Simakov\\Anaconda3\\lib\\site-packages\\lightgbm\\basic.py:661: UserWarning: silent keyword has been found in `params` and will be ignored. Please use silent argument of the Dataset constructor to pass this parameter.\n",
      "  'Please use {0} argument of the Dataset constructor to pass this parameter.'.format(key))\n"
     ]
    },
    {
     "name": "stdout",
     "output_type": "stream",
     "text": [
      "Training until validation scores don't improve for 50 rounds.\n",
      "Early stopping, best iteration is:\n",
      "[33]\tcv_agg's binary_logloss: 0.163637 + 0.00416795\n",
      "    1 | 00m06s |   -0.16364 |             0.8300 |             0.9155 |      2.5222 |            94.4070 |      53.0765 | \n",
      "Training until validation scores don't improve for 50 rounds.\n",
      "Early stopping, best iteration is:\n",
      "[36]\tcv_agg's binary_logloss: 0.163326 + 0.00360989\n",
      "    2 | 00m04s |   -0.16333 |             0.8835 |             0.7029 |      1.2556 |            29.1696 |      56.2410 | \n",
      "Training until validation scores don't improve for 50 rounds.\n",
      "Early stopping, best iteration is:\n",
      "[34]\tcv_agg's binary_logloss: 0.163988 + 0.00415721\n",
      "    3 | 00m04s |   -0.16399 |             0.6443 |             0.6072 |      2.3892 |            67.1707 |      60.7279 | \n",
      "Training until validation scores don't improve for 50 rounds.\n",
      "Early stopping, best iteration is:\n",
      "[46]\tcv_agg's binary_logloss: 0.162661 + 0.00431696\n",
      "    4 | 00m05s |   -0.16266 |             0.6242 |             0.9050 |      3.9224 |            62.6990 |      39.1210 | \n",
      "Training until validation scores don't improve for 50 rounds.\n",
      "Early stopping, best iteration is:\n",
      "[46]\tcv_agg's binary_logloss: 0.163198 + 0.0031971\n",
      "    5 | 00m05s |   -0.16320 |             0.5661 |             0.8832 |      1.0144 |            37.3229 |      40.8386 | \n"
     ]
    },
    {
     "name": "stderr",
     "output_type": "stream",
     "text": [
      "C:\\Users\\Simakov\\Anaconda3\\lib\\site-packages\\sklearn\\gaussian_process\\gpr.py:335: UserWarning: Predicted variances smaller than 0. Setting those variances to 0.\n",
      "  warnings.warn(\"Predicted variances smaller than 0. \"\n"
     ]
    },
    {
     "name": "stdout",
     "output_type": "stream",
     "text": [
      "Bayesian Optimization\n",
      "-------------------------------------------------------------------------------------------------------------------------\n",
      " Step |   Time |      Value |   bagging_fraction |   feature_fraction |   lambda_l2 |   min_data_in_leaf |   num_leaves | \n",
      "Training until validation scores don't improve for 50 rounds.\n",
      "Did not meet early stopping. Best iteration is:\n",
      "[199]\tcv_agg's binary_logloss: 0.162722 + 0.00339757\n",
      "    6 | 00m17s |   -0.16272 |             0.9823 |             0.6659 |      4.9195 |             5.3555 |       4.5848 | \n"
     ]
    },
    {
     "name": "stderr",
     "output_type": "stream",
     "text": [
      "C:\\Users\\Simakov\\Anaconda3\\lib\\site-packages\\sklearn\\gaussian_process\\gpr.py:457: UserWarning: fmin_l_bfgs_b terminated abnormally with the  state: {'grad': array([-5.75390954e-05]), 'task': b'ABNORMAL_TERMINATION_IN_LNSRCH', 'funcalls': 54, 'nit': 5, 'warnflag': 2}\n",
      "  \" state: %s\" % convergence_dict)\n"
     ]
    },
    {
     "name": "stdout",
     "output_type": "stream",
     "text": [
      "Training until validation scores don't improve for 50 rounds.\n",
      "Did not meet early stopping. Best iteration is:\n",
      "[199]\tcv_agg's binary_logloss: 0.163045 + 0.00338051\n",
      "    7 | 00m16s |   -0.16304 |             0.9727 |             0.5677 |      4.2197 |            99.7256 |       4.1217 | \n",
      "Training until validation scores don't improve for 50 rounds.\n",
      "Early stopping, best iteration is:\n",
      "[45]\tcv_agg's binary_logloss: 0.163237 + 0.00364654\n",
      "    8 | 00m20s |   -0.16324 |             0.5054 |             0.9748 |      4.6711 |             4.5596 |      60.8374 | \n",
      "Training until validation scores don't improve for 50 rounds.\n",
      "Early stopping, best iteration is:\n",
      "[55]\tcv_agg's binary_logloss: 0.162148 + 0.00413083\n",
      "    9 | 00m16s |   -0.16215 |             0.9385 |             0.5004 |      4.9943 |             4.3040 |      35.8203 | \n"
     ]
    },
    {
     "name": "stderr",
     "output_type": "stream",
     "text": [
      "C:\\Users\\Simakov\\Anaconda3\\lib\\site-packages\\sklearn\\gaussian_process\\gpr.py:457: UserWarning: fmin_l_bfgs_b terminated abnormally with the  state: {'grad': array([-0.00055515]), 'task': b'ABNORMAL_TERMINATION_IN_LNSRCH', 'funcalls': 56, 'nit': 5, 'warnflag': 2}\n",
      "  \" state: %s\" % convergence_dict)\n",
      "C:\\Users\\Simakov\\Anaconda3\\lib\\site-packages\\sklearn\\gaussian_process\\gpr.py:457: UserWarning: fmin_l_bfgs_b terminated abnormally with the  state: {'grad': array([-2.43652903e-05]), 'task': b'ABNORMAL_TERMINATION_IN_LNSRCH', 'funcalls': 53, 'nit': 5, 'warnflag': 2}\n",
      "  \" state: %s\" % convergence_dict)\n"
     ]
    },
    {
     "name": "stdout",
     "output_type": "stream",
     "text": [
      "Training until validation scores don't improve for 50 rounds.\n",
      "Early stopping, best iteration is:\n",
      "[58]\tcv_agg's binary_logloss: 0.162237 + 0.00325827\n",
      "   10 | 00m17s |   -0.16224 |             0.9530 |             0.9125 |      4.9684 |            40.5585 |      28.5383 | \n"
     ]
    },
    {
     "name": "stderr",
     "output_type": "stream",
     "text": [
      "C:\\Users\\Simakov\\Anaconda3\\lib\\site-packages\\sklearn\\gaussian_process\\gpr.py:457: UserWarning: fmin_l_bfgs_b terminated abnormally with the  state: {'grad': array([0.0002531]), 'task': b'ABNORMAL_TERMINATION_IN_LNSRCH', 'funcalls': 56, 'nit': 5, 'warnflag': 2}\n",
      "  \" state: %s\" % convergence_dict)\n",
      "C:\\Users\\Simakov\\Anaconda3\\lib\\site-packages\\sklearn\\gaussian_process\\gpr.py:457: UserWarning: fmin_l_bfgs_b terminated abnormally with the  state: {'grad': array([-3.83898853e-05]), 'task': b'ABNORMAL_TERMINATION_IN_LNSRCH', 'funcalls': 50, 'nit': 4, 'warnflag': 2}\n",
      "  \" state: %s\" % convergence_dict)\n"
     ]
    },
    {
     "name": "stdout",
     "output_type": "stream",
     "text": [
      "Training until validation scores don't improve for 50 rounds.\n",
      "Early stopping, best iteration is:\n",
      "[73]\tcv_agg's binary_logloss: 0.161822 + 0.00377025\n",
      "   11 | 00m18s |   -0.16182 |             0.9894 |             0.9061 |      4.9715 |             4.1518 |      33.6971 | \n"
     ]
    },
    {
     "name": "stderr",
     "output_type": "stream",
     "text": [
      "C:\\Users\\Simakov\\Anaconda3\\lib\\site-packages\\sklearn\\gaussian_process\\gpr.py:457: UserWarning: fmin_l_bfgs_b terminated abnormally with the  state: {'grad': array([-0.00047004]), 'task': b'ABNORMAL_TERMINATION_IN_LNSRCH', 'funcalls': 47, 'nit': 2, 'warnflag': 2}\n",
      "  \" state: %s\" % convergence_dict)\n"
     ]
    },
    {
     "name": "stdout",
     "output_type": "stream",
     "text": [
      "Training until validation scores don't improve for 50 rounds.\n",
      "Early stopping, best iteration is:\n",
      "[60]\tcv_agg's binary_logloss: 0.162663 + 0.00399101\n",
      "   12 | 00m18s |   -0.16266 |             0.9859 |             0.9579 |      4.7804 |            75.3499 |      24.0500 | \n"
     ]
    },
    {
     "name": "stderr",
     "output_type": "stream",
     "text": [
      "C:\\Users\\Simakov\\Anaconda3\\lib\\site-packages\\sklearn\\gaussian_process\\gpr.py:457: UserWarning: fmin_l_bfgs_b terminated abnormally with the  state: {'grad': array([-0.00214141]), 'task': b'ABNORMAL_TERMINATION_IN_LNSRCH', 'funcalls': 59, 'nit': 4, 'warnflag': 2}\n",
      "  \" state: %s\" % convergence_dict)\n",
      "C:\\Users\\Simakov\\Anaconda3\\lib\\site-packages\\sklearn\\gaussian_process\\gpr.py:457: UserWarning: fmin_l_bfgs_b terminated abnormally with the  state: {'grad': array([-0.00060125]), 'task': b'ABNORMAL_TERMINATION_IN_LNSRCH', 'funcalls': 56, 'nit': 4, 'warnflag': 2}\n",
      "  \" state: %s\" % convergence_dict)\n"
     ]
    },
    {
     "name": "stdout",
     "output_type": "stream",
     "text": [
      "Training until validation scores don't improve for 50 rounds.\n",
      "Early stopping, best iteration is:\n",
      "[55]\tcv_agg's binary_logloss: 0.162562 + 0.00380084\n",
      "   13 | 00m18s |   -0.16256 |             0.9392 |             0.9832 |      4.8580 |            99.8613 |      28.2812 | \n",
      "Training until validation scores don't improve for 50 rounds.\n",
      "Early stopping, best iteration is:\n",
      "[35]\tcv_agg's binary_logloss: 0.163331 + 0.0033968\n",
      "   14 | 00m19s |   -0.16333 |             0.8529 |             0.9479 |      4.9787 |            27.1419 |      47.3769 | \n"
     ]
    },
    {
     "name": "stderr",
     "output_type": "stream",
     "text": [
      "C:\\Users\\Simakov\\Anaconda3\\lib\\site-packages\\sklearn\\gaussian_process\\gpr.py:457: UserWarning: fmin_l_bfgs_b terminated abnormally with the  state: {'grad': array([-0.00020779]), 'task': b'ABNORMAL_TERMINATION_IN_LNSRCH', 'funcalls': 57, 'nit': 7, 'warnflag': 2}\n",
      "  \" state: %s\" % convergence_dict)\n",
      "C:\\Users\\Simakov\\Anaconda3\\lib\\site-packages\\sklearn\\gaussian_process\\gpr.py:457: UserWarning: fmin_l_bfgs_b terminated abnormally with the  state: {'grad': array([2.8155011e-05]), 'task': b'ABNORMAL_TERMINATION_IN_LNSRCH', 'funcalls': 65, 'nit': 6, 'warnflag': 2}\n",
      "  \" state: %s\" % convergence_dict)\n"
     ]
    },
    {
     "name": "stdout",
     "output_type": "stream",
     "text": [
      "Training until validation scores don't improve for 50 rounds.\n",
      "Early stopping, best iteration is:\n",
      "[38]\tcv_agg's binary_logloss: 0.16503 + 0.00414958\n",
      "   15 | 00m20s |   -0.16503 |             0.9587 |             0.7127 |      1.1582 |             4.1477 |      99.1917 | \n"
     ]
    },
    {
     "name": "stderr",
     "output_type": "stream",
     "text": [
      "C:\\Users\\Simakov\\Anaconda3\\lib\\site-packages\\sklearn\\gaussian_process\\gpr.py:457: UserWarning: fmin_l_bfgs_b terminated abnormally with the  state: {'grad': array([2.63280817e-05]), 'task': b'ABNORMAL_TERMINATION_IN_LNSRCH', 'funcalls': 52, 'nit': 5, 'warnflag': 2}\n",
      "  \" state: %s\" % convergence_dict)\n",
      "C:\\Users\\Simakov\\Anaconda3\\lib\\site-packages\\sklearn\\gaussian_process\\gpr.py:457: UserWarning: fmin_l_bfgs_b terminated abnormally with the  state: {'grad': array([-2.44045223e-05]), 'task': b'ABNORMAL_TERMINATION_IN_LNSRCH', 'funcalls': 51, 'nit': 5, 'warnflag': 2}\n",
      "  \" state: %s\" % convergence_dict)\n"
     ]
    },
    {
     "name": "stdout",
     "output_type": "stream",
     "text": [
      "Training until validation scores don't improve for 50 rounds.\n",
      "Early stopping, best iteration is:\n",
      "[30]\tcv_agg's binary_logloss: 0.166079 + 0.00486163\n",
      "   16 | 00m21s |   -0.16608 |             0.9482 |             0.7979 |      4.8941 |            99.8220 |      99.2862 | \n",
      "Training until validation scores don't improve for 50 rounds.\n",
      "Early stopping, best iteration is:\n",
      "[45]\tcv_agg's binary_logloss: 0.162925 + 0.00386107\n",
      "   17 | 00m19s |   -0.16293 |             0.9825 |             0.8899 |      0.0806 |             4.0024 |      41.2340 | \n"
     ]
    },
    {
     "name": "stderr",
     "output_type": "stream",
     "text": [
      "C:\\Users\\Simakov\\Anaconda3\\lib\\site-packages\\sklearn\\gaussian_process\\gpr.py:457: UserWarning: fmin_l_bfgs_b terminated abnormally with the  state: {'grad': array([-5.51359262e-05]), 'task': b'ABNORMAL_TERMINATION_IN_LNSRCH', 'funcalls': 53, 'nit': 5, 'warnflag': 2}\n",
      "  \" state: %s\" % convergence_dict)\n"
     ]
    },
    {
     "name": "stdout",
     "output_type": "stream",
     "text": [
      "Training until validation scores don't improve for 50 rounds.\n",
      "Early stopping, best iteration is:\n",
      "[59]\tcv_agg's binary_logloss: 0.16219 + 0.00363561\n",
      "   18 | 00m18s |   -0.16219 |             0.9737 |             0.8238 |      0.1605 |            99.1671 |      27.1985 | \n",
      "Training until validation scores don't improve for 50 rounds.\n",
      "Early stopping, best iteration is:\n",
      "[28]\tcv_agg's binary_logloss: 0.166239 + 0.00450627\n",
      "   19 | 00m21s |   -0.16624 |             0.9227 |             0.9560 |      0.0017 |            55.3707 |      99.6492 | \n",
      "Training until validation scores don't improve for 50 rounds.\n",
      "Did not meet early stopping. Best iteration is:\n",
      "[174]\tcv_agg's binary_logloss: 0.162835 + 0.00317036\n",
      "   20 | 00m19s |   -0.16284 |             0.9561 |             0.9784 |      4.9982 |            43.9396 |       5.8450 | \n",
      "Training until validation scores don't improve for 50 rounds.\n",
      "Early stopping, best iteration is:\n",
      "[39]\tcv_agg's binary_logloss: 0.163368 + 0.0032589\n",
      "   21 | 00m18s |   -0.16337 |             0.9886 |             0.9767 |      0.2849 |            57.7767 |      37.0119 | \n",
      "Training until validation scores don't improve for 50 rounds.\n",
      "Early stopping, best iteration is:\n",
      "[25]\tcv_agg's binary_logloss: 0.168894 + 0.00533586\n",
      "   22 | 00m21s |   -0.16889 |             0.6042 |             0.9503 |      0.2304 |            99.7131 |      98.2750 | \n",
      "Training until validation scores don't improve for 50 rounds.\n",
      "Early stopping, best iteration is:\n",
      "[41]\tcv_agg's binary_logloss: 0.164116 + 0.00531026\n",
      "   23 | 00m19s |   -0.16412 |             0.5124 |             0.5845 |      4.9665 |            28.5906 |      91.6856 | \n",
      "Training until validation scores don't improve for 50 rounds.\n",
      "Early stopping, best iteration is:\n",
      "[84]\tcv_agg's binary_logloss: 0.161876 + 0.00330063\n",
      "   24 | 00m18s |   -0.16188 |             0.5371 |             0.9636 |      4.9599 |            18.4332 |      16.4692 | \n"
     ]
    },
    {
     "name": "stderr",
     "output_type": "stream",
     "text": [
      "C:\\Users\\Simakov\\Anaconda3\\lib\\site-packages\\sklearn\\gaussian_process\\gpr.py:457: UserWarning: fmin_l_bfgs_b terminated abnormally with the  state: {'grad': array([2.02940428e-05]), 'task': b'ABNORMAL_TERMINATION_IN_LNSRCH', 'funcalls': 54, 'nit': 5, 'warnflag': 2}\n",
      "  \" state: %s\" % convergence_dict)\n"
     ]
    },
    {
     "name": "stdout",
     "output_type": "stream",
     "text": [
      "Training until validation scores don't improve for 50 rounds.\n",
      "Early stopping, best iteration is:\n",
      "[61]\tcv_agg's binary_logloss: 0.162593 + 0.00302485\n",
      "   25 | 00m18s |   -0.16259 |             0.5816 |             0.8488 |      0.0492 |             4.1189 |      16.7840 | \n",
      "Training until validation scores don't improve for 50 rounds.\n",
      "Early stopping, best iteration is:\n",
      "[103]\tcv_agg's binary_logloss: 0.162338 + 0.0038232\n",
      "   26 | 00m19s |   -0.16234 |             0.5159 |             0.9875 |      0.0584 |            96.8695 |       8.5024 | \n"
     ]
    },
    {
     "name": "stderr",
     "output_type": "stream",
     "text": [
      "C:\\Users\\Simakov\\Anaconda3\\lib\\site-packages\\sklearn\\gaussian_process\\gpr.py:457: UserWarning: fmin_l_bfgs_b terminated abnormally with the  state: {'grad': array([0.00057801]), 'task': b'ABNORMAL_TERMINATION_IN_LNSRCH', 'funcalls': 61, 'nit': 7, 'warnflag': 2}\n",
      "  \" state: %s\" % convergence_dict)\n"
     ]
    },
    {
     "name": "stdout",
     "output_type": "stream",
     "text": [
      "Training until validation scores don't improve for 50 rounds.\n",
      "Early stopping, best iteration is:\n",
      "[81]\tcv_agg's binary_logloss: 0.161479 + 0.00369242\n",
      "   27 | 00m19s |   -0.16148 |             0.5029 |             0.9895 |      4.8957 |             4.1755 |      18.6710 | \n",
      "Training until validation scores don't improve for 50 rounds.\n",
      "Early stopping, best iteration is:\n",
      "[59]\tcv_agg's binary_logloss: 0.160978 + 0.00369574\n",
      "   28 | 00m17s |   -0.16098 |             0.5289 |             0.5021 |      1.3557 |            99.5338 |      19.3061 | \n",
      "Training until validation scores don't improve for 50 rounds.\n",
      "Early stopping, best iteration is:\n",
      "[50]\tcv_agg's binary_logloss: 0.161551 + 0.00425826\n",
      "   29 | 00m17s |   -0.16155 |             0.5410 |             0.5010 |      2.4844 |            90.8435 |      28.4122 | \n",
      "Training until validation scores don't improve for 50 rounds.\n",
      "Early stopping, best iteration is:\n",
      "[57]\tcv_agg's binary_logloss: 0.161319 + 0.00393223\n",
      "   30 | 00m17s |   -0.16132 |             0.5366 |             0.5501 |      4.8739 |            57.5756 |      19.5529 | \n",
      "Training until validation scores don't improve for 50 rounds.\n",
      "Early stopping, best iteration is:\n",
      "[55]\tcv_agg's binary_logloss: 0.161395 + 0.00496376\n",
      "   31 | 00m17s |   -0.16139 |             0.5355 |             0.5256 |      0.4284 |            97.5177 |      21.8488 | \n"
     ]
    },
    {
     "name": "stderr",
     "output_type": "stream",
     "text": [
      "C:\\Users\\Simakov\\Anaconda3\\lib\\site-packages\\sklearn\\gaussian_process\\gpr.py:457: UserWarning: fmin_l_bfgs_b terminated abnormally with the  state: {'grad': array([-0.00024833]), 'task': b'ABNORMAL_TERMINATION_IN_LNSRCH', 'funcalls': 67, 'nit': 5, 'warnflag': 2}\n",
      "  \" state: %s\" % convergence_dict)\n",
      "C:\\Users\\Simakov\\Anaconda3\\lib\\site-packages\\sklearn\\gaussian_process\\gpr.py:457: UserWarning: fmin_l_bfgs_b terminated abnormally with the  state: {'grad': array([-0.00214646]), 'task': b'ABNORMAL_TERMINATION_IN_LNSRCH', 'funcalls': 53, 'nit': 4, 'warnflag': 2}\n",
      "  \" state: %s\" % convergence_dict)\n",
      "C:\\Users\\Simakov\\Anaconda3\\lib\\site-packages\\sklearn\\gaussian_process\\gpr.py:457: UserWarning: fmin_l_bfgs_b terminated abnormally with the  state: {'grad': array([-0.00370693]), 'task': b'ABNORMAL_TERMINATION_IN_LNSRCH', 'funcalls': 54, 'nit': 5, 'warnflag': 2}\n",
      "  \" state: %s\" % convergence_dict)\n"
     ]
    },
    {
     "name": "stdout",
     "output_type": "stream",
     "text": [
      "Training until validation scores don't improve for 50 rounds.\n",
      "Early stopping, best iteration is:\n",
      "[32]\tcv_agg's binary_logloss: 0.164839 + 0.00339705\n",
      "   32 | 00m19s |   -0.16484 |             0.5498 |             0.5228 |      4.9139 |            74.1656 |      99.4538 | \n"
     ]
    },
    {
     "name": "stderr",
     "output_type": "stream",
     "text": [
      "C:\\Users\\Simakov\\Anaconda3\\lib\\site-packages\\sklearn\\gaussian_process\\gpr.py:457: UserWarning: fmin_l_bfgs_b terminated abnormally with the  state: {'grad': array([-0.00035805]), 'task': b'ABNORMAL_TERMINATION_IN_LNSRCH', 'funcalls': 49, 'nit': 3, 'warnflag': 2}\n",
      "  \" state: %s\" % convergence_dict)\n",
      "C:\\Users\\Simakov\\Anaconda3\\lib\\site-packages\\sklearn\\gaussian_process\\gpr.py:457: UserWarning: fmin_l_bfgs_b terminated abnormally with the  state: {'grad': array([-0.00457658]), 'task': b'ABNORMAL_TERMINATION_IN_LNSRCH', 'funcalls': 60, 'nit': 5, 'warnflag': 2}\n",
      "  \" state: %s\" % convergence_dict)\n",
      "C:\\Users\\Simakov\\Anaconda3\\lib\\site-packages\\sklearn\\gaussian_process\\gpr.py:457: UserWarning: fmin_l_bfgs_b terminated abnormally with the  state: {'grad': array([-0.00059156]), 'task': b'ABNORMAL_TERMINATION_IN_LNSRCH', 'funcalls': 60, 'nit': 6, 'warnflag': 2}\n",
      "  \" state: %s\" % convergence_dict)\n"
     ]
    },
    {
     "name": "stdout",
     "output_type": "stream",
     "text": [
      "Training until validation scores don't improve for 50 rounds.\n",
      "Early stopping, best iteration is:\n",
      "[68]\tcv_agg's binary_logloss: 0.161325 + 0.00382359\n",
      "   33 | 00m18s |   -0.16133 |             0.5066 |             0.5917 |      0.0914 |            47.9971 |      16.6303 | \n"
     ]
    },
    {
     "name": "stderr",
     "output_type": "stream",
     "text": [
      "C:\\Users\\Simakov\\Anaconda3\\lib\\site-packages\\sklearn\\gaussian_process\\gpr.py:457: UserWarning: fmin_l_bfgs_b terminated abnormally with the  state: {'grad': array([-1.41160563e-05]), 'task': b'ABNORMAL_TERMINATION_IN_LNSRCH', 'funcalls': 54, 'nit': 8, 'warnflag': 2}\n",
      "  \" state: %s\" % convergence_dict)\n",
      "C:\\Users\\Simakov\\Anaconda3\\lib\\site-packages\\sklearn\\gaussian_process\\gpr.py:457: UserWarning: fmin_l_bfgs_b terminated abnormally with the  state: {'grad': array([-0.01314188]), 'task': b'ABNORMAL_TERMINATION_IN_LNSRCH', 'funcalls': 54, 'nit': 6, 'warnflag': 2}\n",
      "  \" state: %s\" % convergence_dict)\n"
     ]
    },
    {
     "name": "stdout",
     "output_type": "stream",
     "text": [
      "Training until validation scores don't improve for 50 rounds.\n",
      "Early stopping, best iteration is:\n",
      "[36]\tcv_agg's binary_logloss: 0.162567 + 0.00401241\n",
      "   34 | 00m20s |   -0.16257 |             0.5165 |             0.5042 |      4.4713 |            99.0988 |      43.8176 | \n",
      "Training until validation scores don't improve for 50 rounds.\n",
      "Early stopping, best iteration is:\n",
      "[37]\tcv_agg's binary_logloss: 0.162689 + 0.00419405\n",
      "   35 | 00m20s |   -0.16269 |             0.5055 |             0.5005 |      4.6555 |            85.0177 |      44.1787 | \n",
      "Training until validation scores don't improve for 50 rounds.\n",
      "Early stopping, best iteration is:\n",
      "[33]\tcv_agg's binary_logloss: 0.164798 + 0.00520466\n",
      "   36 | 00m20s |   -0.16480 |             0.7533 |             0.5057 |      4.9790 |            99.3767 |      75.1109 | \n"
     ]
    },
    {
     "name": "stderr",
     "output_type": "stream",
     "text": [
      "C:\\Users\\Simakov\\Anaconda3\\lib\\site-packages\\sklearn\\gaussian_process\\gpr.py:457: UserWarning: fmin_l_bfgs_b terminated abnormally with the  state: {'grad': array([-0.00014261]), 'task': b'ABNORMAL_TERMINATION_IN_LNSRCH', 'funcalls': 82, 'nit': 7, 'warnflag': 2}\n",
      "  \" state: %s\" % convergence_dict)\n",
      "C:\\Users\\Simakov\\Anaconda3\\lib\\site-packages\\sklearn\\gaussian_process\\gpr.py:457: UserWarning: fmin_l_bfgs_b terminated abnormally with the  state: {'grad': array([-0.00112166]), 'task': b'ABNORMAL_TERMINATION_IN_LNSRCH', 'funcalls': 60, 'nit': 5, 'warnflag': 2}\n",
      "  \" state: %s\" % convergence_dict)\n",
      "C:\\Users\\Simakov\\Anaconda3\\lib\\site-packages\\sklearn\\gaussian_process\\gpr.py:457: UserWarning: fmin_l_bfgs_b terminated abnormally with the  state: {'grad': array([-0.00042552]), 'task': b'ABNORMAL_TERMINATION_IN_LNSRCH', 'funcalls': 53, 'nit': 5, 'warnflag': 2}\n",
      "  \" state: %s\" % convergence_dict)\n",
      "C:\\Users\\Simakov\\Anaconda3\\lib\\site-packages\\sklearn\\gaussian_process\\gpr.py:457: UserWarning: fmin_l_bfgs_b terminated abnormally with the  state: {'grad': array([-0.002259]), 'task': b'ABNORMAL_TERMINATION_IN_LNSRCH', 'funcalls': 76, 'nit': 4, 'warnflag': 2}\n",
      "  \" state: %s\" % convergence_dict)\n"
     ]
    },
    {
     "name": "stdout",
     "output_type": "stream",
     "text": [
      "Training until validation scores don't improve for 50 rounds.\n",
      "Early stopping, best iteration is:\n",
      "[34]\tcv_agg's binary_logloss: 0.16416 + 0.00401642\n",
      "   37 | 00m23s |   -0.16416 |             0.5182 |             0.8207 |      4.8134 |            46.1409 |      75.2318 | \n",
      "Training until validation scores don't improve for 50 rounds.\n",
      "Early stopping, best iteration is:\n",
      "[68]\tcv_agg's binary_logloss: 0.161262 + 0.00384629\n",
      "   38 | 00m18s |   -0.16126 |             0.5514 |             0.6384 |      4.0635 |            38.4294 |      16.8110 | \n",
      "Training until validation scores don't improve for 50 rounds.\n",
      "Early stopping, best iteration is:\n",
      "[56]\tcv_agg's binary_logloss: 0.161388 + 0.00409021\n",
      "   39 | 00m19s |   -0.16139 |             0.5013 |             0.6691 |      4.6144 |            49.8164 |      17.3487 | \n"
     ]
    },
    {
     "name": "stderr",
     "output_type": "stream",
     "text": [
      "C:\\Users\\Simakov\\Anaconda3\\lib\\site-packages\\sklearn\\gaussian_process\\gpr.py:457: UserWarning: fmin_l_bfgs_b terminated abnormally with the  state: {'grad': array([-0.00056217]), 'task': b'ABNORMAL_TERMINATION_IN_LNSRCH', 'funcalls': 71, 'nit': 7, 'warnflag': 2}\n",
      "  \" state: %s\" % convergence_dict)\n",
      "C:\\Users\\Simakov\\Anaconda3\\lib\\site-packages\\sklearn\\gaussian_process\\gpr.py:457: UserWarning: fmin_l_bfgs_b terminated abnormally with the  state: {'grad': array([-0.00011124]), 'task': b'ABNORMAL_TERMINATION_IN_LNSRCH', 'funcalls': 54, 'nit': 4, 'warnflag': 2}\n",
      "  \" state: %s\" % convergence_dict)\n",
      "C:\\Users\\Simakov\\Anaconda3\\lib\\site-packages\\sklearn\\gaussian_process\\gpr.py:457: UserWarning: fmin_l_bfgs_b terminated abnormally with the  state: {'grad': array([-0.00014649]), 'task': b'ABNORMAL_TERMINATION_IN_LNSRCH', 'funcalls': 71, 'nit': 5, 'warnflag': 2}\n",
      "  \" state: %s\" % convergence_dict)\n",
      "C:\\Users\\Simakov\\Anaconda3\\lib\\site-packages\\sklearn\\gaussian_process\\gpr.py:457: UserWarning: fmin_l_bfgs_b terminated abnormally with the  state: {'grad': array([0.00228364]), 'task': b'ABNORMAL_TERMINATION_IN_LNSRCH', 'funcalls': 50, 'nit': 6, 'warnflag': 2}\n",
      "  \" state: %s\" % convergence_dict)\n"
     ]
    },
    {
     "name": "stdout",
     "output_type": "stream",
     "text": [
      "Training until validation scores don't improve for 50 rounds.\n",
      "Early stopping, best iteration is:\n",
      "[93]\tcv_agg's binary_logloss: 0.160715 + 0.00374309\n",
      "   40 | 00m20s |   -0.16072 |             0.9459 |             0.5005 |      0.0226 |            99.7803 |      13.9817 | \n"
     ]
    },
    {
     "name": "stderr",
     "output_type": "stream",
     "text": [
      "C:\\Users\\Simakov\\Anaconda3\\lib\\site-packages\\sklearn\\gaussian_process\\gpr.py:457: UserWarning: fmin_l_bfgs_b terminated abnormally with the  state: {'grad': array([-0.00678123]), 'task': b'ABNORMAL_TERMINATION_IN_LNSRCH', 'funcalls': 63, 'nit': 6, 'warnflag': 2}\n",
      "  \" state: %s\" % convergence_dict)\n",
      "C:\\Users\\Simakov\\Anaconda3\\lib\\site-packages\\sklearn\\gaussian_process\\gpr.py:457: UserWarning: fmin_l_bfgs_b terminated abnormally with the  state: {'grad': array([-1.17651653e-05]), 'task': b'ABNORMAL_TERMINATION_IN_LNSRCH', 'funcalls': 56, 'nit': 7, 'warnflag': 2}\n",
      "  \" state: %s\" % convergence_dict)\n",
      "C:\\Users\\Simakov\\Anaconda3\\lib\\site-packages\\sklearn\\gaussian_process\\gpr.py:457: UserWarning: fmin_l_bfgs_b terminated abnormally with the  state: {'grad': array([-0.00018139]), 'task': b'ABNORMAL_TERMINATION_IN_LNSRCH', 'funcalls': 53, 'nit': 5, 'warnflag': 2}\n",
      "  \" state: %s\" % convergence_dict)\n",
      "C:\\Users\\Simakov\\Anaconda3\\lib\\site-packages\\sklearn\\gaussian_process\\gpr.py:457: UserWarning: fmin_l_bfgs_b terminated abnormally with the  state: {'grad': array([3.60626727e-05]), 'task': b'ABNORMAL_TERMINATION_IN_LNSRCH', 'funcalls': 56, 'nit': 5, 'warnflag': 2}\n",
      "  \" state: %s\" % convergence_dict)\n",
      "C:\\Users\\Simakov\\Anaconda3\\lib\\site-packages\\sklearn\\gaussian_process\\gpr.py:457: UserWarning: fmin_l_bfgs_b terminated abnormally with the  state: {'grad': array([-0.00011737]), 'task': b'ABNORMAL_TERMINATION_IN_LNSRCH', 'funcalls': 71, 'nit': 6, 'warnflag': 2}\n",
      "  \" state: %s\" % convergence_dict)\n"
     ]
    },
    {
     "name": "stdout",
     "output_type": "stream",
     "text": [
      "Training until validation scores don't improve for 50 rounds.\n",
      "Early stopping, best iteration is:\n",
      "[53]\tcv_agg's binary_logloss: 0.161362 + 0.0039804\n",
      "   41 | 00m19s |   -0.16136 |             0.9621 |             0.5206 |      0.2980 |            99.6111 |      17.0963 | \n"
     ]
    },
    {
     "name": "stderr",
     "output_type": "stream",
     "text": [
      "C:\\Users\\Simakov\\Anaconda3\\lib\\site-packages\\sklearn\\gaussian_process\\gpr.py:457: UserWarning: fmin_l_bfgs_b terminated abnormally with the  state: {'grad': array([-0.00010947]), 'task': b'ABNORMAL_TERMINATION_IN_LNSRCH', 'funcalls': 69, 'nit': 6, 'warnflag': 2}\n",
      "  \" state: %s\" % convergence_dict)\n"
     ]
    },
    {
     "name": "stdout",
     "output_type": "stream",
     "text": [
      "Training until validation scores don't improve for 50 rounds.\n",
      "Early stopping, best iteration is:\n",
      "[37]\tcv_agg's binary_logloss: 0.165258 + 0.0037095\n",
      "   42 | 00m25s |   -0.16526 |             0.7390 |             0.9854 |      0.0128 |            12.9307 |      82.7291 | \n",
      "Training until validation scores don't improve for 50 rounds.\n",
      "Early stopping, best iteration is:\n",
      "[92]\tcv_agg's binary_logloss: 0.164161 + 0.00387717\n",
      "   43 | 00m18s |   -0.16416 |             0.5043 |             0.5339 |      0.0956 |            22.7229 |       4.2747 | \n"
     ]
    },
    {
     "name": "stderr",
     "output_type": "stream",
     "text": [
      "C:\\Users\\Simakov\\Anaconda3\\lib\\site-packages\\sklearn\\gaussian_process\\gpr.py:457: UserWarning: fmin_l_bfgs_b terminated abnormally with the  state: {'grad': array([-0.00026391]), 'task': b'ABNORMAL_TERMINATION_IN_LNSRCH', 'funcalls': 58, 'nit': 6, 'warnflag': 2}\n",
      "  \" state: %s\" % convergence_dict)\n"
     ]
    },
    {
     "ename": "KeyboardInterrupt",
     "evalue": "",
     "output_type": "error",
     "traceback": [
      "\u001b[1;31m---------------------------------------------------------------------------\u001b[0m",
      "\u001b[1;31mKeyboardInterrupt\u001b[0m                         Traceback (most recent call last)",
      "\u001b[1;32m<ipython-input-211-6401f4a289e9>\u001b[0m in \u001b[0;36m<module>\u001b[1;34m()\u001b[0m\n\u001b[0;32m     48\u001b[0m                                                 })\n\u001b[0;32m     49\u001b[0m \u001b[1;33m\u001b[0m\u001b[0m\n\u001b[1;32m---> 50\u001b[1;33m \u001b[0mlgbBO\u001b[0m\u001b[1;33m.\u001b[0m\u001b[0mmaximize\u001b[0m\u001b[1;33m(\u001b[0m\u001b[0minit_points\u001b[0m\u001b[1;33m=\u001b[0m\u001b[0minit_points\u001b[0m\u001b[1;33m,\u001b[0m \u001b[0mn_iter\u001b[0m\u001b[1;33m=\u001b[0m\u001b[0mnum_iter\u001b[0m\u001b[1;33m)\u001b[0m\u001b[1;33m\u001b[0m\u001b[0m\n\u001b[0m",
      "\u001b[1;32m~\\Anaconda3\\lib\\site-packages\\bayes_opt\\bayesian_optimization.py\u001b[0m in \u001b[0;36mmaximize\u001b[1;34m(self, init_points, n_iter, acq, kappa, xi, **gp_params)\u001b[0m\n\u001b[0;32m    299\u001b[0m                             \u001b[0mbounds\u001b[0m\u001b[1;33m=\u001b[0m\u001b[0mself\u001b[0m\u001b[1;33m.\u001b[0m\u001b[0mspace\u001b[0m\u001b[1;33m.\u001b[0m\u001b[0mbounds\u001b[0m\u001b[1;33m,\u001b[0m\u001b[1;33m\u001b[0m\u001b[0m\n\u001b[0;32m    300\u001b[0m                             \u001b[0mrandom_state\u001b[0m\u001b[1;33m=\u001b[0m\u001b[0mself\u001b[0m\u001b[1;33m.\u001b[0m\u001b[0mrandom_state\u001b[0m\u001b[1;33m,\u001b[0m\u001b[1;33m\u001b[0m\u001b[0m\n\u001b[1;32m--> 301\u001b[1;33m                             **self._acqkw)\n\u001b[0m\u001b[0;32m    302\u001b[0m \u001b[1;33m\u001b[0m\u001b[0m\n\u001b[0;32m    303\u001b[0m             \u001b[1;31m# Keep track of total number of iterations\u001b[0m\u001b[1;33m\u001b[0m\u001b[1;33m\u001b[0m\u001b[0m\n",
      "\u001b[1;32m~\\Anaconda3\\lib\\site-packages\\bayes_opt\\helpers.py\u001b[0m in \u001b[0;36macq_max\u001b[1;34m(ac, gp, y_max, bounds, random_state, n_warmup, n_iter)\u001b[0m\n\u001b[0;32m     58\u001b[0m                        \u001b[0mx_try\u001b[0m\u001b[1;33m.\u001b[0m\u001b[0mreshape\u001b[0m\u001b[1;33m(\u001b[0m\u001b[1;36m1\u001b[0m\u001b[1;33m,\u001b[0m \u001b[1;33m-\u001b[0m\u001b[1;36m1\u001b[0m\u001b[1;33m)\u001b[0m\u001b[1;33m,\u001b[0m\u001b[1;33m\u001b[0m\u001b[0m\n\u001b[0;32m     59\u001b[0m                        \u001b[0mbounds\u001b[0m\u001b[1;33m=\u001b[0m\u001b[0mbounds\u001b[0m\u001b[1;33m,\u001b[0m\u001b[1;33m\u001b[0m\u001b[0m\n\u001b[1;32m---> 60\u001b[1;33m                        method=\"L-BFGS-B\")\n\u001b[0m\u001b[0;32m     61\u001b[0m \u001b[1;33m\u001b[0m\u001b[0m\n\u001b[0;32m     62\u001b[0m         \u001b[1;31m# Store it if better than previous minimum(maximum).\u001b[0m\u001b[1;33m\u001b[0m\u001b[1;33m\u001b[0m\u001b[0m\n",
      "\u001b[1;32m~\\Anaconda3\\lib\\site-packages\\scipy\\optimize\\_minimize.py\u001b[0m in \u001b[0;36mminimize\u001b[1;34m(fun, x0, args, method, jac, hess, hessp, bounds, constraints, tol, callback, options)\u001b[0m\n\u001b[0;32m    448\u001b[0m     \u001b[1;32melif\u001b[0m \u001b[0mmeth\u001b[0m \u001b[1;33m==\u001b[0m \u001b[1;34m'l-bfgs-b'\u001b[0m\u001b[1;33m:\u001b[0m\u001b[1;33m\u001b[0m\u001b[0m\n\u001b[0;32m    449\u001b[0m         return _minimize_lbfgsb(fun, x0, args, jac, bounds,\n\u001b[1;32m--> 450\u001b[1;33m                                 callback=callback, **options)\n\u001b[0m\u001b[0;32m    451\u001b[0m     \u001b[1;32melif\u001b[0m \u001b[0mmeth\u001b[0m \u001b[1;33m==\u001b[0m \u001b[1;34m'tnc'\u001b[0m\u001b[1;33m:\u001b[0m\u001b[1;33m\u001b[0m\u001b[0m\n\u001b[0;32m    452\u001b[0m         return _minimize_tnc(fun, x0, args, jac, bounds, callback=callback,\n",
      "\u001b[1;32m~\\Anaconda3\\lib\\site-packages\\scipy\\optimize\\lbfgsb.py\u001b[0m in \u001b[0;36m_minimize_lbfgsb\u001b[1;34m(fun, x0, args, jac, bounds, disp, maxcor, ftol, gtol, eps, maxfun, maxiter, iprint, callback, maxls, **unknown_options)\u001b[0m\n\u001b[0;32m    326\u001b[0m             \u001b[1;31m# until the completion of the current minimization iteration.\u001b[0m\u001b[1;33m\u001b[0m\u001b[1;33m\u001b[0m\u001b[0m\n\u001b[0;32m    327\u001b[0m             \u001b[1;31m# Overwrite f and g:\u001b[0m\u001b[1;33m\u001b[0m\u001b[1;33m\u001b[0m\u001b[0m\n\u001b[1;32m--> 328\u001b[1;33m             \u001b[0mf\u001b[0m\u001b[1;33m,\u001b[0m \u001b[0mg\u001b[0m \u001b[1;33m=\u001b[0m \u001b[0mfunc_and_grad\u001b[0m\u001b[1;33m(\u001b[0m\u001b[0mx\u001b[0m\u001b[1;33m)\u001b[0m\u001b[1;33m\u001b[0m\u001b[0m\n\u001b[0m\u001b[0;32m    329\u001b[0m         \u001b[1;32melif\u001b[0m \u001b[0mtask_str\u001b[0m\u001b[1;33m.\u001b[0m\u001b[0mstartswith\u001b[0m\u001b[1;33m(\u001b[0m\u001b[1;34mb'NEW_X'\u001b[0m\u001b[1;33m)\u001b[0m\u001b[1;33m:\u001b[0m\u001b[1;33m\u001b[0m\u001b[0m\n\u001b[0;32m    330\u001b[0m             \u001b[1;31m# new iteration\u001b[0m\u001b[1;33m\u001b[0m\u001b[1;33m\u001b[0m\u001b[0m\n",
      "\u001b[1;32m~\\Anaconda3\\lib\\site-packages\\scipy\\optimize\\lbfgsb.py\u001b[0m in \u001b[0;36mfunc_and_grad\u001b[1;34m(x)\u001b[0m\n\u001b[0;32m    272\u001b[0m         \u001b[1;32mdef\u001b[0m \u001b[0mfunc_and_grad\u001b[0m\u001b[1;33m(\u001b[0m\u001b[0mx\u001b[0m\u001b[1;33m)\u001b[0m\u001b[1;33m:\u001b[0m\u001b[1;33m\u001b[0m\u001b[0m\n\u001b[0;32m    273\u001b[0m             \u001b[0mf\u001b[0m \u001b[1;33m=\u001b[0m \u001b[0mfun\u001b[0m\u001b[1;33m(\u001b[0m\u001b[0mx\u001b[0m\u001b[1;33m,\u001b[0m \u001b[1;33m*\u001b[0m\u001b[0margs\u001b[0m\u001b[1;33m)\u001b[0m\u001b[1;33m\u001b[0m\u001b[0m\n\u001b[1;32m--> 274\u001b[1;33m             \u001b[0mg\u001b[0m \u001b[1;33m=\u001b[0m \u001b[0m_approx_fprime_helper\u001b[0m\u001b[1;33m(\u001b[0m\u001b[0mx\u001b[0m\u001b[1;33m,\u001b[0m \u001b[0mfun\u001b[0m\u001b[1;33m,\u001b[0m \u001b[0mepsilon\u001b[0m\u001b[1;33m,\u001b[0m \u001b[0margs\u001b[0m\u001b[1;33m=\u001b[0m\u001b[0margs\u001b[0m\u001b[1;33m,\u001b[0m \u001b[0mf0\u001b[0m\u001b[1;33m=\u001b[0m\u001b[0mf\u001b[0m\u001b[1;33m)\u001b[0m\u001b[1;33m\u001b[0m\u001b[0m\n\u001b[0m\u001b[0;32m    275\u001b[0m             \u001b[1;32mreturn\u001b[0m \u001b[0mf\u001b[0m\u001b[1;33m,\u001b[0m \u001b[0mg\u001b[0m\u001b[1;33m\u001b[0m\u001b[0m\n\u001b[0;32m    276\u001b[0m     \u001b[1;32melse\u001b[0m\u001b[1;33m:\u001b[0m\u001b[1;33m\u001b[0m\u001b[0m\n",
      "\u001b[1;32m~\\Anaconda3\\lib\\site-packages\\scipy\\optimize\\optimize.py\u001b[0m in \u001b[0;36m_approx_fprime_helper\u001b[1;34m(xk, f, epsilon, args, f0)\u001b[0m\n\u001b[0;32m    626\u001b[0m         \u001b[0mei\u001b[0m\u001b[1;33m[\u001b[0m\u001b[0mk\u001b[0m\u001b[1;33m]\u001b[0m \u001b[1;33m=\u001b[0m \u001b[1;36m1.0\u001b[0m\u001b[1;33m\u001b[0m\u001b[0m\n\u001b[0;32m    627\u001b[0m         \u001b[0md\u001b[0m \u001b[1;33m=\u001b[0m \u001b[0mepsilon\u001b[0m \u001b[1;33m*\u001b[0m \u001b[0mei\u001b[0m\u001b[1;33m\u001b[0m\u001b[0m\n\u001b[1;32m--> 628\u001b[1;33m         \u001b[0mgrad\u001b[0m\u001b[1;33m[\u001b[0m\u001b[0mk\u001b[0m\u001b[1;33m]\u001b[0m \u001b[1;33m=\u001b[0m \u001b[1;33m(\u001b[0m\u001b[0mf\u001b[0m\u001b[1;33m(\u001b[0m\u001b[1;33m*\u001b[0m\u001b[1;33m(\u001b[0m\u001b[1;33m(\u001b[0m\u001b[0mxk\u001b[0m \u001b[1;33m+\u001b[0m \u001b[0md\u001b[0m\u001b[1;33m,\u001b[0m\u001b[1;33m)\u001b[0m \u001b[1;33m+\u001b[0m \u001b[0margs\u001b[0m\u001b[1;33m)\u001b[0m\u001b[1;33m)\u001b[0m \u001b[1;33m-\u001b[0m \u001b[0mf0\u001b[0m\u001b[1;33m)\u001b[0m \u001b[1;33m/\u001b[0m \u001b[0md\u001b[0m\u001b[1;33m[\u001b[0m\u001b[0mk\u001b[0m\u001b[1;33m]\u001b[0m\u001b[1;33m\u001b[0m\u001b[0m\n\u001b[0m\u001b[0;32m    629\u001b[0m         \u001b[0mei\u001b[0m\u001b[1;33m[\u001b[0m\u001b[0mk\u001b[0m\u001b[1;33m]\u001b[0m \u001b[1;33m=\u001b[0m \u001b[1;36m0.0\u001b[0m\u001b[1;33m\u001b[0m\u001b[0m\n\u001b[0;32m    630\u001b[0m     \u001b[1;32mreturn\u001b[0m \u001b[0mgrad\u001b[0m\u001b[1;33m\u001b[0m\u001b[0m\n",
      "\u001b[1;32m~\\Anaconda3\\lib\\site-packages\\scipy\\optimize\\optimize.py\u001b[0m in \u001b[0;36mfunction_wrapper\u001b[1;34m(*wrapper_args)\u001b[0m\n\u001b[0;32m    290\u001b[0m     \u001b[1;32mdef\u001b[0m \u001b[0mfunction_wrapper\u001b[0m\u001b[1;33m(\u001b[0m\u001b[1;33m*\u001b[0m\u001b[0mwrapper_args\u001b[0m\u001b[1;33m)\u001b[0m\u001b[1;33m:\u001b[0m\u001b[1;33m\u001b[0m\u001b[0m\n\u001b[0;32m    291\u001b[0m         \u001b[0mncalls\u001b[0m\u001b[1;33m[\u001b[0m\u001b[1;36m0\u001b[0m\u001b[1;33m]\u001b[0m \u001b[1;33m+=\u001b[0m \u001b[1;36m1\u001b[0m\u001b[1;33m\u001b[0m\u001b[0m\n\u001b[1;32m--> 292\u001b[1;33m         \u001b[1;32mreturn\u001b[0m \u001b[0mfunction\u001b[0m\u001b[1;33m(\u001b[0m\u001b[1;33m*\u001b[0m\u001b[1;33m(\u001b[0m\u001b[0mwrapper_args\u001b[0m \u001b[1;33m+\u001b[0m \u001b[0margs\u001b[0m\u001b[1;33m)\u001b[0m\u001b[1;33m)\u001b[0m\u001b[1;33m\u001b[0m\u001b[0m\n\u001b[0m\u001b[0;32m    293\u001b[0m \u001b[1;33m\u001b[0m\u001b[0m\n\u001b[0;32m    294\u001b[0m     \u001b[1;32mreturn\u001b[0m \u001b[0mncalls\u001b[0m\u001b[1;33m,\u001b[0m \u001b[0mfunction_wrapper\u001b[0m\u001b[1;33m\u001b[0m\u001b[0m\n",
      "\u001b[1;32m~\\Anaconda3\\lib\\site-packages\\bayes_opt\\helpers.py\u001b[0m in \u001b[0;36m<lambda>\u001b[1;34m(x)\u001b[0m\n\u001b[0;32m     55\u001b[0m     \u001b[1;32mfor\u001b[0m \u001b[0mx_try\u001b[0m \u001b[1;32min\u001b[0m \u001b[0mx_seeds\u001b[0m\u001b[1;33m:\u001b[0m\u001b[1;33m\u001b[0m\u001b[0m\n\u001b[0;32m     56\u001b[0m         \u001b[1;31m# Find the minimum of minus the acquisition function\u001b[0m\u001b[1;33m\u001b[0m\u001b[1;33m\u001b[0m\u001b[0m\n\u001b[1;32m---> 57\u001b[1;33m         res = minimize(lambda x: -ac(x.reshape(1, -1), gp=gp, y_max=y_max),\n\u001b[0m\u001b[0;32m     58\u001b[0m                        \u001b[0mx_try\u001b[0m\u001b[1;33m.\u001b[0m\u001b[0mreshape\u001b[0m\u001b[1;33m(\u001b[0m\u001b[1;36m1\u001b[0m\u001b[1;33m,\u001b[0m \u001b[1;33m-\u001b[0m\u001b[1;36m1\u001b[0m\u001b[1;33m)\u001b[0m\u001b[1;33m,\u001b[0m\u001b[1;33m\u001b[0m\u001b[0m\n\u001b[0;32m     59\u001b[0m                        \u001b[0mbounds\u001b[0m\u001b[1;33m=\u001b[0m\u001b[0mbounds\u001b[0m\u001b[1;33m,\u001b[0m\u001b[1;33m\u001b[0m\u001b[0m\n",
      "\u001b[1;32m~\\Anaconda3\\lib\\site-packages\\bayes_opt\\helpers.py\u001b[0m in \u001b[0;36mutility\u001b[1;34m(self, x, gp, y_max)\u001b[0m\n\u001b[0;32m     93\u001b[0m     \u001b[1;32mdef\u001b[0m \u001b[0mutility\u001b[0m\u001b[1;33m(\u001b[0m\u001b[0mself\u001b[0m\u001b[1;33m,\u001b[0m \u001b[0mx\u001b[0m\u001b[1;33m,\u001b[0m \u001b[0mgp\u001b[0m\u001b[1;33m,\u001b[0m \u001b[0my_max\u001b[0m\u001b[1;33m)\u001b[0m\u001b[1;33m:\u001b[0m\u001b[1;33m\u001b[0m\u001b[0m\n\u001b[0;32m     94\u001b[0m         \u001b[1;32mif\u001b[0m \u001b[0mself\u001b[0m\u001b[1;33m.\u001b[0m\u001b[0mkind\u001b[0m \u001b[1;33m==\u001b[0m \u001b[1;34m'ucb'\u001b[0m\u001b[1;33m:\u001b[0m\u001b[1;33m\u001b[0m\u001b[0m\n\u001b[1;32m---> 95\u001b[1;33m             \u001b[1;32mreturn\u001b[0m \u001b[0mself\u001b[0m\u001b[1;33m.\u001b[0m\u001b[0m_ucb\u001b[0m\u001b[1;33m(\u001b[0m\u001b[0mx\u001b[0m\u001b[1;33m,\u001b[0m \u001b[0mgp\u001b[0m\u001b[1;33m,\u001b[0m \u001b[0mself\u001b[0m\u001b[1;33m.\u001b[0m\u001b[0mkappa\u001b[0m\u001b[1;33m)\u001b[0m\u001b[1;33m\u001b[0m\u001b[0m\n\u001b[0m\u001b[0;32m     96\u001b[0m         \u001b[1;32mif\u001b[0m \u001b[0mself\u001b[0m\u001b[1;33m.\u001b[0m\u001b[0mkind\u001b[0m \u001b[1;33m==\u001b[0m \u001b[1;34m'ei'\u001b[0m\u001b[1;33m:\u001b[0m\u001b[1;33m\u001b[0m\u001b[0m\n\u001b[0;32m     97\u001b[0m             \u001b[1;32mreturn\u001b[0m \u001b[0mself\u001b[0m\u001b[1;33m.\u001b[0m\u001b[0m_ei\u001b[0m\u001b[1;33m(\u001b[0m\u001b[0mx\u001b[0m\u001b[1;33m,\u001b[0m \u001b[0mgp\u001b[0m\u001b[1;33m,\u001b[0m \u001b[0my_max\u001b[0m\u001b[1;33m,\u001b[0m \u001b[0mself\u001b[0m\u001b[1;33m.\u001b[0m\u001b[0mxi\u001b[0m\u001b[1;33m)\u001b[0m\u001b[1;33m\u001b[0m\u001b[0m\n",
      "\u001b[1;32m~\\Anaconda3\\lib\\site-packages\\bayes_opt\\helpers.py\u001b[0m in \u001b[0;36m_ucb\u001b[1;34m(x, gp, kappa)\u001b[0m\n\u001b[0;32m    101\u001b[0m     \u001b[1;33m@\u001b[0m\u001b[0mstaticmethod\u001b[0m\u001b[1;33m\u001b[0m\u001b[0m\n\u001b[0;32m    102\u001b[0m     \u001b[1;32mdef\u001b[0m \u001b[0m_ucb\u001b[0m\u001b[1;33m(\u001b[0m\u001b[0mx\u001b[0m\u001b[1;33m,\u001b[0m \u001b[0mgp\u001b[0m\u001b[1;33m,\u001b[0m \u001b[0mkappa\u001b[0m\u001b[1;33m)\u001b[0m\u001b[1;33m:\u001b[0m\u001b[1;33m\u001b[0m\u001b[0m\n\u001b[1;32m--> 103\u001b[1;33m         \u001b[0mmean\u001b[0m\u001b[1;33m,\u001b[0m \u001b[0mstd\u001b[0m \u001b[1;33m=\u001b[0m \u001b[0mgp\u001b[0m\u001b[1;33m.\u001b[0m\u001b[0mpredict\u001b[0m\u001b[1;33m(\u001b[0m\u001b[0mx\u001b[0m\u001b[1;33m,\u001b[0m \u001b[0mreturn_std\u001b[0m\u001b[1;33m=\u001b[0m\u001b[1;32mTrue\u001b[0m\u001b[1;33m)\u001b[0m\u001b[1;33m\u001b[0m\u001b[0m\n\u001b[0m\u001b[0;32m    104\u001b[0m         \u001b[1;32mreturn\u001b[0m \u001b[0mmean\u001b[0m \u001b[1;33m+\u001b[0m \u001b[0mkappa\u001b[0m \u001b[1;33m*\u001b[0m \u001b[0mstd\u001b[0m\u001b[1;33m\u001b[0m\u001b[0m\n\u001b[0;32m    105\u001b[0m \u001b[1;33m\u001b[0m\u001b[0m\n",
      "\u001b[1;32m~\\Anaconda3\\lib\\site-packages\\sklearn\\gaussian_process\\gpr.py\u001b[0m in \u001b[0;36mpredict\u001b[1;34m(self, X, return_std, return_cov)\u001b[0m\n\u001b[0;32m    313\u001b[0m                 \u001b[1;32mreturn\u001b[0m \u001b[0my_mean\u001b[0m\u001b[1;33m\u001b[0m\u001b[0m\n\u001b[0;32m    314\u001b[0m         \u001b[1;32melse\u001b[0m\u001b[1;33m:\u001b[0m  \u001b[1;31m# Predict based on GP posterior\u001b[0m\u001b[1;33m\u001b[0m\u001b[0m\n\u001b[1;32m--> 315\u001b[1;33m             \u001b[0mK_trans\u001b[0m \u001b[1;33m=\u001b[0m \u001b[0mself\u001b[0m\u001b[1;33m.\u001b[0m\u001b[0mkernel_\u001b[0m\u001b[1;33m(\u001b[0m\u001b[0mX\u001b[0m\u001b[1;33m,\u001b[0m \u001b[0mself\u001b[0m\u001b[1;33m.\u001b[0m\u001b[0mX_train_\u001b[0m\u001b[1;33m)\u001b[0m\u001b[1;33m\u001b[0m\u001b[0m\n\u001b[0m\u001b[0;32m    316\u001b[0m             \u001b[0my_mean\u001b[0m \u001b[1;33m=\u001b[0m \u001b[0mK_trans\u001b[0m\u001b[1;33m.\u001b[0m\u001b[0mdot\u001b[0m\u001b[1;33m(\u001b[0m\u001b[0mself\u001b[0m\u001b[1;33m.\u001b[0m\u001b[0malpha_\u001b[0m\u001b[1;33m)\u001b[0m  \u001b[1;31m# Line 4 (y_mean = f_star)\u001b[0m\u001b[1;33m\u001b[0m\u001b[0m\n\u001b[0;32m    317\u001b[0m             \u001b[0my_mean\u001b[0m \u001b[1;33m=\u001b[0m \u001b[0mself\u001b[0m\u001b[1;33m.\u001b[0m\u001b[0m_y_train_mean\u001b[0m \u001b[1;33m+\u001b[0m \u001b[0my_mean\u001b[0m  \u001b[1;31m# undo normal.\u001b[0m\u001b[1;33m\u001b[0m\u001b[0m\n",
      "\u001b[1;32m~\\Anaconda3\\lib\\site-packages\\sklearn\\gaussian_process\\kernels.py\u001b[0m in \u001b[0;36m__call__\u001b[1;34m(self, X, Y, eval_gradient)\u001b[0m\n\u001b[0;32m   1322\u001b[0m                     \"Gradient can only be evaluated when Y is None.\")\n\u001b[0;32m   1323\u001b[0m             dists = cdist(X / length_scale, Y / length_scale,\n\u001b[1;32m-> 1324\u001b[1;33m                           metric='euclidean')\n\u001b[0m\u001b[0;32m   1325\u001b[0m \u001b[1;33m\u001b[0m\u001b[0m\n\u001b[0;32m   1326\u001b[0m         \u001b[1;32mif\u001b[0m \u001b[0mself\u001b[0m\u001b[1;33m.\u001b[0m\u001b[0mnu\u001b[0m \u001b[1;33m==\u001b[0m \u001b[1;36m0.5\u001b[0m\u001b[1;33m:\u001b[0m\u001b[1;33m\u001b[0m\u001b[0m\n",
      "\u001b[1;32m~\\Anaconda3\\lib\\site-packages\\scipy\\spatial\\distance.py\u001b[0m in \u001b[0;36mcdist\u001b[1;34m(XA, XB, metric, p, V, VI, w)\u001b[0m\n\u001b[0;32m   2204\u001b[0m             \u001b[0mXA\u001b[0m \u001b[1;33m=\u001b[0m \u001b[0mvalidate\u001b[0m\u001b[1;33m(\u001b[0m\u001b[0mXA\u001b[0m\u001b[1;33m)\u001b[0m\u001b[1;33m\u001b[0m\u001b[0m\n\u001b[0;32m   2205\u001b[0m             \u001b[0mXB\u001b[0m \u001b[1;33m=\u001b[0m \u001b[0mvalidate\u001b[0m\u001b[1;33m(\u001b[0m\u001b[0mXB\u001b[0m\u001b[1;33m)\u001b[0m\u001b[1;33m\u001b[0m\u001b[0m\n\u001b[1;32m-> 2206\u001b[1;33m             \u001b[0mcdist_fn\u001b[0m\u001b[1;33m(\u001b[0m\u001b[0mXA\u001b[0m\u001b[1;33m,\u001b[0m \u001b[0mXB\u001b[0m\u001b[1;33m,\u001b[0m \u001b[0mdm\u001b[0m\u001b[1;33m)\u001b[0m\u001b[1;33m\u001b[0m\u001b[0m\n\u001b[0m\u001b[0;32m   2207\u001b[0m             \u001b[1;32mreturn\u001b[0m \u001b[0mdm\u001b[0m\u001b[1;33m\u001b[0m\u001b[0m\n\u001b[0;32m   2208\u001b[0m         \u001b[1;32mexcept\u001b[0m \u001b[0mKeyError\u001b[0m\u001b[1;33m:\u001b[0m\u001b[1;33m\u001b[0m\u001b[0m\n",
      "\u001b[1;31mKeyboardInterrupt\u001b[0m: "
     ]
    }
   ],
   "source": [
    "def lgb_evaluate(min_data_in_leaf,\n",
    "                     bagging_fraction,\n",
    "                     feature_fraction,\n",
    "                     num_leaves,\n",
    "                     lambda_l2,\n",
    "                     ):\n",
    "\n",
    "        params['min_data_in_leaf'] = int(min_data_in_leaf)\n",
    "        params['bagging_fraction'] = max(min(bagging_fraction, 1), 0)\n",
    "        params['feature_fraction'] = max(min(feature_fraction, 1), 0)\n",
    "        params['num_leaves'] = int(num_leaves)\n",
    "        params['lambda_l2'] = max(lambda_l2, 0),\n",
    "\n",
    "\n",
    "\n",
    "\n",
    "        cv_result = lgb.cv(nfold=5,params=params, metrics='binary_logloss',stratified=False,train_set=lgbtrain,\n",
    "               num_boost_round=num_rounds,seed=random_state, callbacks=[lgb.callback.early_stopping(50)])\n",
    "        return -(cv_result.get('binary_logloss-mean')[-1])\n",
    "\n",
    "\n",
    "def prepare_data():\n",
    "        X = train[strong]\n",
    "        _X = lgb.Dataset(X, label=y)\n",
    "\n",
    "        return _X\n",
    "\n",
    "\n",
    "lgbtrain = prepare_data()\n",
    "\n",
    "num_rounds = 200\n",
    "random_state = 0\n",
    "num_iter = 1000\n",
    "init_points = 5\n",
    "params = {\n",
    "        'eta': 0.1,\n",
    "        'silent': 1,\n",
    "        'eval_metric': 'binary_logloss',\n",
    "        'verbose_eval': True,\n",
    "        'seed': random_state\n",
    "    }\n",
    "\n",
    "lgbBO = BayesianOptimization(lgb_evaluate, {'min_data_in_leaf': (4, 100),\n",
    "                                                'bagging_fraction': (0.5, 1),\n",
    "                                                'feature_fraction': (0.5, 1),\n",
    "                                                'num_leaves': (4, 100),\n",
    "                                                'lambda_l2': (0, 5),\n",
    "                                                })\n",
    "\n",
    "lgbBO.maximize(init_points=init_points, n_iter=num_iter)"
   ]
  },
  {
   "cell_type": "code",
   "execution_count": 215,
   "metadata": {
    "collapsed": true
   },
   "outputs": [],
   "source": [
    "params4 = {'bagging_fraction': 0.9458564289234204,\n",
    " 'feature_fraction': 0.5004666960515116,\n",
    " 'lambda_l2': 0.022577930769472343,\n",
    " 'min_data_in_leaf': 99,\n",
    " 'num_leaves': 13}"
   ]
  },
  {
   "cell_type": "markdown",
   "metadata": {},
   "source": [
    "# Validation"
   ]
  },
  {
   "cell_type": "code",
   "execution_count": 15,
   "metadata": {
    "collapsed": true
   },
   "outputs": [],
   "source": [
    "folds = KFold(n_splits=5, shuffle=True, random_state=0)"
   ]
  },
  {
   "cell_type": "code",
   "execution_count": 104,
   "metadata": {},
   "outputs": [
    {
     "data": {
      "application/vnd.jupyter.widget-view+json": {
       "model_id": "9b672e5f00e641568adcdb0ec534ff8c",
       "version_major": 2,
       "version_minor": 0
      },
      "text/plain": [
       "A Jupyter Widget"
      ]
     },
     "metadata": {},
     "output_type": "display_data"
    },
    {
     "name": "stdout",
     "output_type": "stream",
     "text": [
      "\n",
      "oof log_loss: 0.1628696551515784\n",
      "oof roc_auc: 0.9119577244555006\n",
      "oof f1_score: 0.5340878469415252\n",
      "train log_loss: 0.15074728123441578\n",
      "train roc_auc: 0.9343313059337881\n",
      "train f1_score: 0.5766009186706296\n"
     ]
    }
   ],
   "source": [
    "params5 = {'bagging_fraction': 0.9458564289234204,\n",
    " 'feature_fraction': 0.5004666960515116,\n",
    " 'lambda_l2': 0.022577930769472343,\n",
    " 'min_data_in_leaf': 99,\n",
    " 'num_leaves': 13}\n",
    "model = LGBWrapper(params5)\n",
    "cvpred = get_oof_pred(model, train, y, KFold(n_splits=5, shuffle=True, random_state=0))\n",
    "model.fit(train, y)\n",
    "pred = model.predict(train)\n",
    "print('oof log_loss: {}'.format(log_loss(y, cvpred)))\n",
    "print('oof roc_auc: {}'.format(roc_auc_score(y, cvpred)))\n",
    "\n",
    "def minus_f_score(cutoff):\n",
    "    if (cutoff < 0) or (cutoff > 1):\n",
    "        return np.inf\n",
    "    else:\n",
    "        return - 1* f1_score(y, 1 * (cvpred > cutoff))   \n",
    "    \n",
    "cutoff_null = [0]\n",
    "cut_f_min = fmin(minus_f_score, cutoff_null, disp=False)\n",
    "cut = cut_f_min[0]\n",
    "print('oof f1_score: {}'.format(f1_score(y, 1 * (cvpred > cut))))\n",
    "\n",
    "print('train log_loss: {}'.format(log_loss(y, pred)))\n",
    "print('train roc_auc: {}'.format(roc_auc_score(y, pred)))\n",
    "print('train f1_score: {}'.format(f1_score(y, 1 * (pred > cut))))"
   ]
  },
  {
   "cell_type": "markdown",
   "metadata": {},
   "source": [
    "# LOAD 2-nd MODEL FROM WNS_starter_2"
   ]
  },
  {
   "cell_type": "code",
   "execution_count": 61,
   "metadata": {
    "collapsed": true
   },
   "outputs": [],
   "source": [
    "cvpred_lgb2 = pd.read_csv('oof.csv').is_promoted.values"
   ]
  },
  {
   "cell_type": "code",
   "execution_count": 55,
   "metadata": {
    "collapsed": true
   },
   "outputs": [],
   "source": [
    "cvpred_lgb, cvpred_lgb2"
   ]
  },
  {
   "cell_type": "markdown",
   "metadata": {},
   "source": [
    "# Cutoff selection"
   ]
  },
  {
   "cell_type": "code",
   "execution_count": 105,
   "metadata": {
    "collapsed": true
   },
   "outputs": [],
   "source": [
    "def minus_f_score(m):\n",
    "    cutoff, w1 = m\n",
    "    cvpreds = w1*cvpred_lgb +  (1-w1)*cvpred_lgb2\n",
    "    if (cutoff < 0) or (cutoff > 1):\n",
    "        return np.inf\n",
    "    elif (w1 < 0) or (w1 > 1):\n",
    "        return np.inf\n",
    "    else:\n",
    "        return - 1* f1_score(y, 1 * (cvpreds > cutoff))   "
   ]
  },
  {
   "cell_type": "code",
   "execution_count": 106,
   "metadata": {},
   "outputs": [
    {
     "name": "stdout",
     "output_type": "stream",
     "text": [
      "Optimization terminated successfully.\n",
      "         Current function value: -0.537037\n",
      "         Iterations: 49\n",
      "         Function evaluations: 108\n",
      "cutoff:  0.26892412357610007 0.750349262739415\n"
     ]
    }
   ],
   "source": [
    "cutoff_null = [0, 0.5]\n",
    "cut_f_min = fmin(minus_f_score, cutoff_null)\n",
    "cut, w = cut_f_min\n",
    "print('cutoff: ', cut, w)"
   ]
  },
  {
   "cell_type": "code",
   "execution_count": 107,
   "metadata": {},
   "outputs": [
    {
     "name": "stdout",
     "output_type": "stream",
     "text": [
      "f1_score: 0.537037037037037\n",
      "recall_score: 0.42245072836332476\n",
      "precision_score: 0.7369207772795217\n"
     ]
    }
   ],
   "source": [
    "print('f1_score: {}'.format(f1_score(y, 1 * (w*cvpred_lgb +  (1-w)*cvpred_lgb2 > cut))))\n",
    "print('recall_score: {}'.format(recall_score(y, 1 * (w*cvpred_lgb +  (1-w)*cvpred_lgb2 > cut))))\n",
    "print('precision_score: {}'.format(precision_score(y, 1 * (w*cvpred_lgb +  (1-w)*cvpred_lgb2 > cut))))"
   ]
  },
  {
   "cell_type": "markdown",
   "metadata": {},
   "source": [
    "# Make prediction:"
   ]
  },
  {
   "cell_type": "code",
   "execution_count": 17,
   "metadata": {
    "collapsed": true
   },
   "outputs": [],
   "source": [
    "train = pd.read_csv('train_strong2.csv')\n",
    "test = pd.read_csv('test_strong2.csv')"
   ]
  },
  {
   "cell_type": "code",
   "execution_count": 51,
   "metadata": {
    "collapsed": true
   },
   "outputs": [],
   "source": [
    "params4 = {'bagging_fraction': 0.9458564289234204,\n",
    " 'feature_fraction': 0.5004666960515116,\n",
    " 'lambda_l2': 0.022577930769472343,\n",
    " 'min_data_in_leaf': 99,\n",
    " 'num_leaves': 13}\n",
    "model = LGBWrapper(params5)"
   ]
  },
  {
   "cell_type": "code",
   "execution_count": 74,
   "metadata": {},
   "outputs": [
    {
     "data": {
      "application/vnd.jupyter.widget-view+json": {
       "model_id": "161eaaf16ea04a3bad5c68f8a5a5d89b",
       "version_major": 2,
       "version_minor": 0
      },
      "text/plain": [
       "A Jupyter Widget"
      ]
     },
     "metadata": {},
     "output_type": "display_data"
    },
    {
     "name": "stdout",
     "output_type": "stream",
     "text": [
      "\n"
     ]
    }
   ],
   "source": [
    "def get_oof_cv(model, X, y, test, folds):    \n",
    "    pred = np.zeros(test.shape[0])\n",
    "    for tr, te in tqdm_notebook(folds.split(X, y)):\n",
    "        X_tr, X_te = X.loc[tr], X.loc[te]\n",
    "        y_tr, y_te = y[tr], y[te]\n",
    "        model.fit(X_tr, y_tr)\n",
    "        pred += model.predict(test)\n",
    "    pred /= folds.get_n_splits()\n",
    "    return  pred\n",
    "\n",
    "model = MWrapper(RandomForestClassifier(max_depth=7, max_features=0.5))\n",
    "pred_cv_rf = get_oof_cv(model, train,y, test, KFold(n_splits=5, shuffle=True, random_state=0))"
   ]
  },
  {
   "cell_type": "code",
   "execution_count": null,
   "metadata": {
    "collapsed": true
   },
   "outputs": [],
   "source": [
    "pred_cv_lgb2 = pd.read_csv('sub2.csv')"
   ]
  },
  {
   "cell_type": "code",
   "execution_count": 98,
   "metadata": {
    "collapsed": true
   },
   "outputs": [],
   "source": [
    "pred = w*pred_cv_lgb + (1-w)*pred_cv_lgb2"
   ]
  },
  {
   "cell_type": "code",
   "execution_count": 99,
   "metadata": {
    "collapsed": true
   },
   "outputs": [],
   "source": [
    "sub['is_promoted'] = 1 * (pred > cut)"
   ]
  },
  {
   "cell_type": "code",
   "execution_count": 100,
   "metadata": {
    "collapsed": true
   },
   "outputs": [],
   "source": [
    "sub.to_csv('mix_opt.csv', index=False)"
   ]
  },
  {
   "cell_type": "code",
   "execution_count": 90,
   "metadata": {},
   "outputs": [
    {
     "data": {
      "text/plain": [
       "0.04355044699872286"
      ]
     },
     "execution_count": 90,
     "metadata": {},
     "output_type": "execute_result"
    }
   ],
   "source": [
    "sub['is_promoted'].mean()"
   ]
  }
 ],
 "metadata": {
  "kernelspec": {
   "display_name": "Python 3",
   "language": "python",
   "name": "python3"
  },
  "language_info": {
   "codemirror_mode": {
    "name": "ipython",
    "version": 3
   },
   "file_extension": ".py",
   "mimetype": "text/x-python",
   "name": "python",
   "nbconvert_exporter": "python",
   "pygments_lexer": "ipython3",
   "version": "3.7.6"
  }
 },
 "nbformat": 4,
 "nbformat_minor": 2
}
